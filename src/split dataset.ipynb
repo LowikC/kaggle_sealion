{
 "cells": [
  {
   "cell_type": "code",
   "execution_count": 18,
   "metadata": {
    "collapsed": true
   },
   "outputs": [],
   "source": [
    "import os\n",
    "import numpy as np\n",
    "import json"
   ]
  },
  {
   "cell_type": "code",
   "execution_count": 13,
   "metadata": {
    "collapsed": true
   },
   "outputs": [],
   "source": [
    "train_dir = \"/home/lowik/sealion/data/sealion/Train/\""
   ]
  },
  {
   "cell_type": "code",
   "execution_count": 23,
   "metadata": {
    "collapsed": true
   },
   "outputs": [],
   "source": [
    "def split_train_val_test(train_dir, p_train=0.6, p_val=0.2, seed=42):\n",
    "    np.random.seed(seed)\n",
    "    filenames = [filename for filename in os.listdir(train_dir) if filename.endswith(\".jpg\")]\n",
    "    n_filenames = len(filenames)\n",
    "    n_train = int(p_train * n_filenames)\n",
    "    n_val = int(p_val * n_filenames)\n",
    "    n_test = n_filenames - n_train - n_val\n",
    "    shuffled_filenames = np.random.permutation(filenames)\n",
    "    train_filenames = shuffled_filenames[:n_train]\n",
    "    val_filenames = shuffled_filenames[n_train:n_train+n_val]\n",
    "    test_filenames = shuffled_filenames[n_train+n_val:]\n",
    "    return train_filenames, val_filenames, test_filenames"
   ]
  },
  {
   "cell_type": "code",
   "execution_count": 24,
   "metadata": {
    "collapsed": true
   },
   "outputs": [],
   "source": [
    "train_filenames, val_filenames, test_filenames = split_train_val_test(train_dir)"
   ]
  },
  {
   "cell_type": "code",
   "execution_count": 25,
   "metadata": {},
   "outputs": [],
   "source": [
    "with open(\"../data/sealion/train.json\", \"w\") as ofile:\n",
    "    json.dump(list(train_filenames), ofile, indent=2)\n",
    "with open(\"../data/sealion/val.json\", \"w\") as ofile:\n",
    "    json.dump(list(val_filenames), ofile, indent=2)\n",
    "with open(\"../data/sealion/test.json\", \"w\") as ofile:\n",
    "    json.dump(list(test_filenames), ofile, indent=2)"
   ]
  },
  {
   "cell_type": "code",
   "execution_count": 28,
   "metadata": {},
   "outputs": [
    {
     "name": "stdout",
     "output_type": "stream",
     "text": [
      "[\r\n",
      "  \"320.jpg\",\r\n",
      "  \"193.jpg\",\r\n",
      "  \"795.jpg\",\r\n"
     ]
    }
   ],
   "source": [
    "!head -n 4 \"../data/sealion/train.json\""
   ]
  },
  {
   "cell_type": "code",
   "execution_count": 29,
   "metadata": {},
   "outputs": [
    {
     "name": "stdout",
     "output_type": "stream",
     "text": [
      "569 ../data/sealion/train.json\r\n"
     ]
    }
   ],
   "source": [
    "!wc -l \"../data/sealion/train.json\""
   ]
  },
  {
   "cell_type": "code",
   "execution_count": null,
   "metadata": {
    "collapsed": true
   },
   "outputs": [],
   "source": []
  }
 ],
 "metadata": {
  "kernelspec": {
   "display_name": "Python 3",
   "language": "python",
   "name": "python3"
  },
  "language_info": {
   "codemirror_mode": {
    "name": "ipython",
    "version": 3
   },
   "file_extension": ".py",
   "mimetype": "text/x-python",
   "name": "python",
   "nbconvert_exporter": "python",
   "pygments_lexer": "ipython3",
   "version": "3.5.2"
  }
 },
 "nbformat": 4,
 "nbformat_minor": 2
}
