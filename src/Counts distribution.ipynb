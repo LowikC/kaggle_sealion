{
 "cells": [
  {
   "cell_type": "code",
   "execution_count": 1,
   "metadata": {
    "collapsed": true
   },
   "outputs": [],
   "source": [
    "import numpy as pd\n",
    "import pandas as pd\n",
    "import matplotlib.pyplot as plt\n",
    "%matplotlib inline"
   ]
  },
  {
   "cell_type": "code",
   "execution_count": 2,
   "metadata": {
    "collapsed": true
   },
   "outputs": [],
   "source": [
    "df = pd.read_csv(\"../data/sealion/my_correct_counts.csv\")"
   ]
  },
  {
   "cell_type": "code",
   "execution_count": 3,
   "metadata": {},
   "outputs": [
    {
     "data": {
      "text/html": [
       "<div>\n",
       "<table border=\"1\" class=\"dataframe\">\n",
       "  <thead>\n",
       "    <tr style=\"text-align: right;\">\n",
       "      <th></th>\n",
       "      <th>train_id</th>\n",
       "      <th>adult_males</th>\n",
       "      <th>subadult_males</th>\n",
       "      <th>adult_females</th>\n",
       "      <th>juveniles</th>\n",
       "      <th>pups</th>\n",
       "    </tr>\n",
       "  </thead>\n",
       "  <tbody>\n",
       "    <tr>\n",
       "      <th>count</th>\n",
       "      <td>948.000000</td>\n",
       "      <td>948.000000</td>\n",
       "      <td>948.000000</td>\n",
       "      <td>948.000000</td>\n",
       "      <td>948.000000</td>\n",
       "      <td>948.000000</td>\n",
       "    </tr>\n",
       "    <tr>\n",
       "      <th>mean</th>\n",
       "      <td>473.500000</td>\n",
       "      <td>5.532700</td>\n",
       "      <td>4.367089</td>\n",
       "      <td>38.742616</td>\n",
       "      <td>20.713080</td>\n",
       "      <td>17.069620</td>\n",
       "    </tr>\n",
       "    <tr>\n",
       "      <th>std</th>\n",
       "      <td>273.808327</td>\n",
       "      <td>7.570017</td>\n",
       "      <td>6.347575</td>\n",
       "      <td>67.760676</td>\n",
       "      <td>41.059592</td>\n",
       "      <td>48.040433</td>\n",
       "    </tr>\n",
       "    <tr>\n",
       "      <th>min</th>\n",
       "      <td>0.000000</td>\n",
       "      <td>0.000000</td>\n",
       "      <td>0.000000</td>\n",
       "      <td>0.000000</td>\n",
       "      <td>0.000000</td>\n",
       "      <td>0.000000</td>\n",
       "    </tr>\n",
       "    <tr>\n",
       "      <th>25%</th>\n",
       "      <td>236.750000</td>\n",
       "      <td>1.000000</td>\n",
       "      <td>1.000000</td>\n",
       "      <td>1.000000</td>\n",
       "      <td>1.000000</td>\n",
       "      <td>0.000000</td>\n",
       "    </tr>\n",
       "    <tr>\n",
       "      <th>50%</th>\n",
       "      <td>473.500000</td>\n",
       "      <td>3.000000</td>\n",
       "      <td>2.000000</td>\n",
       "      <td>15.000000</td>\n",
       "      <td>8.000000</td>\n",
       "      <td>0.000000</td>\n",
       "    </tr>\n",
       "    <tr>\n",
       "      <th>75%</th>\n",
       "      <td>710.250000</td>\n",
       "      <td>6.000000</td>\n",
       "      <td>5.000000</td>\n",
       "      <td>44.000000</td>\n",
       "      <td>26.000000</td>\n",
       "      <td>5.000000</td>\n",
       "    </tr>\n",
       "    <tr>\n",
       "      <th>max</th>\n",
       "      <td>947.000000</td>\n",
       "      <td>64.000000</td>\n",
       "      <td>55.000000</td>\n",
       "      <td>681.000000</td>\n",
       "      <td>636.000000</td>\n",
       "      <td>529.000000</td>\n",
       "    </tr>\n",
       "  </tbody>\n",
       "</table>\n",
       "</div>"
      ],
      "text/plain": [
       "         train_id  adult_males  subadult_males  adult_females   juveniles  \\\n",
       "count  948.000000   948.000000      948.000000     948.000000  948.000000   \n",
       "mean   473.500000     5.532700        4.367089      38.742616   20.713080   \n",
       "std    273.808327     7.570017        6.347575      67.760676   41.059592   \n",
       "min      0.000000     0.000000        0.000000       0.000000    0.000000   \n",
       "25%    236.750000     1.000000        1.000000       1.000000    1.000000   \n",
       "50%    473.500000     3.000000        2.000000      15.000000    8.000000   \n",
       "75%    710.250000     6.000000        5.000000      44.000000   26.000000   \n",
       "max    947.000000    64.000000       55.000000     681.000000  636.000000   \n",
       "\n",
       "             pups  \n",
       "count  948.000000  \n",
       "mean    17.069620  \n",
       "std     48.040433  \n",
       "min      0.000000  \n",
       "25%      0.000000  \n",
       "50%      0.000000  \n",
       "75%      5.000000  \n",
       "max    529.000000  "
      ]
     },
     "execution_count": 3,
     "metadata": {},
     "output_type": "execute_result"
    }
   ],
   "source": [
    "df.describe()"
   ]
  },
  {
   "cell_type": "code",
   "execution_count": null,
   "metadata": {
    "collapsed": true
   },
   "outputs": [],
   "source": []
  }
 ],
 "metadata": {
  "kernelspec": {
   "display_name": "Python 3",
   "language": "python",
   "name": "python3"
  },
  "language_info": {
   "codemirror_mode": {
    "name": "ipython",
    "version": 3
   },
   "file_extension": ".py",
   "mimetype": "text/x-python",
   "name": "python",
   "nbconvert_exporter": "python",
   "pygments_lexer": "ipython3",
   "version": "3.5.2"
  }
 },
 "nbformat": 4,
 "nbformat_minor": 2
}
