{
 "cells": [
  {
   "cell_type": "code",
   "execution_count": 1,
   "metadata": {
    "collapsed": true
   },
   "outputs": [],
   "source": [
    "import os\n",
    "import cv2\n",
    "import progressbar\n",
    "import numpy as np\n",
    "from skimage.transform import rescale"
   ]
  },
  {
   "cell_type": "code",
   "execution_count": 2,
   "metadata": {
    "collapsed": true
   },
   "outputs": [],
   "source": [
    "dst_dir = \"../data/sealion/Train2x\"\n",
    "src_dir = \"../data/sealion/Train\""
   ]
  },
  {
   "cell_type": "code",
   "execution_count": 6,
   "metadata": {
    "collapsed": true
   },
   "outputs": [],
   "source": [
    "os.makedirs(dst_dir)"
   ]
  },
  {
   "cell_type": "code",
   "execution_count": null,
   "metadata": {},
   "outputs": [
    {
     "name": "stderr",
     "output_type": "stream",
     "text": [
      " 49% (471 of 949) |###########             | Elapsed Time: 0:05:17 ETA: 0:05:38"
     ]
    }
   ],
   "source": [
    "scale = 2\n",
    "fns = os.listdir(src_dir)\n",
    "with progressbar.ProgressBar(min_value=0, max_value=len(fns)) as pbar:\n",
    "    for i, fn in enumerate(fns):\n",
    "        im_fn = os.path.join(src_dir, fn)\n",
    "        im = cv2.imread(im_fn)\n",
    "        if im is not None:\n",
    "            h, w, c = im.shape\n",
    "            im_resized = cv2.resize(im, (w//scale, h//scale), interpolation=cv2.INTER_LINEAR)\n",
    "            cv2.imwrite(os.path.join(dst_dir, fn), im_resized)\n",
    "        pbar.update(i)"
   ]
  },
  {
   "cell_type": "code",
   "execution_count": null,
   "metadata": {
    "collapsed": true
   },
   "outputs": [],
   "source": [
    "np.load(\"../data/sealion/Train\")"
   ]
  }
 ],
 "metadata": {
  "kernelspec": {
   "display_name": "Python 3",
   "language": "python",
   "name": "python3"
  },
  "language_info": {
   "codemirror_mode": {
    "name": "ipython",
    "version": 3
   },
   "file_extension": ".py",
   "mimetype": "text/x-python",
   "name": "python",
   "nbconvert_exporter": "python",
   "pygments_lexer": "ipython3",
   "version": "3.5.2"
  }
 },
 "nbformat": 4,
 "nbformat_minor": 2
}
