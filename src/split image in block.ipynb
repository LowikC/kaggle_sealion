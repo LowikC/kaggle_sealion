{
 "cells": [
  {
   "cell_type": "code",
   "execution_count": 6,
   "metadata": {
    "collapsed": true
   },
   "outputs": [],
   "source": [
    "import numpy as np\n",
    "import cv2\n",
    "import matplotlib.pyplot as plt\n",
    "import pickle\n",
    "%matplotlib inline"
   ]
  },
  {
   "cell_type": "code",
   "execution_count": 2,
   "metadata": {
    "collapsed": true
   },
   "outputs": [],
   "source": [
    "sealion_types = [\"adult_males\", \n",
    "    \"subadult_males\",\n",
    "    \"adult_females\",\n",
    "    \"juveniles\",\n",
    "    \"pups\"]"
   ]
  },
  {
   "cell_type": "code",
   "execution_count": 27,
   "metadata": {
    "collapsed": true
   },
   "outputs": [],
   "source": [
    "def count_inside(rect, dots, margin=12):\n",
    "    x_start, y_start, x_end, y_end = rect\n",
    "    counts = []\n",
    "    for sealion in sealion_types:\n",
    "        count = 0\n",
    "        cdots = dots[sealion] if sealion in dots else []\n",
    "        for x, y in cdots:\n",
    "            if x_start + margin <= x < x_end - margin and \\\n",
    "            y_start + margin <= y < y_end - margin:\n",
    "                count += 1\n",
    "        counts.append(count)\n",
    "    return counts"
   ]
  },
  {
   "cell_type": "code",
   "execution_count": 28,
   "metadata": {
    "collapsed": true
   },
   "outputs": [],
   "source": [
    "def generate_train_counts(im_train, im_mask, dots, block_shape=(224, 224), stride=(160, 160)):\n",
    "    im_train_masked = cv2.bitwise_and(im_train, im_train, mask=im_mask)\n",
    "    \n",
    "    threshold_mask = 0.9  # if less than 90% of the pixels on the patch are useful (not masked), then we don't return it\n",
    "    \n",
    "    h, w, c = im_train.shape\n",
    "    ys = list(range(0, h - block_shape[0], stride[0]))\n",
    "    if ys[-1] != h - block_shape[0] - 1:\n",
    "        ys.append(h - block_shape[0] - 1)\n",
    "        \n",
    "    xs = list(range(0, w - block_shape[1], stride[1]))\n",
    "    if xs[-1] != w - block_shape[1] - 1:\n",
    "        xs.append(w - block_shape[1] - 1)\n",
    "        \n",
    "    for y in ys:\n",
    "        y_end = y + block_shape[0]\n",
    "        for x in xs:\n",
    "            x_end = x + block_shape[1]\n",
    "            im_mask_patch = im_mask[y:y_end, x:x_end]\n",
    "            n_white_pixels = np.sum(im_mask_patch)/255\n",
    "            percentage_inside = n_white_pixels/(block_shape[0] * block_shape[1])\n",
    "            if percentage_inside > threshold_mask:\n",
    "                im_train_patch = im_train_masked[y:y_end, x:x_end, :]\n",
    "                counts = count_inside((x, y, x_end, y_end), dots)\n",
    "                yield im_train_patch, counts"
   ]
  },
  {
   "cell_type": "code",
   "execution_count": 29,
   "metadata": {
    "collapsed": true
   },
   "outputs": [],
   "source": [
    "im_train = cv2.imread(\"../data/sealion/Train/101.jpg\")\n",
    "im_mask = cv2.imread(\"../data/sealion/TrainMask/101.jpg\", cv2.IMREAD_GRAYSCALE)\n",
    "with open(\"../data/sealion/TrainDots/101.pkl\", \"rb\") as ifile:\n",
    "    dots = pickle.load(ifile)"
   ]
  },
  {
   "cell_type": "code",
   "execution_count": 30,
   "metadata": {
    "collapsed": true
   },
   "outputs": [],
   "source": [
    "for i, (patch, counts) in enumerate(generate_train_counts(im_train, im_mask, dots)):\n",
    "    if 5 < np.sum(counts) < 10:\n",
    "        cv2.imwrite(\"../data/gg/{p}.jpg\".format(p=i), patch)"
   ]
  },
  {
   "cell_type": "code",
   "execution_count": null,
   "metadata": {
    "collapsed": true
   },
   "outputs": [],
   "source": []
  }
 ],
 "metadata": {
  "kernelspec": {
   "display_name": "Python 3",
   "language": "python",
   "name": "python3"
  },
  "language_info": {
   "codemirror_mode": {
    "name": "ipython",
    "version": 3
   },
   "file_extension": ".py",
   "mimetype": "text/x-python",
   "name": "python",
   "nbconvert_exporter": "python",
   "pygments_lexer": "ipython3",
   "version": "3.5.2"
  }
 },
 "nbformat": 4,
 "nbformat_minor": 2
}
