{
 "cells": [
  {
   "cell_type": "code",
   "execution_count": 18,
   "metadata": {
    "collapsed": true
   },
   "outputs": [],
   "source": [
    "import numpy as np\n",
    "import matplotlib.pyplot as plt\n",
    "import cv2\n",
    "import os\n",
    "import json\n",
    "import pickle\n",
    "import scipy"
   ]
  },
  {
   "cell_type": "code",
   "execution_count": 5,
   "metadata": {
    "collapsed": true
   },
   "outputs": [],
   "source": [
    "with open(\"../data/sealion/TrainDots/872.pkl\", \"rb\") as pfile:\n",
    "    dots = pickle.load(pfile)"
   ]
  },
  {
   "cell_type": "code",
   "execution_count": 9,
   "metadata": {
    "collapsed": true
   },
   "outputs": [],
   "source": [
    "im = cv2.imread(\"../data/sealion/Train/872.jpg\")"
   ]
  },
  {
   "cell_type": "code",
   "execution_count": 10,
   "metadata": {
    "collapsed": true
   },
   "outputs": [],
   "source": [
    "gt = np.zeros(im.shape[:2])"
   ]
  },
  {
   "cell_type": "code",
   "execution_count": 11,
   "metadata": {},
   "outputs": [
    {
     "data": {
      "text/plain": [
       "(3744, 5616)"
      ]
     },
     "execution_count": 11,
     "metadata": {},
     "output_type": "execute_result"
    }
   ],
   "source": [
    "gt.shape"
   ]
  },
  {
   "cell_type": "code",
   "execution_count": 15,
   "metadata": {},
   "outputs": [],
   "source": [
    "for s , ds in dots.items():\n",
    "    for x, y in ds:\n",
    "        gt[int(np.round(y)), int(np.round(x))] = 1"
   ]
  },
  {
   "cell_type": "code",
   "execution_count": 28,
   "metadata": {},
   "outputs": [],
   "source": [
    "pts = np.array(list(zip(np.nonzero(gt)[1], np.nonzero(gt)[0])))"
   ]
  },
  {
   "cell_type": "code",
   "execution_count": 29,
   "metadata": {},
   "outputs": [
    {
     "data": {
      "text/plain": [
       "array([[3258,  628],\n",
       "       [3150,  642],\n",
       "       [3258,  658],\n",
       "       [3252,  684],\n",
       "       [3269,  709],\n",
       "       [3550,  717],\n",
       "       [3318,  727],\n",
       "       [3529,  735],\n",
       "       [3308,  749],\n",
       "       [3079,  752],\n",
       "       [3238,  755],\n",
       "       [3346,  763],\n",
       "       [3278,  772],\n",
       "       [3485,  773],\n",
       "       [3862,  788],\n",
       "       [3304,  791],\n",
       "       [3388,  796],\n",
       "       [3777,  811],\n",
       "       [3106,  812],\n",
       "       [3363,  814],\n",
       "       [3478,  815],\n",
       "       [3524,  818],\n",
       "       [3193,  819],\n",
       "       [3328,  827],\n",
       "       [3384,  827],\n",
       "       [3100,  837],\n",
       "       [3070,  840],\n",
       "       [3237,  842],\n",
       "       [3503,  842],\n",
       "       [3155,  844],\n",
       "       [4156,  863],\n",
       "       [3446,  869],\n",
       "       [3500,  874],\n",
       "       [3966,  879],\n",
       "       [3854,  880],\n",
       "       [3242,  887],\n",
       "       [2982,  893],\n",
       "       [3077,  894],\n",
       "       [3296,  895],\n",
       "       [3904,  896],\n",
       "       [4011,  899],\n",
       "       [3134,  902],\n",
       "       [3201,  905],\n",
       "       [3840,  917],\n",
       "       [3055,  919],\n",
       "       [3082,  922],\n",
       "       [3289,  926],\n",
       "       [3240,  932],\n",
       "       [3272,  932],\n",
       "       [3990,  935],\n",
       "       [3893,  938],\n",
       "       [3212,  939],\n",
       "       [2954,  941],\n",
       "       [3953,  942],\n",
       "       [3038,  947],\n",
       "       [3135,  947],\n",
       "       [3073,  953],\n",
       "       [3094,  953],\n",
       "       [4171,  954],\n",
       "       [3978,  958],\n",
       "       [3992,  958],\n",
       "       [4126,  958],\n",
       "       [3433,  960],\n",
       "       [3027,  962],\n",
       "       [3889,  962],\n",
       "       [4065,  965],\n",
       "       [3217,  967],\n",
       "       [4015,  972],\n",
       "       [2997,  975],\n",
       "       [3138,  978],\n",
       "       [2931,  980],\n",
       "       [4142,  983],\n",
       "       [3291,  984],\n",
       "       [3048,  986],\n",
       "       [3964,  986],\n",
       "       [3894,  988],\n",
       "       [3465,  991],\n",
       "       [3829,  992],\n",
       "       [3019,  999],\n",
       "       [4135,  999],\n",
       "       [3561, 1001],\n",
       "       [3233, 1007],\n",
       "       [3059, 1010],\n",
       "       [3000, 1013],\n",
       "       [3044, 1013],\n",
       "       [3199, 1019],\n",
       "       [3977, 1024],\n",
       "       [3526, 1025],\n",
       "       [3882, 1026],\n",
       "       [3106, 1028],\n",
       "       [3171, 1028],\n",
       "       [3225, 1036],\n",
       "       [4129, 1036],\n",
       "       [3865, 1053],\n",
       "       [2987, 1054],\n",
       "       [3092, 1054],\n",
       "       [3056, 1057],\n",
       "       [3023, 1058],\n",
       "       [3218, 1061],\n",
       "       [3593, 1061],\n",
       "       [3180, 1067],\n",
       "       [3802, 1072],\n",
       "       [3568, 1081],\n",
       "       [3129, 1085],\n",
       "       [3475, 1087],\n",
       "       [3348, 1090],\n",
       "       [2875, 1099],\n",
       "       [3243, 1101],\n",
       "       [3111, 1102],\n",
       "       [3607, 1103],\n",
       "       [3431, 1104],\n",
       "       [3782, 1106],\n",
       "       [4021, 1108],\n",
       "       [3189, 1112],\n",
       "       [3839, 1113],\n",
       "       [2972, 1118],\n",
       "       [3521, 1119],\n",
       "       [3775, 1119],\n",
       "       [3915, 1120],\n",
       "       [4062, 1122],\n",
       "       [3388, 1123],\n",
       "       [3300, 1128],\n",
       "       [3043, 1130],\n",
       "       [3254, 1130],\n",
       "       [2945, 1134],\n",
       "       [3679, 1143],\n",
       "       [3738, 1144],\n",
       "       [3547, 1146],\n",
       "       [2970, 1148],\n",
       "       [3513, 1148],\n",
       "       [3612, 1151],\n",
       "       [3877, 1153],\n",
       "       [4015, 1154],\n",
       "       [3988, 1158],\n",
       "       [3391, 1159],\n",
       "       [3150, 1162],\n",
       "       [3053, 1169],\n",
       "       [3831, 1175],\n",
       "       [3674, 1178],\n",
       "       [3608, 1181],\n",
       "       [3093, 1182],\n",
       "       [3787, 1182],\n",
       "       [3375, 1185],\n",
       "       [3301, 1187],\n",
       "       [4069, 1188],\n",
       "       [3734, 1190],\n",
       "       [3974, 1196],\n",
       "       [3242, 1199],\n",
       "       [3908, 1199],\n",
       "       [3775, 1200],\n",
       "       [3367, 1205],\n",
       "       [3566, 1208],\n",
       "       [3632, 1222],\n",
       "       [3964, 1224],\n",
       "       [3694, 1228],\n",
       "       [3773, 1231],\n",
       "       [3107, 1237],\n",
       "       [3975, 1237],\n",
       "       [3145, 1240],\n",
       "       [3175, 1244],\n",
       "       [4036, 1244],\n",
       "       [3708, 1247],\n",
       "       [3639, 1248],\n",
       "       [3567, 1249],\n",
       "       [3956, 1251],\n",
       "       [3674, 1255],\n",
       "       [3606, 1257],\n",
       "       [3883, 1258],\n",
       "       [3654, 1265],\n",
       "       [3696, 1265],\n",
       "       [3281, 1280],\n",
       "       [3579, 1289],\n",
       "       [3604, 1294],\n",
       "       [3978, 1300],\n",
       "       [4058, 1310],\n",
       "       [3664, 1313],\n",
       "       [3949, 1322],\n",
       "       [3739, 1327],\n",
       "       [3982, 1345],\n",
       "       [3786, 1357],\n",
       "       [3818, 1370],\n",
       "       [3919, 1370],\n",
       "       [4012, 1376],\n",
       "       [4169, 1377],\n",
       "       [3945, 1405],\n",
       "       [1687, 3574]])"
      ]
     },
     "execution_count": 29,
     "metadata": {},
     "output_type": "execute_result"
    }
   ],
   "source": [
    "pts"
   ]
  },
  {
   "cell_type": "code",
   "execution_count": 34,
   "metadata": {
    "collapsed": true
   },
   "outputs": [],
   "source": [
    "from scipy.ndimage.filters import gaussian_filter "
   ]
  },
  {
   "cell_type": "code",
   "execution_count": 35,
   "metadata": {},
   "outputs": [],
   "source": [
    "from scipy import stats\n",
    "\n",
    "def gaussian_filter_density(gts):\n",
    "    densities = []\n",
    "    for gt in gts:\n",
    "        print(gt.shape)\n",
    "        density = np.zeros(gt.shape, dtype=np.float32)\n",
    "        gt_count = np.count_nonzero(gt)\n",
    "        print(gt_count)\n",
    "        if gt_count == 0:\n",
    "            return density\n",
    "\n",
    "        pts = np.array(list(zip(np.nonzero(gt)[1], np.nonzero(gt)[0])))\n",
    "        leafsize = 2048\n",
    "        # build kdtree\n",
    "        #print 'build kdtree...'\n",
    "        tree = scipy.spatial.KDTree(pts.copy(), leafsize=leafsize)\n",
    "        # query kdtree\n",
    "        #print 'query kdtree...' \n",
    "        distances, locations = tree.query(pts, k=2, eps=10.)\n",
    "\n",
    "        #print 'generate density...'\n",
    "        for i, pt in enumerate(pts):\n",
    "            pt2d = np.zeros(gt.shape, dtype=np.float32)\n",
    "            pt2d[pt[1],pt[0]] = 1.\n",
    "            if gt_count > 1:\n",
    "                sigma = distances[i][1]\n",
    "            else:\n",
    "                sigma = np.average(np.array(gt.shape))/2./2. #case: 1 point\n",
    "            density += gaussian_filter(pt2d, sigma, mode='constant')\n",
    "        #print 'done.'\n",
    "        densities.append(density)\n",
    "    return densities\n",
    "\n"
   ]
  },
  {
   "cell_type": "code",
   "execution_count": 36,
   "metadata": {},
   "outputs": [
    {
     "name": "stdout",
     "output_type": "stream",
     "text": [
      "(3744, 5616)\n",
      "186\n"
     ]
    }
   ],
   "source": [
    "dmaps = gaussian_filter_density([gt])"
   ]
  },
  {
   "cell_type": "code",
   "execution_count": 37,
   "metadata": {},
   "outputs": [
    {
     "data": {
      "text/plain": [
       "(3744, 5616)"
      ]
     },
     "execution_count": 37,
     "metadata": {},
     "output_type": "execute_result"
    }
   ],
   "source": [
    "dmaps[0].shape"
   ]
  },
  {
   "cell_type": "code",
   "execution_count": 40,
   "metadata": {
    "collapsed": true
   },
   "outputs": [],
   "source": [
    "%matplotlib inline"
   ]
  },
  {
   "cell_type": "code",
   "execution_count": 41,
   "metadata": {},
   "outputs": [
    {
     "data": {
      "text/plain": [
       "<matplotlib.image.AxesImage at 0x7f1485eee978>"
      ]
     },
     "execution_count": 41,
     "metadata": {},
     "output_type": "execute_result"
    },
    {
     "data": {
      "image/png": "[encoded data removed]",
      "text/plain": [
       "<matplotlib.figure.Figure at 0x7f14769dee80>"
      ]
     },
     "metadata": {},
     "output_type": "display_data"
    }
   ],
   "source": [
    "plt.imshow(dmaps[0])"
   ]
  },
  {
   "cell_type": "code",
   "execution_count": 44,
   "metadata": {
    "collapsed": true
   },
   "outputs": [],
   "source": [
    "import cv2"
   ]
  },
  {
   "cell_type": "code",
   "execution_count": 45,
   "metadata": {
    "collapsed": true
   },
   "outputs": [],
   "source": [
    "def show_density(im, density):\n",
    "    max_density = np.max(density)\n",
    "    normalized_density = density/max_density\n",
    "    im_fp32 = im.astype(np.float32)\n",
    "    im_masked = im_fp32.copy()\n",
    "    im_masked[:,:,0] = (im_fp32[:,:,0] * normalized_density)\n",
    "    im_masked[:,:,1] = (im_fp32[:,:,1] * normalized_density)\n",
    "    im_masked[:,:,2] = (im_fp32[:,:,2] * normalized_density)\n",
    "    return im_masked.astype(np.uint8), (normalized_density * 255).astype(np.uint8)"
   ]
  },
  {
   "cell_type": "code",
   "execution_count": 47,
   "metadata": {},
   "outputs": [],
   "source": [
    "im_density, mask_density = show_density(im, dmaps[0])"
   ]
  },
  {
   "cell_type": "code",
   "execution_count": 48,
   "metadata": {},
   "outputs": [
    {
     "data": {
      "text/plain": [
       "True"
      ]
     },
     "execution_count": 48,
     "metadata": {},
     "output_type": "execute_result"
    }
   ],
   "source": [
    "cv2.imwrite(\"../data/im_density_cn.png\", im_density)\n",
    "cv2.imwrite(\"../data/mask_density_cn.png\", mask_density)"
   ]
  },
  {
   "cell_type": "code",
   "execution_count": 42,
   "metadata": {
    "collapsed": true
   },
   "outputs": [],
   "source": [
    "sigma = np.average(np.array(gt.shape))/2./2. #case: 1 point"
   ]
  },
  {
   "cell_type": "code",
   "execution_count": null,
   "metadata": {
    "collapsed": true
   },
   "outputs": [],
   "source": []
  }
 ],
 "metadata": {
  "kernelspec": {
   "display_name": "Python 3",
   "language": "python",
   "name": "python3"
  },
  "language_info": {
   "codemirror_mode": {
    "name": "ipython",
    "version": 3
   },
   "file_extension": ".py",
   "mimetype": "text/x-python",
   "name": "python",
   "nbconvert_exporter": "python",
   "pygments_lexer": "ipython3",
   "version": "3.5.2"
  }
 },
 "nbformat": 4,
 "nbformat_minor": 2
}
