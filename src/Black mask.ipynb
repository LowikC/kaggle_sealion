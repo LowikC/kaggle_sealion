{
 "cells": [
  {
   "cell_type": "code",
   "execution_count": 1,
   "metadata": {
    "collapsed": true
   },
   "outputs": [],
   "source": [
    "import cv2\n",
    "import numpy as np\n",
    "import matplotlib.pyplot as plt\n",
    "import seaborn\n",
    "import pandas as pd\n",
    "from collections import namedtuple, defaultdict\n",
    "import os\n",
    "import pickle\n",
    "%matplotlib inline"
   ]
  },
  {
   "cell_type": "code",
   "execution_count": 90,
   "metadata": {
    "collapsed": true
   },
   "outputs": [],
   "source": [
    "def get_black_mask(im_bgr, threshold=20, low_threshold = 3, min_blob_size=256*256):\n",
    "    # Apply a simple threshold\n",
    "    mask = (im_bgr[:,:,0] <= threshold) & (im_bgr[:,:,1] <= threshold) & (im_bgr[:,:,2] <= threshold)\n",
    "    mask_u8 = (mask * 255).astype(np.uint8)\n",
    "    # Clean the mask: remove small connected components\n",
    "    n_labels, im_labels, stats, centroids = cv2.connectedComponentsWithStats(mask_u8, connectivity=8)\n",
    "    blobs_size = stats[:, 4]\n",
    "    sorted_blob_ids = np.argsort(-blobs_size)\n",
    "    mask_blobs_ids = list()\n",
    "    for blob_id in sorted_blob_ids:\n",
    "        if blob_id != 0: # this is the background label\n",
    "            if blobs_size[blob_id] > min_blob_size:\n",
    "                # check that most of the blob is at 0\n",
    "                blob_pixels = im_labels == blob_id\n",
    "                n_black_blob_pixels = np.count_nonzero(im_bgr[blob_pixels, :] < low_threshold)\n",
    "                if n_black_blob_pixels/(blobs_size[blob_id] * 1.0) > 0.9:\n",
    "                    mask_blobs_ids.append(blob_id)\n",
    "            else:\n",
    "                break  # we can stop, as they are sorted by decreasing size\n",
    "\n",
    "    filtered_mask = np.in1d(im_labels.ravel(), np.array(mask_blobs_ids)).reshape((mask.shape))\n",
    "    \n",
    "    # Inverse the mask\n",
    "    filtered_mask = np.logical_not(filtered_mask)\n",
    "    return filtered_mask"
   ]
  },
  {
   "cell_type": "code",
   "execution_count": 60,
   "metadata": {
    "collapsed": true
   },
   "outputs": [],
   "source": [
    "def get_train_id(filename):\n",
    "    directory, basename = os.path.split(filename)\n",
    "    train_id, ext = os.path.splitext(basename)\n",
    "    return int(train_id)"
   ]
  },
  {
   "cell_type": "code",
   "execution_count": 96,
   "metadata": {
    "collapsed": true
   },
   "outputs": [],
   "source": [
    "def process_all_black_mask(train_ids_to_process=None):\n",
    "    train_dir = \"/home/lowik/sealion/data/sealion/Train/\"\n",
    "    dotted_dir = \"/home/lowik/sealion/data/sealion/TrainDotted/\"\n",
    "    mask_dir = \"/home/lowik/sealion/data/sealion/TrainMask/\"\n",
    "    os.makedirs(mask_dir, exist_ok=True)\n",
    "    \n",
    "    files_to_process = [filename for filename in os.listdir(train_dir) if filename.endswith(\"jpg\")] \n",
    "    for filename in files_to_process:\n",
    "        train_id = get_train_id(filename)\n",
    "        if os.path.exists(os.path.join(mask_dir, \"{}.jpg\".format(train_id))):\n",
    "            continue\n",
    "        if train_ids_to_process is None or train_id in train_ids_to_process:\n",
    "            try:\n",
    "                im_bgr = cv2.imread(os.path.join(train_dir, filename))\n",
    "                im_dotted_bgr = cv2.imread(os.path.join(dotted_dir, filename))\n",
    "                mask_train = get_black_mask(im_bgr)\n",
    "                mask_dotted = get_black_mask(im_dotted_bgr)\n",
    "                mask = np.logical_and(mask_train, mask_dotted)\n",
    "                cv2.imwrite(os.path.join(mask_dir, \"{}.jpg\".format(train_id)), (mask * 255).astype(np.uint8))  \n",
    "            except Exception as err:\n",
    "                print(\"{}: \".format(train_id), err)"
   ]
  },
  {
   "cell_type": "code",
   "execution_count": 97,
   "metadata": {},
   "outputs": [],
   "source": [
    "process_all_black_mask()"
   ]
  },
  {
   "cell_type": "code",
   "execution_count": null,
   "metadata": {
    "collapsed": true
   },
   "outputs": [],
   "source": []
  },
  {
   "cell_type": "code",
   "execution_count": null,
   "metadata": {
    "collapsed": true
   },
   "outputs": [],
   "source": []
  }
 ],
 "metadata": {
  "kernelspec": {
   "display_name": "Python 3",
   "language": "python",
   "name": "python3"
  },
  "language_info": {
   "codemirror_mode": {
    "name": "ipython",
    "version": 3
   },
   "file_extension": ".py",
   "mimetype": "text/x-python",
   "name": "python",
   "nbconvert_exporter": "python",
   "pygments_lexer": "ipython3",
   "version": "3.5.2"
  }
 },
 "nbformat": 4,
 "nbformat_minor": 2
}
