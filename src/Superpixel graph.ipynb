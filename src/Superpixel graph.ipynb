{
 "cells": [
  {
   "cell_type": "code",
   "execution_count": 7,
   "metadata": {
    "collapsed": true
   },
   "outputs": [],
   "source": [
    "import os\n",
    "import cv2\n",
    "import numpy as np\n",
    "import matplotlib.pyplot as plt\n",
    "import seaborn\n",
    "import pickle\n",
    "%matplotlib inline"
   ]
  },
  {
   "cell_type": "code",
   "execution_count": 8,
   "metadata": {
    "collapsed": true
   },
   "outputs": [],
   "source": [
    "from collections import namedtuple\n",
    "from collections import defaultdict"
   ]
  },
  {
   "cell_type": "code",
   "execution_count": 9,
   "metadata": {
    "collapsed": true
   },
   "outputs": [],
   "source": [
    "sealion_types = [\"adult_males\", \n",
    "    \"subadult_males\",\n",
    "    \"adult_females\",\n",
    "    \"juveniles\",\n",
    "    \"pups\"]"
   ]
  },
  {
   "cell_type": "code",
   "execution_count": 62,
   "metadata": {
    "collapsed": true
   },
   "outputs": [],
   "source": [
    "num_superpixels = [10, 8, 5, 4, 2]"
   ]
  },
  {
   "cell_type": "code",
   "execution_count": 63,
   "metadata": {
    "collapsed": true
   },
   "outputs": [],
   "source": [
    "expected_size = [78, 64, 60, 48, 28]"
   ]
  },
  {
   "cell_type": "code",
   "execution_count": 64,
   "metadata": {
    "collapsed": true
   },
   "outputs": [],
   "source": [
    "colors = [(255, 0, 0), (0, 255, 0), (0, 0, 255), (255, 255, 0), (0, 255, 255)]"
   ]
  },
  {
   "cell_type": "code",
   "execution_count": 65,
   "metadata": {
    "collapsed": true
   },
   "outputs": [],
   "source": [
    "class Superpixel:\n",
    "    def __init__(self):\n",
    "        self.area = 0\n",
    "        self.x_min = None\n",
    "        self.x_max = None\n",
    "        self.y_min = None\n",
    "        self.y_max = None\n",
    "        self.x_centroid = 0\n",
    "        self.y_centroid = 0\n",
    "        self.Lab_mean = 0\n",
    "        \n",
    "        \n",
    "    def update(self, x, y, Lab):        \n",
    "        self.area += 1\n",
    "        if self.area == 1:\n",
    "            self.x_min, self.x_max = x, x\n",
    "            self.y_min, self.y_max = y, y\n",
    "        else:\n",
    "            self.x_min = min(self.x_min, x)\n",
    "            self.y_min = min(self.y_min, y)\n",
    "            self.x_max = max(self.x_max, x)\n",
    "            self.y_max = max(self.y_max, y)\n",
    "        \n",
    "        self.x_centroid += x\n",
    "        self.y_centroid += y\n",
    "        self.Lab_mean += Lab\n",
    "        \n",
    "    @property\n",
    "    def xc(self):\n",
    "        if self.area != 0:            \n",
    "            return self.x_centroid/self.area\n",
    "        else:\n",
    "            return None\n",
    "    \n",
    "    @property\n",
    "    def yc(self):\n",
    "        if self.area != 0:\n",
    "            return self.y_centroid/self.area\n",
    "        else:\n",
    "            return None\n",
    "        \n",
    "    @property\n",
    "    def Lab(self):\n",
    "        if self.area != 0:            \n",
    "            return self.Lab_mean/self.area\n",
    "        else:\n",
    "            return None\n",
    "        \n",
    "        \n",
    "    def __str__(self):\n",
    "        return ' - '.join([\"({xmin}, {ymin}, {xmax}, {ymax})\",\n",
    "                           \"({xc}, {yc})\",\n",
    "                           \"{area}\",\n",
    "                           \"{Lab}\"])\\\n",
    "                    .format(xmin=self.x_min,\n",
    "                            ymin=self.y_min,\n",
    "                            xmax=self.x_max,\n",
    "                            ymax=self.y_max,\n",
    "                            xc=self.xc,\n",
    "                            yc=self.yc,\n",
    "                            area=self.area,\n",
    "                            Lab=self.Lab)\n",
    "        \n",
    "    def __repr__(self):\n",
    "        return self.__str__()"
   ]
  },
  {
   "cell_type": "code",
   "execution_count": 66,
   "metadata": {
    "collapsed": true
   },
   "outputs": [],
   "source": [
    "def opencvLAB(Lab):\n",
    "    Lab32 = Lab.astype(np.float32)\n",
    "    Lab32[..., 0] *= 100 / 255\n",
    "    Lab32[..., 1] -= 128\n",
    "    Lab32[..., 2] -= 128\n",
    "    return Lab32\n",
    "\n",
    "def deltaE(Lab1, Lab2):\n",
    "    L1, a1, b1 = opencvLAB(Lab1)\n",
    "    L2, a2, b2 = opencvLAB(Lab2)\n",
    "    dL = L1 - L2\n",
    "    da = a1 - a2\n",
    "    db = b1 - b2\n",
    "    return np.sqrt(dL * dL + da * da + db * db)"
   ]
  },
  {
   "cell_type": "code",
   "execution_count": 67,
   "metadata": {
    "collapsed": true
   },
   "outputs": [],
   "source": [
    "test_bgr = np.array([[[90, 78, 26]]], np.uint8)\n",
    "test_lab_cv = cv2.cvtColor(test_bgr, cv2.COLOR_BGR2Lab)\n",
    "test_lab = opencvLAB(test_lab_cv)"
   ]
  },
  {
   "cell_type": "code",
   "execution_count": 68,
   "metadata": {
    "collapsed": true
   },
   "outputs": [],
   "source": [
    "def stretch_hsv(im_bgr):\n",
    "    im_hsv = cv2.cvtColor(im_bgr, cv2.COLOR_BGR2HSV)\n",
    "    im_hsv_stretched = im_hsv.copy()\n",
    "    for c in [1, 2]: # only for saturation and value\n",
    "        min_channel = np.min(im_hsv[:,:,c])\n",
    "        max_channel = np.max(im_hsv[:,:,c])\n",
    "        a = 255.0/(max_channel - min_channel)\n",
    "        b = -a * min_channel\n",
    "        im_hsv_stretched[:,:,c] = (a * im_hsv[:,:,c] + b).astype(np.uint8)\n",
    "    im_bgr_stretched = cv2.cvtColor(im_hsv_stretched, cv2.COLOR_HSV2BGR)\n",
    "    return im_bgr_stretched"
   ]
  },
  {
   "cell_type": "code",
   "execution_count": 69,
   "metadata": {
    "collapsed": true
   },
   "outputs": [],
   "source": [
    "def analyze_superpixels(labels, im_Lab):\n",
    "    labels_set = np.unique(labels)\n",
    "    n_labels = labels_set.shape[0]\n",
    "    \n",
    "    h, w = labels.shape\n",
    "    \n",
    "    superpixels = defaultdict(Superpixel)\n",
    "    neighbors = defaultdict(set)\n",
    "    weights = defaultdict(int)\n",
    "    dxs = [1, 0, -1, 0]\n",
    "    dys = [0, 1, 0, -1]\n",
    "    for y in range(h):\n",
    "        for x in range(w):\n",
    "            label = labels[y, x]\n",
    "            superpixels[label].update(x, y, im_Lab[y, x])\n",
    "            for dx, dy in zip(dxs, dys):\n",
    "                if 0 <= x + dx < w and 0 <= y + dy < h:\n",
    "                    n = labels[y + dy, x + dx]\n",
    "                    if n != label:\n",
    "                        neighbors[label].add(n)\n",
    "                        weights[label] += 1\n",
    "    return superpixels, neighbors, weights"
   ]
  },
  {
   "cell_type": "code",
   "execution_count": 70,
   "metadata": {
    "collapsed": true
   },
   "outputs": [],
   "source": [
    "def fit_ellipse(mask):\n",
    "    y, x = np.nonzero(mask)\n",
    "    coords = np.zeros((x.shape[0], 2), dtype=np.int32)\n",
    "    coords[:, 0] = x\n",
    "    coords[:, 1] = y\n",
    "    #return cv2.fitEllipse(coords)\n",
    "    return cv2.minAreaRect(coords)"
   ]
  },
  {
   "cell_type": "code",
   "execution_count": 71,
   "metadata": {
    "collapsed": true
   },
   "outputs": [],
   "source": [
    "def get_sealion_mask(dot, n_closest, labels, superpixels, neighbors):\n",
    "    \"\"\" Find orientation of the sealion.\n",
    "    \n",
    "    Starting from the dot, we search for the n_closest closest superpixels\n",
    "    and use them to get an approximate orientation.\n",
    "    \"\"\"\n",
    "    x, y, = dot\n",
    "    root_id = labels[y,x]\n",
    "    sealion_ids = set([root_id])\n",
    "    while len(sealion_ids) < n_closest:\n",
    "        # Search the closest (in term of color) node from one of the nodes attributed to the sealion.\n",
    "        closest_id = -1\n",
    "        closest_distance = 1e9\n",
    "        for node_id in sealion_ids:\n",
    "            for neighbor_id in neighbors[node_id]:\n",
    "                if neighbor_id not in sealion_ids:\n",
    "                    distance_color = deltaE(superpixels[node_id].Lab, superpixels[neighbor_id].Lab)\n",
    "                    if distance_color < closest_distance:\n",
    "                        closest_distance = distance_color\n",
    "                        closest_id = neighbor_id\n",
    "        sealion_ids.add(closest_id)\n",
    "    \n",
    "    # Let's find the orientation of the cluster.\n",
    "    mask = np.in1d(labels.ravel(),np.asarray(list(sealion_ids))).reshape(labels.shape)\n",
    "    mask_u8 = (mask * 255).astype(np.uint8)\n",
    "    mask_blur_u8 = cv2.blur(mask_u8, (15, 15))\n",
    "    mask = (mask_blur_u8 > 27)\n",
    "    return mask"
   ]
  },
  {
   "cell_type": "code",
   "execution_count": 72,
   "metadata": {
    "collapsed": true
   },
   "outputs": [],
   "source": [
    "class StreamStats(object):\n",
    "    \"\"\" See https://www.johndcook.com/blog/standard_deviation/\n",
    "    \"\"\"\n",
    "    def __init__(self):\n",
    "        self.M = None\n",
    "        self.S = None\n",
    "        self.k = 0\n",
    "        self.min = None\n",
    "        self.max = None\n",
    "        \n",
    "    def update(self, x):\n",
    "        self.k += 1\n",
    "        if self.k == 1:\n",
    "            self.M = x\n",
    "            self.S = 0\n",
    "            self.min = x\n",
    "            self.max = x\n",
    "        else:\n",
    "            prevM = self.M\n",
    "            prevS = self.S\n",
    "            self.M = prevM + (x - prevM)/self.k\n",
    "            self.S = prevS + (x - prevM) * (x - self.M)\n",
    "            self.min = np.minimum(x, self.min)\n",
    "            self.max = np.maximum(x, self.max)\n",
    "            \n",
    "    def mean(self):\n",
    "        return self.M\n",
    "        \n",
    "    def variance(self):\n",
    "        if self.k - 1 > 0:\n",
    "            return self.S / (self.k - 1)\n",
    "        else:\n",
    "            return 0\n",
    "    \n",
    "    def std(self):\n",
    "        return np.sqrt(self.variance())\n",
    "    \n",
    "    def minimum(self):\n",
    "        return self.min\n",
    "    \n",
    "    def maximum(self):\n",
    "        return self.max"
   ]
  },
  {
   "cell_type": "code",
   "execution_count": 73,
   "metadata": {
    "collapsed": true
   },
   "outputs": [],
   "source": [
    "def get_sealions_directions(root_dir, train_id):\n",
    "    patch_size = 128\n",
    "    im = cv2.imread(os.path.join(root_dir, \"Train/{}.jpg\".format(train_id)))\n",
    "    h, w, c = im.shape\n",
    "\n",
    "    ellipses = []\n",
    "    with open(os.path.join(root_dir, \"TrainDots/{}.pkl\".format(train_id)), \"rb\") as pfile:\n",
    "        dots = pickle.load(pfile)\n",
    "    for i, ds in enumerate(dots):\n",
    "        ellipses.append([])\n",
    "        for (x, y) in ds:\n",
    "            # Extract path around the dot\n",
    "            x_start = max(0, x -  patch_size//2)\n",
    "            y_start = max(0, y -  patch_size//2)\n",
    "            x_end = x_start + patch_size\n",
    "            y_end = y_start + patch_size\n",
    "            if x_end >= w:\n",
    "                dx = x_end - w + 1\n",
    "                x_start -= dx\n",
    "                x_end = x_start + patch_size\n",
    "            if y_end >= h:\n",
    "                dy = y_end - h + 1\n",
    "                y_start -= dy\n",
    "                y_end = y_start + patch_size\n",
    "            patch = im[y_start:y_end, x_start:x_end,...]\n",
    "            patch_normed = stretch_hsv(patch)\n",
    "            \n",
    "            # Find superpixels\n",
    "            slico = cv2.ximgproc.createSuperpixelSLIC(patch_normed, cv2.ximgproc.SLICO, 10, 10.0)\n",
    "            slico.iterate(20)\n",
    "            labels = slico.getLabels()\n",
    "            # Get the graph of superpixels in the patch\n",
    "            im_lab = cv2.cvtColor(patch_normed, cv2.COLOR_BGR2Lab)\n",
    "            im_lab = opencvLAB(im_lab)\n",
    "            superpixels, neighbors, weights = analyze_superpixels(labels, im_lab)\n",
    "            \n",
    "            # Find the best ellipse\n",
    "            mask = get_sealion_mask((x - x_start, y - y_start), num_superpixels[i], labels, superpixels, neighbors)\n",
    "            e = fit_ellipse(mask)\n",
    "            \n",
    "            # Correct ellipse coordinates\n",
    "            we, he = e[1]\n",
    "            size = max(we, he)\n",
    "            ratio = expected_size[i]/size\n",
    "            e_corrected = ((x, y), (we * ratio, he * ratio), e[2])\n",
    "            ellipses[i].append(e_corrected)\n",
    "    return ellipses"
   ]
  },
  {
   "cell_type": "code",
   "execution_count": 74,
   "metadata": {
    "collapsed": true
   },
   "outputs": [],
   "source": [
    "def draw(im, ellipses):\n",
    "    for i, es in enumerate(ellipses):\n",
    "        for e in es:\n",
    "            cv2.ellipse(im, e, colors[i], thickness=1)\n",
    "            cv2.circle(im, e[0], 2, colors[i], thickness=-1)\n",
    "    return im"
   ]
  },
  {
   "cell_type": "code",
   "execution_count": 75,
   "metadata": {
    "collapsed": true
   },
   "outputs": [],
   "source": [
    "root_dir = \"/home/lowik/sealion/data/sealion/\""
   ]
  },
  {
   "cell_type": "code",
   "execution_count": 76,
   "metadata": {},
   "outputs": [
    {
     "data": {
      "text/plain": [
       "True"
      ]
     },
     "execution_count": 76,
     "metadata": {},
     "output_type": "execute_result"
    }
   ],
   "source": [
    "train_id = 8\n",
    "ellipses = get_sealions_directions(root_dir, train_id)\n",
    "im = cv2.imread(\"../data/sealion/Train/{}.jpg\".format(train_id))\n",
    "im_draw = draw(im.copy(), ellipses)\n",
    "cv2.imwrite(\"../data/test.png\", im_draw)"
   ]
  },
  {
   "cell_type": "markdown",
   "metadata": {},
   "source": [
    "Process all train images"
   ]
  },
  {
   "cell_type": "code",
   "execution_count": 80,
   "metadata": {
    "collapsed": true
   },
   "outputs": [],
   "source": [
    "def detect_ellipses(root_dir):\n",
    "    ellipses_dir = os.path.join(root_dir, \"TrainEllipses\")\n",
    "    os.makedirs(ellipses_dir, exist_ok=True)\n",
    "    for filename in os.listdir(os.path.join(root_dir, \"Train\")):\n",
    "        if not filename.endswith(\".jpg\"):\n",
    "            continue\n",
    "        train_id, _ = os.path.splitext(filename)\n",
    "        train_id = int(train_id)\n",
    "        ellipses = get_sealions_directions(root_dir, train_id)\n",
    "        with open(os.path.join(ellipses_dir, \"{}.pkl\".format(train_id)), \"wb\") as pfile:\n",
    "            pickle.dump(ellipses, pfile, pickle.HIGHEST_PROTOCOL)"
   ]
  },
  {
   "cell_type": "code",
   "execution_count": 81,
   "metadata": {
    "collapsed": true
   },
   "outputs": [],
   "source": [
    "detect_ellipses(root_dir)"
   ]
  },
  {
   "cell_type": "code",
   "execution_count": null,
   "metadata": {
    "collapsed": true
   },
   "outputs": [],
   "source": []
  }
 ],
 "metadata": {
  "kernelspec": {
   "display_name": "Python 3",
   "language": "python",
   "name": "python3"
  },
  "language_info": {
   "codemirror_mode": {
    "name": "ipython",
    "version": 3
   },
   "file_extension": ".py",
   "mimetype": "text/x-python",
   "name": "python",
   "nbconvert_exporter": "python",
   "pygments_lexer": "ipython3",
   "version": "3.5.2"
  }
 },
 "nbformat": 4,
 "nbformat_minor": 2
}
