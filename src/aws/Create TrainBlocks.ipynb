{
 "cells": [
  {
   "cell_type": "code",
   "execution_count": 1,
   "metadata": {
    "collapsed": true
   },
   "outputs": [],
   "source": [
    "import numpy as np\n",
    "import matplotlib.pyplot as plt\n",
    "import pickle\n",
    "import cv2\n",
    "import os\n",
    "from math import cos, sin, pi, sqrt\n",
    "from math import radians\n",
    "%matplotlib inline"
   ]
  },
  {
   "cell_type": "code",
   "execution_count": 7,
   "metadata": {
    "collapsed": true
   },
   "outputs": [],
   "source": [
    "def split_in_blocks(im_raw, n_blocks=(4,4), overlap=(448,448)):\n",
    "    h, w = im_raw.shape[:2]\n",
    "    w_block = (w + (n_blocks[1] - 1) * overlap[1]) // n_blocks[1]\n",
    "    h_block = (h + (n_blocks[0] - 1) * overlap[0]) // n_blocks[0]\n",
    "    \n",
    "    if (w + (n_blocks[1] - 1) * overlap[1]) % n_blocks[1] != 0 or \\\n",
    "        (h + (n_blocks[0] - 1) * overlap[0]) % n_blocks[0] != 0:\n",
    "            print(\"Warning: check the number of blocks and overlap\")\n",
    "            \n",
    "    for by in range(n_blocks[0]):\n",
    "        y_start = by * (h_block - overlap[0])\n",
    "        y_end = y_start + h_block + 1\n",
    "        for bx in range(n_blocks[1]):\n",
    "            x_start = bx * (w_block - overlap[1])\n",
    "            x_end = x_start + w_block + 1\n",
    "            yield im_raw[y_start:y_end, x_start:x_end,...]"
   ]
  },
  {
   "cell_type": "code",
   "execution_count": 12,
   "metadata": {},
   "outputs": [],
   "source": [
    "def check_img(root_dir):\n",
    "    raw_dir = os.path.join(root_dir, \"Train\")\n",
    "    mask_dir = os.path.join(root_dir, \"TrainMask\")\n",
    "    \n",
    "    for filename in os.listdir(raw_dir):\n",
    "        if not filename.endswith(\".jpg\"):\n",
    "            continue\n",
    "\n",
    "        train_id, _ = os.path.splitext(filename)\n",
    "        # load the raw image, mask and dots\n",
    "        im_raw = cv2.imread(os.path.join(raw_dir, filename))\n",
    "        im_mask = cv2.imread(os.path.join(mask_dir, train_id + \".png\"), cv2.IMREAD_GRAYSCALE)\n",
    "\n",
    "        if im_raw.shape[:2] != im_mask.shape[:2]:\n",
    "            print(train_id)"
   ]
  },
  {
   "cell_type": "code",
   "execution_count": 13,
   "metadata": {},
   "outputs": [
    {
     "name": "stdout",
     "output_type": "stream",
     "text": [
      "530\n",
      "638\n"
     ]
    }
   ],
   "source": [
    "check_img(root_dir)"
   ]
  },
  {
   "cell_type": "code",
   "execution_count": 14,
   "metadata": {
    "collapsed": true
   },
   "outputs": [],
   "source": [
    "def generate_training_blocks(root_dir):\n",
    "    raw_dir = os.path.join(root_dir, \"Train\")\n",
    "    mask_dir = os.path.join(root_dir, \"TrainMask\")\n",
    "    block_dir = os.path.join(root_dir, \"TrainBlock\")\n",
    "    \n",
    "    os.makedirs(block_dir, exist_ok=True)\n",
    "    \n",
    "    for filename in os.listdir(raw_dir):\n",
    "        if not filename.endswith(\".jpg\"):\n",
    "            continue\n",
    "        \n",
    "        train_id, _ = os.path.splitext(filename)\n",
    "        # load the raw image, mask and dots\n",
    "        im_raw = cv2.imread(os.path.join(raw_dir, filename))\n",
    "        im_mask = cv2.imread(os.path.join(mask_dir, train_id + \".png\"), cv2.IMREAD_GRAYSCALE)\n",
    "\n",
    "        # Apply mask on all\n",
    "        im_raw[im_mask==0, ...] = 0\n",
    "        \n",
    "        # Generate blocks and save them\n",
    "        for i, braw in enumerate(split_in_blocks(im_raw)):\n",
    "            cv2.imwrite(os.path.join(block_dir, \"{tid}_{bid}.jpg\".format(tid=train_id, bid=i)), braw)"
   ]
  },
  {
   "cell_type": "code",
   "execution_count": 17,
   "metadata": {
    "collapsed": true
   },
   "outputs": [],
   "source": [
    "root_dir = \"/home/ubuntu/sealion/data/\""
   ]
  },
  {
   "cell_type": "code",
   "execution_count": null,
   "metadata": {},
   "outputs": [],
   "source": [
    "generate_training_blocks(root_dir)"
   ]
  },
  {
   "cell_type": "code",
   "execution_count": null,
   "metadata": {
    "collapsed": true
   },
   "outputs": [],
   "source": []
  }
 ],
 "metadata": {
  "kernelspec": {
   "display_name": "Python 3",
   "language": "python",
   "name": "python3"
  },
  "language_info": {
   "codemirror_mode": {
    "name": "ipython",
    "version": 3
   },
   "file_extension": ".py",
   "mimetype": "text/x-python",
   "name": "python",
   "nbconvert_exporter": "python",
   "pygments_lexer": "ipython3",
   "version": "3.5.2"
  }
 },
 "nbformat": 4,
 "nbformat_minor": 2
}
