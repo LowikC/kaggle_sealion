{
 "cells": [
  {
   "cell_type": "code",
   "execution_count": 97,
   "metadata": {
    "collapsed": true
   },
   "outputs": [],
   "source": [
    "import numpy as np\n",
    "import matplotlib.pyplot as plt\n",
    "import cv2\n",
    "import os\n",
    "import json\n",
    "import pickle\n",
    "import pandas as pd\n",
    "import progressbar\n",
    "%matplotlib inline"
   ]
  },
  {
   "cell_type": "code",
   "execution_count": 6,
   "metadata": {
    "collapsed": true
   },
   "outputs": [],
   "source": [
    "np.random.seed(21)"
   ]
  },
  {
   "cell_type": "code",
   "execution_count": 8,
   "metadata": {},
   "outputs": [],
   "source": [
    "from keras.models import load_model"
   ]
  },
  {
   "cell_type": "code",
   "execution_count": 20,
   "metadata": {
    "collapsed": true
   },
   "outputs": [],
   "source": [
    "df_cnts = pd.read_csv(\"../data/my_correct_counts.csv\")"
   ]
  },
  {
   "cell_type": "code",
   "execution_count": 9,
   "metadata": {
    "collapsed": true
   },
   "outputs": [],
   "source": [
    "with open(\"../data/val.json\", \"r\") as jfile:\n",
    "    val_ids = json.load(jfile)\n",
    "val_ids = [int(iid) for iid in val_ids]"
   ]
  },
  {
   "cell_type": "code",
   "execution_count": 10,
   "metadata": {
    "collapsed": true
   },
   "outputs": [],
   "source": [
    "pups_count_net = load_model(\"../data/models/class_pups/ckpt_cnt_04-3.38.h5\")"
   ]
  },
  {
   "cell_type": "code",
   "execution_count": 15,
   "metadata": {
    "collapsed": true
   },
   "outputs": [],
   "source": [
    "def normalize_input(x_bgr):\n",
    "    x = x_bgr.copy()\n",
    "    x[..., 0] -= 103.939\n",
    "    x[..., 1] -= 116.779\n",
    "    x[..., 2] -= 123.68\n",
    "    return x"
   ]
  },
  {
   "cell_type": "code",
   "execution_count": 28,
   "metadata": {},
   "outputs": [
    {
     "data": {
      "text/plain": [
       "-1"
      ]
     },
     "execution_count": 28,
     "metadata": {},
     "output_type": "execute_result"
    }
   ],
   "source": [
    "np.sign(-1)"
   ]
  },
  {
   "cell_type": "code",
   "execution_count": 77,
   "metadata": {
    "collapsed": true
   },
   "outputs": [],
   "source": [
    "def predict_pups_count(im_bgr, net, normalize_input, patch_size=(384, 384), offset=(0, 0), batch_size=8):\n",
    "    # Add a black area around the image, the have the right number of sub-patches.\n",
    "    # Image is centered + offset values.\n",
    "    h, w, c = im_bgr.shape\n",
    "    n_patches_y = h//patch_size[0]\n",
    "    if h % patch_size[0] != 0:\n",
    "        n_patches_y += 1\n",
    "        \n",
    "    n_patches_x = w//patch_size[1]\n",
    "    if w % patch_size[0] != 0:\n",
    "        n_patches_x += 1\n",
    "        \n",
    "    h_new = n_patches_y * patch_size[0]\n",
    "    w_new = n_patches_x * patch_size[1]\n",
    "    \n",
    "    im_new = np.zeros((h_new, w_new, 3), dtype=np.uint8)\n",
    "    dh = (h_new - h)//2\n",
    "    dw = (w_new - w)//2\n",
    "\n",
    "    ystart = dh + offset[0]\n",
    "    if ystart < 0: ystart = 0\n",
    "    yend = ystart + h\n",
    "    if yend > h_new:\n",
    "        yend = h_new\n",
    "        ystart = yend - h\n",
    "    \n",
    "    xstart = dw + offset[1]\n",
    "    if xstart < 0: xstart = 0\n",
    "    xend = xstart + w\n",
    "    if xend > w_new:\n",
    "        xend = w_new\n",
    "        xstart = xend - w\n",
    "    \n",
    "    im_new[ystart:yend, xstart:xend,...] = im_bgr\n",
    "    \n",
    "    # Predict the count on each patch\n",
    "    # We fill a batch, and then predict for the full batch.\n",
    "    counts = []\n",
    "    batch_x = np.zeros((batch_size, ) + patch_size + (c, ), dtype=np.float32)\n",
    "    \n",
    "    current_batch_size = 0\n",
    "    for py in range(n_patches_y):\n",
    "        y_start = py * patch_size[0]\n",
    "        y_end = y_start + patch_size[0]\n",
    "        for px in range(n_patches_x):\n",
    "            x_start = px * patch_size[1]\n",
    "            x_end = x_start + patch_size[1]\n",
    "            \n",
    "            # Keep filling the batch\n",
    "            batch_x[current_batch_size, :, :, :] = im_new[y_start:y_end, x_start:x_end, :]\n",
    "            current_batch_size += 1\n",
    "            \n",
    "            if current_batch_size == batch_size or (py == n_patches_y - 1 and px == n_patches_x - 1) :\n",
    "                # time to predict\n",
    "                batch_x_normed = normalize_input(batch_x)\n",
    "                batch_counts = net.predict(batch_x_normed)\n",
    "                for c in batch_counts.ravel():\n",
    "                    counts.append(c)\n",
    "                current_batch_size = 0\n",
    "    \n",
    "    # The final count is just the sum over all patches.\n",
    "    return np.sum(counts)"
   ]
  },
  {
   "cell_type": "code",
   "execution_count": 78,
   "metadata": {
    "collapsed": true
   },
   "outputs": [],
   "source": [
    "im = cv2.imread(\"/home/ubuntu/sealion/data/Train/10.jpg\")"
   ]
  },
  {
   "cell_type": "code",
   "execution_count": 90,
   "metadata": {},
   "outputs": [
    {
     "name": "stdout",
     "output_type": "stream",
     "text": [
      "6.81 s ± 5.67 ms per loop (mean ± std. dev. of 7 runs, 1 loop each)\n"
     ]
    }
   ],
   "source": [
    "predict_pups_count(im, pups_count_net, normalize_input)"
   ]
  },
  {
   "cell_type": "code",
   "execution_count": 91,
   "metadata": {
    "collapsed": true
   },
   "outputs": [],
   "source": [
    "def predict_all_pups_counts(image_dir, image_ids, net, normalize_input, offsets=[-16, 0, 16]):\n",
    "    pups_counts = dict()\n",
    "    with open(os.path.join(image_dir, \"pups_mean.csv\"), \"w\") as ofile: \n",
    "        for iid in image_ids:\n",
    "            im = cv2.imread(os.path.join(image_dir, \"{}.jpg\".format(iid)))\n",
    "            counts = []\n",
    "            for offset_y in offsets:\n",
    "                for offset_x in offsets:\n",
    "                    count = predict_pups_count(im, net, normalize_input, offset=(offset_y, offset_x))\n",
    "                    counts.append(count)\n",
    "            mean_count = np.mean(counts)\n",
    "            pups_counts[iid] = mean_count\n",
    "            ofile.write(\"{},{}\\n\".format(iid, mean_count))\n",
    "    return pups_counts"
   ]
  },
  {
   "cell_type": "code",
   "execution_count": 92,
   "metadata": {},
   "outputs": [],
   "source": [
    "im_dir = \"/home/ubuntu/sealion/data/Train/\"\n",
    "pups_counts = predict_all_pups_counts(im_dir, val_ids, pups_count_net, normalize_input)"
   ]
  },
  {
   "cell_type": "code",
   "execution_count": 105,
   "metadata": {
    "collapsed": true
   },
   "outputs": [],
   "source": [
    "def predict_all_pups_counts(image_dir, image_ids, net, normalize_input):\n",
    "    pups_counts = dict()\n",
    "    with open(os.path.join(image_dir, \"pups_mean.csv\"), \"w\") as ofile: \n",
    "        with progressbar.ProgressBar(max_value=len(image_ids)) as bar:     \n",
    "            for i, iid in enumerate(image_ids):\n",
    "                im = cv2.imread(os.path.join(image_dir, \"{}.jpg\".format(iid)))\n",
    "                count = predict_pups_count(im, net, normalize_input)\n",
    "                ofile.write(\"{},{}\\n\".format(iid, count))\n",
    "                bar.update(i)\n",
    "    return pups_counts"
   ]
  },
  {
   "cell_type": "code",
   "execution_count": 106,
   "metadata": {
    "collapsed": true
   },
   "outputs": [],
   "source": [
    "with open(\"../data/test_sub.json\", \"r\") as jfile:\n",
    "    test_ids = json.load(jfile)\n",
    "test_ids = [int(iid) for iid in test_ids]                                                                                                                                                                                                                                                                                                                                                                                                                                                                                                                                                                                                                                                                                                                                                                                                                                                                                                                                                                                                                                                                                                                                                                                                                                                                                                                                                                                                                                                                                                                         "
   ]
  },
  {
   "cell_type": "code",
   "execution_count": null,
   "metadata": {},
   "outputs": [
    {
     "name": "stderr",
     "output_type": "stream",
     "text": [
      "100% (18636 of 18636) |#####| Elapsed Time: 1 day, 7:11:45 Time: 1 day, 7:11:45\n"
     ]
    }
   ],
   "source": [
    "im_dir = \"/home/ubuntu/data/sealion/data/Test/\"\n",
    "pups_counts = predict_all_pups_counts(im_dir, test_ids, pups_count_net, normalize_input)"
   ]
  },
  {
   "cell_type": "code",
   "execution_count": null,
   "metadata": {
    "collapsed": true
   },
   "outputs": [],
   "source": [
    "1+1"
   ]
  },
  {
   "cell_type": "code",
   "execution_count": null,
   "metadata": {
    "collapsed": true
   },
   "outputs": [],
   "source": []
  }
 ],
 "metadata": {
  "kernelspec": {
   "display_name": "Python 3",
   "language": "python",
   "name": "python3"
  },
  "language_info": {
   "codemirror_mode": {
    "name": "ipython",
    "version": 3
   },
   "file_extension": ".py",
   "mimetype": "text/x-python",
   "name": "python",
   "nbconvert_exporter": "python",
   "pygments_lexer": "ipython3",
   "version": "3.5.2"
  }
 },
 "nbformat": 4,
 "nbformat_minor": 2
}
