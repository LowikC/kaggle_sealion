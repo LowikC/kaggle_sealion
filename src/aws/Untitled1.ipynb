{
 "cells": [
  {
   "cell_type": "code",
   "execution_count": 2,
   "metadata": {
    "collapsed": true
   },
   "outputs": [],
   "source": [
    "import os\n",
    "from math import sqrt\n",
    "import json\n",
    "import pickle\n",
    "import numpy as np\n",
    "import pandas as pd\n",
    "import matplotlib.pyplot as plt\n",
    "%matplotlib inline"
   ]
  },
  {
   "cell_type": "code",
   "execution_count": 3,
   "metadata": {},
   "outputs": [],
   "source": [
    "test_ids = set()\n",
    "for fn in os.listdir(\"../data/Test/\"):\n",
    "    if fn.endswith(\".jpg\"):\n",
    "        tid, _ = os.path.splitext(fn)\n",
    "        test_ids.add(int(tid))"
   ]
  },
  {
   "cell_type": "code",
   "execution_count": 4,
   "metadata": {
    "collapsed": true
   },
   "outputs": [],
   "source": [
    "with open(\"../data/test_sub.json\", \"w\") as jfile:\n",
    "    json.dump(list(test_ids), jfile, indent=2, sort_keys=True)"
   ]
  },
  {
   "cell_type": "code",
   "execution_count": 9,
   "metadata": {
    "collapsed": true
   },
   "outputs": [],
   "source": [
    "with open(\"../data/test_sub.json\", \"r\") as jfile:\n",
    "    test_ids = json.load(jfile)\n",
    "test_ids = [int(iid) for iid in test_ids]"
   ]
  },
  {
   "cell_type": "code",
   "execution_count": 15,
   "metadata": {
    "collapsed": true
   },
   "outputs": [],
   "source": [
    "with open(\"../data/val.json\", \"r\") as jfile:\n",
    "    val_ids = json.load(jfile)\n",
    "val_ids = [int(iid) for iid in val_ids]"
   ]
  },
  {
   "cell_type": "code",
   "execution_count": 16,
   "metadata": {},
   "outputs": [
    {
     "data": {
      "text/plain": [
       "178"
      ]
     },
     "execution_count": 16,
     "metadata": {},
     "output_type": "execute_result"
    }
   ],
   "source": [
    "len(val_ids)"
   ]
  },
  {
   "cell_type": "code",
   "execution_count": 5,
   "metadata": {},
   "outputs": [
    {
     "name": "stdout",
     "output_type": "stream",
     "text": [
      "[\r\n",
      "  0,\r\n",
      "  1,\r\n",
      "  2,\r\n",
      "  3,\r\n",
      "  4,\r\n",
      "  5,\r\n",
      "  6,\r\n",
      "  7,\r\n",
      "  8,\r\n"
     ]
    }
   ],
   "source": [
    "!head ../data/test_sub.json"
   ]
  },
  {
   "cell_type": "code",
   "execution_count": 7,
   "metadata": {},
   "outputs": [
    {
     "name": "stdout",
     "output_type": "stream",
     "text": [
      "18637 ../data/test_sub.json\r\n"
     ]
    }
   ],
   "source": [
    "!wc -l ../data/test_sub.json"
   ]
  },
  {
   "cell_type": "code",
   "execution_count": 17,
   "metadata": {
    "collapsed": true
   },
   "outputs": [],
   "source": [
    "def get_groundtruth_counts(path):\n",
    "    df = pd.read_csv(path)\n",
    "    gt_counts = dict()\n",
    "    \n",
    "    def fill_counts(x, counts):\n",
    "        counts[int(x.train_id)] = [x.adult_males, x.subadult_males, x.adult_females, x.juveniles, x.pups]\n",
    "    \n",
    "    _ = df.apply(fill_counts, axis=1, args=(gt_counts, ))\n",
    "    return gt_counts"
   ]
  },
  {
   "cell_type": "code",
   "execution_count": 18,
   "metadata": {
    "collapsed": true
   },
   "outputs": [],
   "source": [
    "def get_groundtruth_pups_counts(path):\n",
    "    df = pd.read_csv(path)\n",
    "    gt_counts = dict()\n",
    "    \n",
    "    def fill_counts(x, counts):\n",
    "        counts[int(x.train_id)] = [x.pups]\n",
    "    \n",
    "    _ = df.apply(fill_counts, axis=1, args=(gt_counts, ))\n",
    "    return gt_counts"
   ]
  },
  {
   "cell_type": "code",
   "execution_count": 19,
   "metadata": {
    "collapsed": true
   },
   "outputs": [],
   "source": [
    "gt_counts = get_groundtruth_pups_counts(\"../data/my_correct_counts.csv\")"
   ]
  },
  {
   "cell_type": "code",
   "execution_count": 20,
   "metadata": {},
   "outputs": [
    {
     "name": "stdout",
     "output_type": "stream",
     "text": [
      "178 /home/ubuntu/sealion/data/Train/pups_mean.csv\r\n"
     ]
    }
   ],
   "source": [
    "!wc -l /home/ubuntu/sealion/data/Train/pups_mean.csv"
   ]
  },
  {
   "cell_type": "code",
   "execution_count": 31,
   "metadata": {
    "collapsed": true
   },
   "outputs": [],
   "source": [
    "pred_counts = dict()\n",
    "with open(\"/home/ubuntu/sealion/data/Train/pups_mean.csv\", \"r\") as ifile:\n",
    "    for line in ifile:\n",
    "        tid, cnt = line.split(\",\")\n",
    "        pred_counts[int(tid)] = [round(float(cnt))]"
   ]
  },
  {
   "cell_type": "code",
   "execution_count": 32,
   "metadata": {
    "collapsed": true
   },
   "outputs": [],
   "source": [
    "errors = []\n",
    "for tid, cnt in pred_counts.items():\n",
    "    gt = gt_counts[tid]\n",
    "    error = np.abs(cnt[0] - gt[0])\n",
    "    errors.append((error, tid, cnt[0], gt[0]))"
   ]
  },
  {
   "cell_type": "code",
   "execution_count": null,
   "metadata": {
    "collapsed": true
   },
   "outputs": [],
   "source": [
    "import pr"
   ]
  },
  {
   "cell_type": "code",
   "execution_count": 33,
   "metadata": {},
   "outputs": [
    {
     "data": {
      "text/plain": [
       "[(165, 291, 72, 237),\n",
       " (163, 364, 208, 45),\n",
       " (145, 77, 228, 83),\n",
       " (101, 524, 101, 0),\n",
       " (75, 298, 108, 183),\n",
       " (69, 906, 71, 2),\n",
       " (68, 777, 68, 0),\n",
       " (63, 590, 237, 300),\n",
       " (47, 566, 47, 0),\n",
       " (43, 847, 194, 151),\n",
       " (38, 240, 151, 113),\n",
       " (37, 299, 92, 55),\n",
       " (34, 252, 33, 67),\n",
       " (33, 686, 33, 0),\n",
       " (33, 418, 33, 0),\n",
       " (32, 881, 149, 117),\n",
       " (31, 569, 74, 105),\n",
       " (31, 158, 118, 87),\n",
       " (30, 773, 108, 138),\n",
       " (30, 720, 54, 24),\n",
       " (28, 647, 28, 0),\n",
       " (28, 316, 28, 0),\n",
       " (28, 130, 28, 0),\n",
       " (28, 124, 74, 46),\n",
       " (27, 367, 82, 55),\n",
       " (26, 704, 79, 105),\n",
       " (23, 338, 271, 248),\n",
       " (22, 349, 22, 0),\n",
       " (22, 78, 27, 5),\n",
       " (21, 823, 21, 0),\n",
       " (21, 700, 2, 23),\n",
       " (21, 229, 21, 0),\n",
       " (20, 834, 20, 0),\n",
       " (19, 799, 22, 3),\n",
       " (19, 627, 19, 0),\n",
       " (18, 831, 18, 0),\n",
       " (18, 804, 18, 0),\n",
       " (18, 722, 91, 109),\n",
       " (17, 178, 17, 0),\n",
       " (16, 805, 15, 31),\n",
       " (15, 837, 15, 0),\n",
       " (14, 609, 14, 0),\n",
       " (14, 163, 86, 72),\n",
       " (14, 145, 14, 0),\n",
       " (13, 856, 13, 0),\n",
       " (13, 181, 15, 2),\n",
       " (12, 576, 12, 0),\n",
       " (12, 470, 12, 0),\n",
       " (12, 287, 12, 0),\n",
       " (11, 28, 11, 0),\n",
       " (10, 784, 10, 0),\n",
       " (10, 624, 10, 20),\n",
       " (10, 219, 10, 0),\n",
       " (9, 913, 9, 0),\n",
       " (9, 690, 37, 28),\n",
       " (9, 465, 9, 0),\n",
       " (9, 427, 9, 0),\n",
       " (9, 312, 9, 0),\n",
       " (9, 114, 18, 9),\n",
       " (8, 210, 8, 0),\n",
       " (8, 19, 9, 1),\n",
       " (7, 678, 7, 0),\n",
       " (7, 637, 47, 40),\n",
       " (7, 602, 7, 0),\n",
       " (7, 463, 0, 7),\n",
       " (7, 209, 7, 0),\n",
       " (6, 412, 6, 0),\n",
       " (6, 377, 35, 29),\n",
       " (6, 355, 6, 0),\n",
       " (6, 23, 6, 0),\n",
       " (5, 806, 5, 10),\n",
       " (5, 742, 9, 14),\n",
       " (5, 432, 5, 0),\n",
       " (5, 297, 5, 0),\n",
       " (5, 259, 5, 0),\n",
       " (5, 153, 5, 0),\n",
       " (5, 26, 5, 0),\n",
       " (5, 22, 5, 0),\n",
       " (5, 11, 5, 0),\n",
       " (4, 651, 4, 0),\n",
       " (4, 476, 4, 0),\n",
       " (4, 469, 4, 0),\n",
       " (4, 442, 4, 0),\n",
       " (4, 435, 4, 0),\n",
       " (4, 374, 4, 0),\n",
       " (4, 365, 4, 0),\n",
       " (4, 352, 4, 0),\n",
       " (4, 203, 6, 2),\n",
       " (4, 132, 4, 0),\n",
       " (4, 45, 4, 0),\n",
       " (4, 17, 4, 0),\n",
       " (3, 801, 60, 57),\n",
       " (3, 780, 3, 0),\n",
       " (3, 703, 3, 0),\n",
       " (3, 671, 3, 0),\n",
       " (3, 659, 3, 0),\n",
       " (3, 652, 3, 0),\n",
       " (3, 567, 4, 1),\n",
       " (3, 397, 3, 0),\n",
       " (3, 237, 3, 0),\n",
       " (3, 212, 3, 0),\n",
       " (3, 36, 3, 0),\n",
       " (2, 899, 2, 0),\n",
       " (2, 873, 2, 0),\n",
       " (2, 844, 2, 0),\n",
       " (2, 810, 22, 20),\n",
       " (2, 735, 2, 0),\n",
       " (2, 578, 18, 16),\n",
       " (2, 558, 37, 39),\n",
       " (2, 474, 2, 0),\n",
       " (2, 368, 36, 34),\n",
       " (2, 337, 2, 0),\n",
       " (2, 308, 2, 0),\n",
       " (2, 270, 2, 0),\n",
       " (2, 179, 2, 0),\n",
       " (2, 18, 2, 0),\n",
       " (2, 4, 2, 0),\n",
       " (1, 880, 1, 0),\n",
       " (1, 786, 1, 0),\n",
       " (1, 717, 0, 1),\n",
       " (1, 682, 1, 0),\n",
       " (1, 656, 8, 9),\n",
       " (1, 653, 1, 0),\n",
       " (1, 543, 1, 0),\n",
       " (1, 505, 1, 0),\n",
       " (1, 424, 1, 0),\n",
       " (1, 409, 0, 1),\n",
       " (1, 390, 2, 3),\n",
       " (1, 381, 1, 0),\n",
       " (1, 378, 1, 0),\n",
       " (1, 376, 1, 0),\n",
       " (1, 318, 2, 1),\n",
       " (1, 303, 1, 0),\n",
       " (1, 241, 1, 0),\n",
       " (1, 195, 1, 0),\n",
       " (1, 176, 57, 56),\n",
       " (1, 175, 1, 0),\n",
       " (1, 129, 1, 0),\n",
       " (1, 68, 1, 0),\n",
       " (1, 66, 1, 2),\n",
       " (0, 851, 0, 0),\n",
       " (0, 840, 0, 0),\n",
       " (0, 815, 0, 0),\n",
       " (0, 770, 0, 0),\n",
       " (0, 762, 0, 0),\n",
       " (0, 713, 0, 0),\n",
       " (0, 623, 0, 0),\n",
       " (0, 603, 0, 0),\n",
       " (0, 593, 0, 0),\n",
       " (0, 592, 0, 0),\n",
       " (0, 552, 0, 0),\n",
       " (0, 542, 0, 0),\n",
       " (0, 531, 0, 0),\n",
       " (0, 457, 0, 0),\n",
       " (0, 425, 0, 0),\n",
       " (0, 410, 0, 0),\n",
       " (0, 395, 0, 0),\n",
       " (0, 389, 0, 0),\n",
       " (0, 375, 0, 0),\n",
       " (0, 366, 0, 0),\n",
       " (0, 351, 0, 0),\n",
       " (0, 348, 0, 0),\n",
       " (0, 339, 0, 0),\n",
       " (0, 289, 0, 0),\n",
       " (0, 247, 0, 0),\n",
       " (0, 221, 2, 2),\n",
       " (0, 207, 0, 0),\n",
       " (0, 192, 0, 0),\n",
       " (0, 180, 0, 0),\n",
       " (0, 173, 0, 0),\n",
       " (0, 165, 0, 0),\n",
       " (0, 143, 0, 0),\n",
       " (0, 135, 0, 0),\n",
       " (0, 118, 0, 0),\n",
       " (0, 116, 0, 0),\n",
       " (0, 74, 0, 0),\n",
       " (0, 30, 0, 0),\n",
       " (0, 6, 0, 0)]"
      ]
     },
     "execution_count": 33,
     "metadata": {},
     "output_type": "execute_result"
    }
   ],
   "source": [
    "sorted(errors)[::-1]"
   ]
  },
  {
   "cell_type": "code",
   "execution_count": 34,
   "metadata": {
    "collapsed": true
   },
   "outputs": [],
   "source": [
    "def get_rmse(predicted_counts, groundtruth_counts):\n",
    "    key = list(predicted_counts.keys())[0]\n",
    "    N_SEALION_TYPES = len(predicted_counts[key])\n",
    "    \n",
    "    # Check if all predicted ids are also in validation ids\n",
    "    predicted_ids = set(predicted_counts.keys())\n",
    "    set_validation_ids  = set(groundtruth_counts.keys())\n",
    "    assert(predicted_ids.issubset(set_validation_ids))\n",
    "    \n",
    "    # Compute rmse for each type\n",
    "    rmses = [0 for _ in range(N_SEALION_TYPES)]\n",
    "    for iid, pred_counts in predicted_counts.items():\n",
    "        true_counts = groundtruth_counts[iid]\n",
    "        for sid in range(N_SEALION_TYPES):\n",
    "            dc = pred_counts[sid] - true_counts[sid]\n",
    "            rmses[sid] += dc * dc\n",
    "            \n",
    "    for sid in range(N_SEALION_TYPES):\n",
    "        rmses[sid] /= len(predicted_counts)\n",
    "        rmses[sid] = sqrt(rmses[sid])\n",
    "    print(rmses)    \n",
    "    return np.mean(rmses)"
   ]
  },
  {
   "cell_type": "code",
   "execution_count": 35,
   "metadata": {},
   "outputs": [
    {
     "name": "stdout",
     "output_type": "stream",
     "text": [
      "[27.28913023922681]\n"
     ]
    },
    {
     "data": {
      "text/plain": [
       "27.289130239226811"
      ]
     },
     "execution_count": 35,
     "metadata": {},
     "output_type": "execute_result"
    }
   ],
   "source": [
    "get_rmse(pred_counts, gt_counts)"
   ]
  },
  {
   "cell_type": "code",
   "execution_count": null,
   "metadata": {
    "collapsed": true
   },
   "outputs": [],
   "source": []
  }
 ],
 "metadata": {
  "kernelspec": {
   "display_name": "Python 3",
   "language": "python",
   "name": "python3"
  },
  "language_info": {
   "codemirror_mode": {
    "name": "ipython",
    "version": 3
   },
   "file_extension": ".py",
   "mimetype": "text/x-python",
   "name": "python",
   "nbconvert_exporter": "python",
   "pygments_lexer": "ipython3",
   "version": "3.5.2"
  }
 },
 "nbformat": 4,
 "nbformat_minor": 2
}
