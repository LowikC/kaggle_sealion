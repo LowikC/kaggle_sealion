{
 "cells": [
  {
   "cell_type": "code",
   "execution_count": 1,
   "metadata": {
    "collapsed": true
   },
   "outputs": [],
   "source": [
    "import numpy as np\n",
    "import matplotlib.pyplot as plt\n",
    "import cv2\n",
    "import os\n",
    "import json\n",
    "import pickle\n",
    "from collections import defaultdict\n",
    "%matplotlib inline"
   ]
  },
  {
   "cell_type": "code",
   "execution_count": 2,
   "metadata": {
    "collapsed": true
   },
   "outputs": [],
   "source": [
    "np.random.seed(21)"
   ]
  },
  {
   "cell_type": "code",
   "execution_count": 3,
   "metadata": {},
   "outputs": [
    {
     "name": "stderr",
     "output_type": "stream",
     "text": [
      "Using TensorFlow backend.\n"
     ]
    }
   ],
   "source": [
    "from keras.models import Model\n",
    "from keras.layers import Input, concatenate, Conv2D, MaxPooling2D, UpSampling2D, Flatten, Dense, Activation, Cropping2D, Reshape, BatchNormalization\n",
    "from keras.optimizers import Adam, SGD\n",
    "from keras import backend as K\n",
    "from keras.losses import mean_squared_error, categorical_crossentropy\n",
    "from keras.preprocessing.image import Iterator\n",
    "from keras.utils.np_utils import to_categorical\n",
    "from keras.layers import Reshape, BatchNormalization\n",
    "from keras.callbacks import ModelCheckpoint\n",
    "from keras.callbacks import ReduceLROnPlateau\n",
    "\n",
    "import tensorflow as tf\n",
    "sess = tf.Session()\n",
    "K.set_session(sess)"
   ]
  },
  {
   "cell_type": "code",
   "execution_count": 4,
   "metadata": {
    "collapsed": true
   },
   "outputs": [],
   "source": [
    "from __future__ import absolute_import\n",
    "from __future__ import print_function\n",
    "\n",
    "from pkg_resources import parse_version\n",
    "from keras.callbacks import Callback"
   ]
  },
  {
   "cell_type": "code",
   "execution_count": 5,
   "metadata": {
    "collapsed": true
   },
   "outputs": [],
   "source": [
    "class TensorBoardCallBack(Callback):\n",
    "    \"\"\"Tensorboard basic visualizations.\n",
    "    This callback writes a log for TensorBoard, which allows\n",
    "    you to visualize dynamic graphs of your training and test\n",
    "    metrics, as well as activation histograms for the different\n",
    "    layers in your model.\n",
    "    TensorBoard is a visualization tool provided with TensorFlow.\n",
    "    If you have installed TensorFlow with pip, you should be able\n",
    "    to launch TensorBoard from the command line:\n",
    "    ```\n",
    "    tensorboard --logdir=/full_path_to_your_logs\n",
    "    ```\n",
    "    You can find more information about TensorBoard\n",
    "    [here](https://www.tensorflow.org/versions/master/how_tos/summaries_and_tensorboard/index.html).\n",
    "    # Arguments\n",
    "        log_dir: the path of the directory where to save the log\n",
    "            files to be parsed by Tensorboard\n",
    "        batch_freq: frequency (in batch) at which to log data\n",
    "            If set to 0, we just log at the end of an epoch,\n",
    "    \"\"\"\n",
    "\n",
    "    def __init__(self, log_dir='./logs',\n",
    "                 batch_freq=0):\n",
    "        super(TensorBoardCallBack, self).__init__()\n",
    "\n",
    "        self.log_dir = log_dir\n",
    "        self.batch_freq = batch_freq\n",
    "        self.merged = None\n",
    "        self.writer = tf.summary.FileWriter(self.log_dir)\n",
    "        self.last_batch = 0\n",
    "        self.batch_offset = 0\n",
    "\n",
    "    def set_model(self, model):\n",
    "        self.model = model\n",
    "        self.sess = K.get_session()\n",
    "\n",
    "        if hasattr(tf, 'merge_all_summaries'):\n",
    "            self.merged = tf.merge_all_summaries()\n",
    "        else:\n",
    "            self.merged = tf.summary.merge_all()\n",
    "\n",
    "    def on_batch_end(self, batch, logs=None):\n",
    "        # Each time we go back to batch 0, we increase the batch_offset\n",
    "        if batch < self.last_batch:\n",
    "            self.batch_offset += self.last_batch + 1\n",
    "        self.last_batch = batch\n",
    "\n",
    "        batch_cross_epoch = self.batch_offset + batch\n",
    "        if batch_cross_epoch % self.batch_freq == 0:\n",
    "            logs = logs or {}\n",
    "\n",
    "            for name, value in logs.items():\n",
    "                if name in ['batch', 'size']:\n",
    "                    continue\n",
    "                summary = tf.Summary()\n",
    "                summary_value = summary.value.add()\n",
    "                summary_value.simple_value = value.item()\n",
    "                summary_value.tag = name\n",
    "                self.writer.add_summary(summary, batch_cross_epoch)\n",
    "            self.writer.flush()\n",
    "\n",
    "    def on_epoch_end(self, epoch, logs=None):\n",
    "        logs = logs or {}\n",
    "        for name, value in logs.items():\n",
    "            if name in ['batch', 'size']:\n",
    "                continue\n",
    "            summary = tf.Summary()\n",
    "            summary_value = summary.value.add()\n",
    "            summary_value.simple_value = value.item()\n",
    "            summary_value.tag = name\n",
    "            self.writer.add_summary(summary, epoch)\n",
    "        self.writer.flush()\n",
    "\n",
    "    def on_train_end(self, _):\n",
    "        self.writer.close()"
   ]
  },
  {
   "cell_type": "code",
   "execution_count": 20,
   "metadata": {
    "collapsed": true
   },
   "outputs": [],
   "source": [
    "def unet_down_block(x, n_filters, block_id, with_maxpool=True, activation=\"elu\"):\n",
    "    y = Conv2D(n_filters, (3, 3), activation=activation, \n",
    "               padding='valid', name=\"conv{}_1\".format(block_id))(x)\n",
    "    y = BatchNormalization(name=\"bn{}_1\".format(block_id))(y)\n",
    "    \n",
    "    y = Conv2D(n_filters, (3, 3), activation=activation,\n",
    "               padding='valid', name=\"conv{}_2\".format(block_id))(y)\n",
    "    conv = BatchNormalization(name=\"bn{}_2\".format(block_id))(y)\n",
    "    \n",
    "    if not with_maxpool:\n",
    "        return conv\n",
    "    \n",
    "    pool = MaxPooling2D(pool_size=(2, 2), name=\"max_pool{}\".format(block_id))(conv)   \n",
    "    return conv, pool    "
   ]
  },
  {
   "cell_type": "code",
   "execution_count": 21,
   "metadata": {
    "collapsed": true
   },
   "outputs": [],
   "source": [
    "def unet_up_block(x, y, n_filters, block_id, activation=\"elu\"):\n",
    "    up_x = UpSampling2D(size=(2, 2), name=\"upsample{}\".format(block_id))(x)\n",
    "    \n",
    "    # Compute crop needed to have the same shape for up_x and y\n",
    "    _, hx, wx, _ = up_x.shape\n",
    "    _, hy, wy, _ = y.shape\n",
    "    cropy = int(hy - hx)//2\n",
    "    cropx = int(wy - wx)//2\n",
    "    crop_y = Cropping2D(cropping=((cropy, cropy), (cropx, cropx)),\n",
    "                        name=\"crop{}\".format(block_id))(y)\n",
    "    \n",
    "    up = concatenate([up_x, crop_y], axis=-1,\n",
    "                     name=\"concat{}\".format(block_id))\n",
    "    up = Conv2D(n_filters, (3, 3), \n",
    "                activation=activation,\n",
    "                padding='valid',\n",
    "                name=\"conv{}_1\".format(block_id))(up)\n",
    "    up = Conv2D(n_filters, (3, 3),\n",
    "                activation=activation,\n",
    "                padding='valid',\n",
    "                name=\"conv{}_2\".format(block_id))(up)\n",
    "    \n",
    "    return up"
   ]
  },
  {
   "cell_type": "code",
   "execution_count": 22,
   "metadata": {
    "collapsed": true
   },
   "outputs": [],
   "source": [
    "def get_unet(im_height, im_width, n_channels=3, n_classes=6,\n",
    "             n_filters=[64, 128, 256, 512, 1024]):\n",
    "    inputs = Input((im_height, im_width, n_channels))\n",
    "    \n",
    "    conv1, pool1 = unet_down_block(inputs, n_filters[0], 1)\n",
    "    conv2, pool2 = unet_down_block(pool1,  n_filters[1], 2)\n",
    "    conv3, pool3 = unet_down_block(pool2,  n_filters[2], 3)\n",
    "    conv4, pool4 = unet_down_block(pool3,  n_filters[3], 4)\n",
    "    conv5 = unet_down_block(pool4, n_filters[4], 5, with_maxpool=False)\n",
    "    \n",
    "    conv6 = unet_up_block(conv5, conv4, n_filters[3], 6)\n",
    "    #conv7 = unet_up_block(conv6, conv3, n_filters[2], 7)\n",
    "    #conv8 = unet_up_block(conv7, conv2, n_filters[1], 8)\n",
    "    #conv9 = unet_up_block(conv8, conv1, n_filters[0], 9)\n",
    "    \n",
    "    #conv10 = Conv2D(n_classes, (1, 1), activation='softmax')(conv9)\n",
    "    conv10 = Conv2D(n_classes, (1, 1), activation='softmax')(conv6)\n",
    "    model = Model(inputs=[inputs], outputs=[conv10])\n",
    "\n",
    "    return model"
   ]
  },
  {
   "cell_type": "code",
   "execution_count": 23,
   "metadata": {
    "collapsed": true
   },
   "outputs": [],
   "source": [
    "unet = get_unet(512, 512, 3, n_filters=[32, 64, 128, 256, 512])"
   ]
  },
  {
   "cell_type": "code",
   "execution_count": 24,
   "metadata": {},
   "outputs": [
    {
     "data": {
      "text/plain": [
       "(1, 44, 44, 6)"
      ]
     },
     "execution_count": 24,
     "metadata": {},
     "output_type": "execute_result"
    }
   ],
   "source": [
    "t = np.ones((1, 512, 512, 3))\n",
    "pred = unet.predict(t)\n",
    "pred.shape"
   ]
  },
  {
   "cell_type": "code",
   "execution_count": 25,
   "metadata": {},
   "outputs": [
    {
     "data": {
      "text/plain": [
       "array([[[[ 0.11468071,  0.20924345,  0.16913943,  0.17791492,  0.13688512,\n",
       "           0.1921363 ],\n",
       "         [ 0.11468071,  0.20924345,  0.16913943,  0.17791492,  0.13688512,\n",
       "           0.1921363 ],\n",
       "         [ 0.11468071,  0.20924345,  0.16913943,  0.17791492,  0.13688512,\n",
       "           0.1921363 ],\n",
       "         ..., \n",
       "         [ 0.11468071,  0.20924345,  0.16913943,  0.17791492,  0.13688512,\n",
       "           0.1921363 ],\n",
       "         [ 0.11468071,  0.20924345,  0.16913943,  0.17791492,  0.13688512,\n",
       "           0.1921363 ],\n",
       "         [ 0.11468071,  0.20924345,  0.16913943,  0.17791492,  0.13688512,\n",
       "           0.1921363 ]],\n",
       "\n",
       "        [[ 0.11468071,  0.20924345,  0.16913943,  0.17791492,  0.13688512,\n",
       "           0.1921363 ],\n",
       "         [ 0.11468071,  0.20924345,  0.16913943,  0.17791492,  0.13688512,\n",
       "           0.1921363 ],\n",
       "         [ 0.11468071,  0.20924345,  0.16913943,  0.17791492,  0.13688512,\n",
       "           0.1921363 ],\n",
       "         ..., \n",
       "         [ 0.11468071,  0.20924345,  0.16913943,  0.17791492,  0.13688512,\n",
       "           0.1921363 ],\n",
       "         [ 0.11468071,  0.20924345,  0.16913943,  0.17791492,  0.13688512,\n",
       "           0.1921363 ],\n",
       "         [ 0.11468071,  0.20924345,  0.16913943,  0.17791492,  0.13688512,\n",
       "           0.1921363 ]],\n",
       "\n",
       "        [[ 0.11468071,  0.20924345,  0.16913943,  0.17791492,  0.13688512,\n",
       "           0.1921363 ],\n",
       "         [ 0.11468071,  0.20924345,  0.16913943,  0.17791492,  0.13688512,\n",
       "           0.1921363 ],\n",
       "         [ 0.11468071,  0.20924345,  0.16913943,  0.17791492,  0.13688512,\n",
       "           0.1921363 ],\n",
       "         ..., \n",
       "         [ 0.11468071,  0.20924345,  0.16913943,  0.17791492,  0.13688512,\n",
       "           0.1921363 ],\n",
       "         [ 0.11468071,  0.20924345,  0.16913943,  0.17791492,  0.13688512,\n",
       "           0.1921363 ],\n",
       "         [ 0.11468071,  0.20924345,  0.16913943,  0.17791492,  0.13688512,\n",
       "           0.1921363 ]],\n",
       "\n",
       "        ..., \n",
       "        [[ 0.11468071,  0.20924345,  0.16913943,  0.17791492,  0.13688512,\n",
       "           0.1921363 ],\n",
       "         [ 0.11468071,  0.20924345,  0.16913943,  0.17791492,  0.13688512,\n",
       "           0.1921363 ],\n",
       "         [ 0.11468071,  0.20924345,  0.16913943,  0.17791492,  0.13688512,\n",
       "           0.1921363 ],\n",
       "         ..., \n",
       "         [ 0.11468071,  0.20924345,  0.16913943,  0.17791492,  0.13688512,\n",
       "           0.1921363 ],\n",
       "         [ 0.11468071,  0.20924345,  0.16913943,  0.17791492,  0.13688512,\n",
       "           0.1921363 ],\n",
       "         [ 0.11468071,  0.20924345,  0.16913943,  0.17791492,  0.13688512,\n",
       "           0.1921363 ]],\n",
       "\n",
       "        [[ 0.11468071,  0.20924345,  0.16913943,  0.17791492,  0.13688512,\n",
       "           0.1921363 ],\n",
       "         [ 0.11468071,  0.20924345,  0.16913943,  0.17791492,  0.13688512,\n",
       "           0.1921363 ],\n",
       "         [ 0.11468071,  0.20924345,  0.16913943,  0.17791492,  0.13688512,\n",
       "           0.1921363 ],\n",
       "         ..., \n",
       "         [ 0.11468071,  0.20924345,  0.16913943,  0.17791492,  0.13688512,\n",
       "           0.1921363 ],\n",
       "         [ 0.11468071,  0.20924345,  0.16913943,  0.17791492,  0.13688512,\n",
       "           0.1921363 ],\n",
       "         [ 0.11468071,  0.20924345,  0.16913943,  0.17791492,  0.13688512,\n",
       "           0.1921363 ]],\n",
       "\n",
       "        [[ 0.11468071,  0.20924345,  0.16913943,  0.17791492,  0.13688512,\n",
       "           0.1921363 ],\n",
       "         [ 0.11468071,  0.20924345,  0.16913943,  0.17791492,  0.13688512,\n",
       "           0.1921363 ],\n",
       "         [ 0.11468071,  0.20924345,  0.16913943,  0.17791492,  0.13688512,\n",
       "           0.1921363 ],\n",
       "         ..., \n",
       "         [ 0.11468071,  0.20924345,  0.16913943,  0.17791492,  0.13688512,\n",
       "           0.1921363 ],\n",
       "         [ 0.11468071,  0.20924345,  0.16913943,  0.17791492,  0.13688512,\n",
       "           0.1921363 ],\n",
       "         [ 0.11468071,  0.20924345,  0.16913943,  0.17791492,  0.13688512,\n",
       "           0.1921363 ]]]], dtype=float32)"
      ]
     },
     "execution_count": 25,
     "metadata": {},
     "output_type": "execute_result"
    }
   ],
   "source": [
    "pred"
   ]
  },
  {
   "cell_type": "code",
   "execution_count": 26,
   "metadata": {},
   "outputs": [
    {
     "data": {
      "text/plain": [
       "<matplotlib.image.AxesImage at 0x7f17fc1003c8>"
      ]
     },
     "execution_count": 26,
     "metadata": {},
     "output_type": "execute_result"
    },
    {
     "data": {
      "image/png": "[encoded data removed]",
      "text/plain": [
       "<matplotlib.figure.Figure at 0x7f17fc14da90>"
      ]
     },
     "metadata": {},
     "output_type": "display_data"
    }
   ],
   "source": [
    "plt.imshow(np.argmax(pred, axis=-1)[0])"
   ]
  },
  {
   "cell_type": "code",
   "execution_count": 27,
   "metadata": {},
   "outputs": [
    {
     "name": "stdout",
     "output_type": "stream",
     "text": [
      "____________________________________________________________________________________________________\n",
      "Layer (type)                     Output Shape          Param #     Connected to                     \n",
      "====================================================================================================\n",
      "input_2 (InputLayer)             (None, 512, 512, 3)   0                                            \n",
      "____________________________________________________________________________________________________\n",
      "conv1_1 (Conv2D)                 (None, 510, 510, 32)  896                                          \n",
      "____________________________________________________________________________________________________\n",
      "bn1_1 (BatchNormalization)       (None, 510, 510, 32)  128                                          \n",
      "____________________________________________________________________________________________________\n",
      "conv1_2 (Conv2D)                 (None, 508, 508, 32)  9248                                         \n",
      "____________________________________________________________________________________________________\n",
      "bn1_2 (BatchNormalization)       (None, 508, 508, 32)  128                                          \n",
      "____________________________________________________________________________________________________\n",
      "max_pool1 (MaxPooling2D)         (None, 254, 254, 32)  0                                            \n",
      "____________________________________________________________________________________________________\n",
      "conv2_1 (Conv2D)                 (None, 252, 252, 64)  18496                                        \n",
      "____________________________________________________________________________________________________\n",
      "bn2_1 (BatchNormalization)       (None, 252, 252, 64)  256                                          \n",
      "____________________________________________________________________________________________________\n",
      "conv2_2 (Conv2D)                 (None, 250, 250, 64)  36928                                        \n",
      "____________________________________________________________________________________________________\n",
      "bn2_2 (BatchNormalization)       (None, 250, 250, 64)  256                                          \n",
      "____________________________________________________________________________________________________\n",
      "max_pool2 (MaxPooling2D)         (None, 125, 125, 64)  0                                            \n",
      "____________________________________________________________________________________________________\n",
      "conv3_1 (Conv2D)                 (None, 123, 123, 128) 73856                                        \n",
      "____________________________________________________________________________________________________\n",
      "bn3_1 (BatchNormalization)       (None, 123, 123, 128) 512                                          \n",
      "____________________________________________________________________________________________________\n",
      "conv3_2 (Conv2D)                 (None, 121, 121, 128) 147584                                       \n",
      "____________________________________________________________________________________________________\n",
      "bn3_2 (BatchNormalization)       (None, 121, 121, 128) 512                                          \n",
      "____________________________________________________________________________________________________\n",
      "max_pool3 (MaxPooling2D)         (None, 60, 60, 128)   0                                            \n",
      "____________________________________________________________________________________________________\n",
      "conv4_1 (Conv2D)                 (None, 58, 58, 256)   295168                                       \n",
      "____________________________________________________________________________________________________\n",
      "bn4_1 (BatchNormalization)       (None, 58, 58, 256)   1024                                         \n",
      "____________________________________________________________________________________________________\n",
      "conv4_2 (Conv2D)                 (None, 56, 56, 256)   590080                                       \n",
      "____________________________________________________________________________________________________\n",
      "bn4_2 (BatchNormalization)       (None, 56, 56, 256)   1024                                         \n",
      "____________________________________________________________________________________________________\n",
      "max_pool4 (MaxPooling2D)         (None, 28, 28, 256)   0                                            \n",
      "____________________________________________________________________________________________________\n",
      "conv5_1 (Conv2D)                 (None, 26, 26, 512)   1180160                                      \n",
      "____________________________________________________________________________________________________\n",
      "bn5_1 (BatchNormalization)       (None, 26, 26, 512)   2048                                         \n",
      "____________________________________________________________________________________________________\n",
      "conv5_2 (Conv2D)                 (None, 24, 24, 512)   2359808                                      \n",
      "____________________________________________________________________________________________________\n",
      "bn5_2 (BatchNormalization)       (None, 24, 24, 512)   2048                                         \n",
      "____________________________________________________________________________________________________\n",
      "upsample6 (UpSampling2D)         (None, 48, 48, 512)   0                                            \n",
      "____________________________________________________________________________________________________\n",
      "crop6 (Cropping2D)               (None, 48, 48, 256)   0                                            \n",
      "____________________________________________________________________________________________________\n",
      "concat6 (Concatenate)            (None, 48, 48, 768)   0                                            \n",
      "____________________________________________________________________________________________________\n",
      "conv6_1 (Conv2D)                 (None, 46, 46, 256)   1769728                                      \n",
      "____________________________________________________________________________________________________\n",
      "conv6_2 (Conv2D)                 (None, 44, 44, 256)   590080                                       \n",
      "____________________________________________________________________________________________________\n",
      "conv2d_4 (Conv2D)                (None, 44, 44, 6)     1542                                         \n",
      "====================================================================================================\n",
      "Total params: 7,081,510\n",
      "Trainable params: 7,077,542\n",
      "Non-trainable params: 3,968\n",
      "____________________________________________________________________________________________________\n"
     ]
    }
   ],
   "source": [
    "unet.summary()"
   ]
  },
  {
   "cell_type": "code",
   "execution_count": 28,
   "metadata": {
    "collapsed": true
   },
   "outputs": [],
   "source": [
    "class NonValidPatch(Exception):\n",
    "    pass"
   ]
  },
  {
   "cell_type": "code",
   "execution_count": 29,
   "metadata": {
    "collapsed": true
   },
   "outputs": [],
   "source": [
    "def get_block_loc(shape, x, y, target_size=(512, 512), n_blocks=(4,4), overlap=(448,448)):\n",
    "    h, w = shape\n",
    "    w_block = (w + (n_blocks[1] - 1) * overlap[1]) // n_blocks[1]\n",
    "    h_block = (h + (n_blocks[0] - 1) * overlap[0]) // n_blocks[0]\n",
    "    for by in range(n_blocks[0]):\n",
    "        y_start = by * (h_block - overlap[0])\n",
    "        y_end = y_start + h_block + 1\n",
    "        for bx in range(n_blocks[1]):\n",
    "            x_start = bx * (w_block - overlap[1])\n",
    "            x_end = x_start + w_block + 1\n",
    "            \n",
    "            if x_start <= x < x_end and y_start <= y < y_end and\\\n",
    "            x_start <= x + target_size[1] - 1 < x_end and y_start <= y + target_size[0] - 1 < y_end:\n",
    "                return bx + by * n_blocks[0], x - x_start, y - y_start\n",
    "    raise NonValidPatch(\"Can't find block...??\")"
   ]
  },
  {
   "cell_type": "code",
   "execution_count": 30,
   "metadata": {
    "collapsed": true
   },
   "outputs": [],
   "source": [
    "def to_img(smap):\n",
    "    colors_rgb = [(1, 7, 179), (178, 12, 178), (5, 41, 79), (177, 54, 26), (26, 171, 43)]\n",
    "    im = np.zeros(smap.shape + (3, ), dtype=np.uint8)\n",
    "    for i in range(5):\n",
    "        im[smap==i, :] = colors_rgb[i]\n",
    "    return im"
   ]
  },
  {
   "cell_type": "code",
   "execution_count": 31,
   "metadata": {
    "collapsed": true
   },
   "outputs": [],
   "source": [
    "dots = [[1, 2, 3], [4, 5, 6]]"
   ]
  },
  {
   "cell_type": "code",
   "execution_count": 34,
   "metadata": {},
   "outputs": [],
   "source": [
    "f = [d for ds in dots for d in ds]"
   ]
  },
  {
   "cell_type": "code",
   "execution_count": 36,
   "metadata": {},
   "outputs": [
    {
     "data": {
      "text/plain": [
       "0"
      ]
     },
     "execution_count": 36,
     "metadata": {},
     "output_type": "execute_result"
    }
   ],
   "source": [
    "np.random.randint(0, 2)"
   ]
  },
  {
   "cell_type": "code",
   "execution_count": 330,
   "metadata": {},
   "outputs": [],
   "source": [
    "class PatchIterator(Iterator):\n",
    "    \"\"\"Iterator yielding training samples\n",
    "    :param root_dir: Directory containing training images, density map and sampling map.\n",
    "    :param image_ids: Set of image ids to use to sample patches.\n",
    "    :param n_samples_per_image: Number of patches to sample on each image.\n",
    "    :param target_size: Size of the patches sampled.\n",
    "    :param batch_size: Number of patches sampled per batch\n",
    "    :param shuffle: Boolean, whether to shuffle the data between epochs.\n",
    "    :param seed: Random seed for data shuffling.\n",
    "    :return batch_x, batch_x. \n",
    "        batch_x is a (batch_size, target_size[0], target_size[1], 3) array\n",
    "        batch_x is a (batch_size, target_size[0], target_size[1], 1) array if output_counts is False\n",
    "        otherwise, it is a (batch_size, 5) array.\n",
    "    \"\"\"\n",
    "\n",
    "    def __init__(self, root_dir, image_ids,\n",
    "                 n_samples_per_image=160,\n",
    "                 target_size=(512, 512),\n",
    "                 scale = 8,\n",
    "                 crop = (10, 10),\n",
    "                 batch_size=8, shuffle=True, seed=42,\n",
    "                 debug_dir=None):\n",
    "        self.n_samples_per_block = 4\n",
    "        self.n_sealion_types = 5\n",
    "        self.image_ids = image_ids\n",
    "        self.root_dir = root_dir\n",
    "        self.debug_dir = debug_dir\n",
    "        \n",
    "        self.n_samples_per_image = n_samples_per_image\n",
    "        self.target_size = target_size\n",
    "        self.crop = crop\n",
    "        self.scale = scale\n",
    "        self.n_indices = len(self.image_ids) * self.n_samples_per_image\n",
    "                 \n",
    "        super(PatchIterator, self).__init__(self.n_indices, batch_size//self.n_samples_per_block, shuffle, seed)\n",
    "        \n",
    "    def compute_class_distribution(self, n_batches):\n",
    "        total = 0\n",
    "        count_per_classes = defaultdict(int)\n",
    "        for b in range(n_batches):\n",
    "            _, by = self.next()\n",
    "            by = np.argmax(by, axis=-1)\n",
    "            ids, counts = np.unique(by, return_counts=True)\n",
    "            for i in range(ids.shape[0]):\n",
    "                count_per_classes[ids[i]] += counts[i]\n",
    "                total += counts[i]\n",
    "            \n",
    "        class_counts = []\n",
    "        for i in range(self.n_sealion_types + 1):\n",
    "            class_counts.append(count_per_classes[i])\n",
    "        return class_counts\n",
    "\n",
    "    def normalize_input(self, x_bgr):\n",
    "        x = x_bgr.copy()\n",
    "        x[..., 0] -= 103.939\n",
    "        x[..., 1] -= 116.779\n",
    "        x[..., 2] -= 123.68\n",
    "        return x\n",
    "    \n",
    "    def denormalize_input(self, x_normed):\n",
    "        x = x_normed.copy()\n",
    "        x[..., 0] += 103.939\n",
    "        x[..., 1] += 116.779\n",
    "        x[..., 2] += 123.68\n",
    "        return x\n",
    "\n",
    "    def random_transform(self, x, y):\n",
    "        flips = np.random.randint(0, 2, (3,))\n",
    "        if flips[0]:\n",
    "            x = np.rot90(x)\n",
    "            y = np.rot90(y)\n",
    "        if flips[1]:\n",
    "            x = np.flipud(x)\n",
    "            y = np.flipud(y)\n",
    "        if flips[2]:\n",
    "            x = np.fliplr(x)\n",
    "            y = np.fliplr(y)\n",
    "        return x, y\n",
    "                     \n",
    "    def get_dots_in_patch(self, sx, sy, dots):\n",
    "        dots_in_patch = [[] for _ in range(self.n_sealion_types)]\n",
    "        for i, ds in enumerate(dots):\n",
    "            for (x, y) in ds:\n",
    "                if sx <= x < sx + self.target_size[1] and sy <= y < sy + self.target_size[0]:\n",
    "                    dots_in_patch[i].append((x - sx, y - sy))\n",
    "        return dots_in_patch\n",
    "    \n",
    "    def build_smap(self, dots):\n",
    "        h = self.target_size[0]//self.scale - 2 * self.crop[0]\n",
    "        w = self.target_size[1]//self.scale - 2 * self.crop[1]\n",
    "        smap = np.zeros((h, w, 6), dtype=np.float32)\n",
    "        smap[..., 5] = 1\n",
    "        for c, ds in enumerate(dots):\n",
    "            for (x, y) in ds:\n",
    "                xr = int(round(x/self.scale - self.crop[1]))\n",
    "                yr = int(round(y/self.scale - self.crop[0]))\n",
    "                if 0 <= xr < w and 0 <= yr < h:\n",
    "                    smap[yr, xr, c] = 1\n",
    "                    smap[yr, xr, 5] = 0\n",
    "        return smap\n",
    "                                                                                          \n",
    "    def sample(self, shape, dots, image_id):\n",
    "        margin = 60\n",
    "        background_proba = 0.01\n",
    "        max_iterations = self.n_samples_per_block * 5\n",
    "        \n",
    "        img = cv2.imread(os.path.join(self.root_dir, \"Train\", str(image_id) + \".jpg\"))\n",
    "                                                                                          \n",
    "        n_samples = 0\n",
    "        bx = np.zeros((self.n_samples_per_block, self.target_size[0], self.target_size[1], 3))\n",
    "        by = np.zeros((self.n_samples_per_block, self.target_size[0]//self.scale - 2 * self.crop[0],\n",
    "                       self.target_size[1]//self.scale - 2 * self.crop[1], 6))\n",
    "\n",
    "        current_iteration = 0\n",
    "        \n",
    "        all_dots = [d for ds in dots for d in ds]\n",
    "                             \n",
    "        # Samples n dots, with some probabilty to get the background only\n",
    "        while n_samples < self.n_samples_per_block and current_iteration < max_iterations:\n",
    "            current_iteration += 1\n",
    "            try:\n",
    "                n_background = int(round(background_proba * len(all_dots)))\n",
    "                dot_index = np.random.randint(0, len(all_dots) + n_background)\n",
    "                if dot_index < len(all_dots):\n",
    "                    rx, ry = all_dots[dot_index]\n",
    "                    sx_min = min(max(0, rx - self.target_size[1] + margin), shape[1] - self.target_size[1])\n",
    "                    sx_max = min(max(0, rx - margin), shape[1] - self.target_size[1])\n",
    "                    sy_min = min(max(0, ry - self.target_size[0] + margin), shape[0] - self.target_size[1])\n",
    "                    sy_max = min(max(0, ry - margin), shape[0] - self.target_size[0])\n",
    "                else:\n",
    "                    sx_min = 0\n",
    "                    sx_max = shape[1] - self.target_size[1]\n",
    "                    sy_min = 0\n",
    "                    sy_max = shape[0] - self.target_size[0]\n",
    "                \n",
    "                if sx_min >= sx_max or sy_min >= sy_max:\n",
    "                    continue\n",
    "                    \n",
    "                sx = np.random.randint(sx_min, sx_max)\n",
    "                sy = np.random.randint(sy_min, sy_max)\n",
    "\n",
    "                dots_in_patch = self.get_dots_in_patch(sx, sy, dots)\n",
    "                \n",
    "                img_patch = img[sy:sy+self.target_size[0], sx:sx+self.target_size[1],:]\n",
    "                if img_patch.shape[0] != self.target_size[0] or img_patch.shape[1] != self.target_size[1]:\n",
    "                    continue\n",
    "                spatch = self.build_smap(dots_in_patch)\n",
    "                bx[n_samples, ...] = img_patch\n",
    "                by[n_samples, ...] = spatch\n",
    "                n_samples += 1\n",
    "            except NonValidPatch:\n",
    "                continue\n",
    "                    \n",
    "        if current_iteration < max_iterations:\n",
    "            return bx, by\n",
    "        else:\n",
    "            raise Exception(\"hoho\")\n",
    "    \n",
    "        \n",
    "    def next(self):\n",
    "        \"\"\"For python 2.x.\n",
    "        # Returns\n",
    "            The next batch.\n",
    "        \"\"\"\n",
    "        # Keeps under lock only the mechanism which advances\n",
    "        # the indexing of each batch.\n",
    "        with self.lock:\n",
    "            index_array, current_index, current_batch_size = next(self.index_generator)\n",
    "                \n",
    "        batch_x = np.zeros((current_batch_size * self.n_samples_per_block,\n",
    "                            self.target_size[0],\n",
    "                            self.target_size[1],\n",
    "                            3),\n",
    "                           dtype=K.floatx())\n",
    "        batch_y = np.zeros((current_batch_size * self.n_samples_per_block,\n",
    "                            self.target_size[0]//self.scale - 2 * self.crop[0],\n",
    "                            self.target_size[1]//self.scale - 2 * self.crop[1],\n",
    "                           6),\n",
    "                           dtype=np.int32)\n",
    "        \n",
    "        # For each index, we load the data and sample randomly n_successive_samples patches\n",
    "        for i, j in enumerate(index_array):\n",
    "            index = j // self.n_samples_per_image\n",
    "            image_id = self.image_ids[index]\n",
    "            with open(os.path.join(self.root_dir, \"TrainDots\", str(image_id) + \".pkl\"), \"rb\") as pfile:\n",
    "                dots = pickle.load(pfile)\n",
    "            with open(os.path.join(self.root_dir, \"TrainShape\", str(image_id) + \".pkl\"), \"rb\") as pfile:\n",
    "                shape = pickle.load(pfile)\n",
    "                \n",
    "            x, y = self.sample(shape, dots, image_id)\n",
    "            batch_x[i*self.n_samples_per_block:(i+1)*self.n_samples_per_block, ...] = x\n",
    "            batch_y[i*self.n_samples_per_block:(i+1)*self.n_samples_per_block, ...] = y \n",
    "\n",
    "        if self.debug_dir:\n",
    "            for i in range(batch_x.shape[0]):\n",
    "                cv2.imwrite(os.path.join(self.debug_dir, \"patch_{}.jpg\".format(i)), batch_x[i])\n",
    "                cv2.imwrite(os.path.join(self.debug_dir, \"smap_{}.jpg\".format(i)), to_img(batch_y[i]))\n",
    "        return self.normalize_input(batch_x), batch_y"
   ]
  },
  {
   "cell_type": "code",
   "execution_count": 331,
   "metadata": {
    "collapsed": true
   },
   "outputs": [],
   "source": [
    "with open(\"../data/sealion/train.json\", \"r\") as jfile:\n",
    "    train_ids = json.load(jfile)\n",
    "train_ids = [int(iid) for iid in train_ids]\n",
    "\n",
    "with open(\"../data/sealion/val.json\", \"r\") as jfile:\n",
    "    val_ids = json.load(jfile)\n",
    "val_ids = [int(iid) for iid in val_ids]"
   ]
  },
  {
   "cell_type": "code",
   "execution_count": 332,
   "metadata": {
    "collapsed": true
   },
   "outputs": [],
   "source": [
    "trainPatchesGenerator = PatchIterator(\"/home/lowik/sealion/data/sealion/\", train_ids)"
   ]
  },
  {
   "cell_type": "code",
   "execution_count": 333,
   "metadata": {
    "collapsed": true
   },
   "outputs": [],
   "source": [
    "valPatchesGenerator = PatchIterator(\"/home/lowik/sealion/data/sealion/\", val_ids)"
   ]
  },
  {
   "cell_type": "code",
   "execution_count": 335,
   "metadata": {},
   "outputs": [],
   "source": [
    "for batch_x, batch_y in valPatchesGenerator:\n",
    "    break"
   ]
  },
  {
   "cell_type": "code",
   "execution_count": 336,
   "metadata": {},
   "outputs": [
    {
     "data": {
      "text/plain": [
       "(8, 512, 512, 3)"
      ]
     },
     "execution_count": 336,
     "metadata": {},
     "output_type": "execute_result"
    }
   ],
   "source": [
    "batch_x.shape"
   ]
  },
  {
   "cell_type": "code",
   "execution_count": 337,
   "metadata": {},
   "outputs": [
    {
     "data": {
      "text/plain": [
       "(8, 44, 44, 6)"
      ]
     },
     "execution_count": 337,
     "metadata": {},
     "output_type": "execute_result"
    }
   ],
   "source": [
    "batch_y.shape"
   ]
  },
  {
   "cell_type": "code",
   "execution_count": 339,
   "metadata": {
    "collapsed": true
   },
   "outputs": [],
   "source": [
    "bpred = unet.predict(batch_x)"
   ]
  },
  {
   "cell_type": "code",
   "execution_count": 340,
   "metadata": {},
   "outputs": [
    {
     "data": {
      "text/plain": [
       "<matplotlib.image.AxesImage at 0x7f17f5e5a470>"
      ]
     },
     "execution_count": 340,
     "metadata": {},
     "output_type": "execute_result"
    },
    {
     "data": {
      "image/png": "[encoded data removed]",
      "text/plain": [
       "<matplotlib.figure.Figure at 0x7f17f5eea668>"
      ]
     },
     "metadata": {},
     "output_type": "display_data"
    }
   ],
   "source": [
    "i = 7\n",
    "plt.figure(figsize=(18, 6))\n",
    "plt.subplot(131)\n",
    "plt.imshow(valPatchesGenerator.denormalize_input(batch_x[i,:,:, :]))\n",
    "plt.subplot(132)\n",
    "plt.imshow(np.argmax(batch_y[i,...], axis=-1))\n",
    "plt.subplot(133)\n",
    "plt.imshow(np.argmax(bpred[i,...], axis=-1))"
   ]
  },
  {
   "cell_type": "code",
   "execution_count": 95,
   "metadata": {},
   "outputs": [],
   "source": [
    "classes_counts = trainPatchesGenerator.compute_class_distribution(100)"
   ]
  },
  {
   "cell_type": "code",
   "execution_count": 96,
   "metadata": {},
   "outputs": [
    {
     "data": {
      "text/plain": [
       "[383, 387, 3646, 2858, 787, 1540739]"
      ]
     },
     "execution_count": 96,
     "metadata": {},
     "output_type": "execute_result"
    }
   ],
   "source": [
    "classes_counts"
   ]
  },
  {
   "cell_type": "code",
   "execution_count": 293,
   "metadata": {
    "collapsed": true
   },
   "outputs": [],
   "source": [
    "def weighted_categorical_crossentropy(y_true, y_pred):\n",
    "    weights = K.max(y_true * weights_per_class, axis=-1)\n",
    "    loss_per_pixel = K.categorical_crossentropy(y_pred, y_true)\n",
    "    return loss_per_pixel * weights"
   ]
  },
  {
   "cell_type": "code",
   "execution_count": 294,
   "metadata": {
    "collapsed": true
   },
   "outputs": [],
   "source": [
    "def counts_rmse(y_true, y_pred):\n",
    "    counts_true = K.sum(K.sum(y_true, axis=1), axis=1)[..., :-1]\n",
    "    y_pred_hard = K.argmax(y_pred, axis=-1)\n",
    "    y_pred_ohe = K.one_hot(y_pred_hard, num_classes=y_pred.shape[-1])\n",
    "    \n",
    "    counts_pred = K.sum(K.sum(y_pred_ohe, axis=1), axis=1)[..., :-1]\n",
    "    counts_pred_f = K.cast(counts_pred, K.floatx())\n",
    "    rmse_per_type = K.sqrt(K.mean(K.square(counts_true - counts_pred_f), axis=0))\n",
    "    return rmse_per_type"
   ]
  },
  {
   "cell_type": "code",
   "execution_count": 347,
   "metadata": {
    "collapsed": true
   },
   "outputs": [],
   "source": [
    "def loss_total(y_true, y_pred, scale=0.01):\n",
    "    return K.mean(weighted_categorical_crossentropy(y_true, y_pred)) + scale * K.mean(counts_rmse(y_true, y_pred))"
   ]
  },
  {
   "cell_type": "code",
   "execution_count": 348,
   "metadata": {},
   "outputs": [],
   "source": [
    "y_true = np.zeros((3, 2, 3))\n",
    "y_true[..., 2] = 1\n",
    "# points in (1, 1)\n",
    "y_true[1, 1, 0] = 1\n",
    "y_true[1, 1, 2] = 0\n",
    "# points in (2, 1)\n",
    "y_true[2, 1, 1] = 1\n",
    "y_true[2, 1, 2] = 0\n",
    "# points in (0, 1)\n",
    "y_true[0, 1, 1] = 1\n",
    "y_true[0, 1, 2] = 0"
   ]
  },
  {
   "cell_type": "code",
   "execution_count": 349,
   "metadata": {
    "collapsed": true
   },
   "outputs": [],
   "source": [
    "weights_per_class = np.array([1, 2, 3])"
   ]
  },
  {
   "cell_type": "code",
   "execution_count": null,
   "metadata": {
    "collapsed": true
   },
   "outputs": [],
   "source": []
  },
  {
   "cell_type": "code",
   "execution_count": 350,
   "metadata": {},
   "outputs": [
    {
     "data": {
      "text/plain": [
       "array([[2, 1],\n",
       "       [2, 0],\n",
       "       [2, 1]])"
      ]
     },
     "execution_count": 350,
     "metadata": {},
     "output_type": "execute_result"
    }
   ],
   "source": [
    "np.argmax(y_true, axis=-1)"
   ]
  },
  {
   "cell_type": "code",
   "execution_count": 351,
   "metadata": {
    "collapsed": true
   },
   "outputs": [],
   "source": [
    "y_pred = np.zeros((3, 2, 3))\n",
    "y_pred[..., 2] = 0.85\n",
    "y_pred[..., 1] = 0.1\n",
    "y_pred[..., 0] = 0.05\n",
    "# points in (1, 1)\n",
    "y_pred[1, 1, 0] = 0.87\n",
    "y_pred[1, 1, 1] = 0.1\n",
    "y_pred[1, 1, 2] = 1 - 0.1 - 0.87\n",
    "# points in (2, 1)\n",
    "y_pred[2, 1, 1] = 0.7\n",
    "y_pred[2, 1, 0] = 0.2\n",
    "y_pred[2, 1, 2] = 0.1\n",
    "# points in (0, 1)\n",
    "y_pred[0, 1, 1] = 0.3\n",
    "y_pred[0, 1, 0] = 0.6\n",
    "y_pred[0, 1, 2] = 0.2\n",
    "\n",
    "# wrong points in (0, 0)\n",
    "y_pred[0, 0, 1] = 0.4\n",
    "y_pred[0, 0, 0] = 0.4\n",
    "y_pred[0, 0, 2] = 0.2"
   ]
  },
  {
   "cell_type": "code",
   "execution_count": 352,
   "metadata": {},
   "outputs": [
    {
     "data": {
      "text/plain": [
       "array([[0, 0],\n",
       "       [2, 0],\n",
       "       [2, 1]])"
      ]
     },
     "execution_count": 352,
     "metadata": {},
     "output_type": "execute_result"
    }
   ],
   "source": [
    "np.argmax(y_pred, axis=-1)"
   ]
  },
  {
   "cell_type": "code",
   "execution_count": 353,
   "metadata": {},
   "outputs": [],
   "source": [
    "y_true_f = K.constant(y_true.reshape((1, 3, 2, 3)))\n",
    "y_pred_f = K.constant(y_pred.reshape((1, 3, 2, 3)))"
   ]
  },
  {
   "cell_type": "code",
   "execution_count": 354,
   "metadata": {},
   "outputs": [
    {
     "data": {
      "text/plain": [
       "<tf.Tensor 'Const_96:0' shape=(1, 3, 2, 3) dtype=float32>"
      ]
     },
     "execution_count": 354,
     "metadata": {},
     "output_type": "execute_result"
    }
   ],
   "source": [
    "y_true_f"
   ]
  },
  {
   "cell_type": "code",
   "execution_count": 355,
   "metadata": {},
   "outputs": [
    {
     "name": "stdout",
     "output_type": "stream",
     "text": [
      "[ 2.  1.]\n"
     ]
    }
   ],
   "source": [
    "with sess.as_default():\n",
    "    print(counts_rmse(y_true_f, y_pred_f).eval())"
   ]
  },
  {
   "cell_type": "code",
   "execution_count": 356,
   "metadata": {
    "collapsed": true
   },
   "outputs": [],
   "source": [
    "weights_per_class = np.array([1, 10, 100])"
   ]
  },
  {
   "cell_type": "code",
   "execution_count": 357,
   "metadata": {},
   "outputs": [
    {
     "name": "stdout",
     "output_type": "stream",
     "text": [
      "[[[  1.60943787e+02   1.29928293e+01]\n",
      "  [  1.62518883e+01   1.39262065e-01]\n",
      "  [  1.62518883e+01   3.56674957e+00]]]\n"
     ]
    }
   ],
   "source": [
    "with sess.as_default():\n",
    "    print(weighted_categorical_crossentropy(y_true_f, y_pred_f).eval())"
   ]
  },
  {
   "cell_type": "code",
   "execution_count": 358,
   "metadata": {
    "collapsed": true
   },
   "outputs": [],
   "source": [
    "cb_checkpoint = ModelCheckpoint(\"/home/lowik/data/models/segmentation_small/ckpt_{epoch:02d}-{val_loss:.2f}.h5\")\n",
    "cb_reduce_lr = ReduceLROnPlateau(monitor='val_loss', factor=0.1, patience=2, verbose=1, mode='auto', epsilon=0.01, cooldown=0, min_lr=0)\n",
    "tensorboard_cb = TensorBoardCallBack(log_dir=\"/home/lowik/data/models/segmentation_small/log_tb\", batch_freq=10)"
   ]
  },
  {
   "cell_type": "code",
   "execution_count": 359,
   "metadata": {
    "collapsed": true
   },
   "outputs": [],
   "source": [
    "weights_per_class = np.array([100, 100, 100, 100, 100, 1])"
   ]
  },
  {
   "cell_type": "code",
   "execution_count": 360,
   "metadata": {
    "collapsed": true
   },
   "outputs": [],
   "source": [
    "y_true = K.constant(batch_y)\n",
    "y_pred = K.constant(bpred)"
   ]
  },
  {
   "cell_type": "code",
   "execution_count": 361,
   "metadata": {},
   "outputs": [
    {
     "name": "stdout",
     "output_type": "stream",
     "text": [
      "2.01556\n"
     ]
    }
   ],
   "source": [
    "with sess.as_default():\n",
    "    print(np.mean(weighted_categorical_crossentropy(y_true, y_pred).eval()))"
   ]
  },
  {
   "cell_type": "code",
   "execution_count": 362,
   "metadata": {},
   "outputs": [
    {
     "name": "stdout",
     "output_type": "stream",
     "text": [
      "234.391\n"
     ]
    }
   ],
   "source": [
    "with sess.as_default():\n",
    "    print(np.mean(counts_rmse(y_true, y_pred).eval()))"
   ]
  },
  {
   "cell_type": "code",
   "execution_count": 363,
   "metadata": {},
   "outputs": [],
   "source": [
    "sgd = SGD(lr=1e-3, momentum=0.9, decay=1e-6, nesterov=True)\n",
    "unet.compile(optimizer=sgd, loss=loss_total, metrics=[\"accuracy\"])"
   ]
  },
  {
   "cell_type": "code",
   "execution_count": null,
   "metadata": {},
   "outputs": [
    {
     "name": "stdout",
     "output_type": "stream",
     "text": [
      "Epoch 1/20\n",
      "   3/1000 [..............................] - ETA: 23490s - loss: 5.5495 - acc: 0.4189"
     ]
    }
   ],
   "source": [
    "h = unet.fit_generator(trainPatchesGenerator, 1000, epochs=20,\n",
    "                           verbose=1, callbacks=[cb_checkpoint, cb_reduce_lr, tensorboard_cb],\n",
    "                           validation_data=valPatchesGenerator, validation_steps=200,\n",
    "                           class_weight=None,\n",
    "                           max_q_size=2, workers=1, pickle_safe=False,\n",
    "                           initial_epoch=0)"
   ]
  },
  {
   "cell_type": "code",
   "execution_count": null,
   "metadata": {
    "collapsed": true
   },
   "outputs": [],
   "source": [
    "for batch_x, batch_y in valPatchesGenerator:\n",
    "    break"
   ]
  },
  {
   "cell_type": "code",
   "execution_count": null,
   "metadata": {
    "collapsed": true
   },
   "outputs": [],
   "source": [
    "bpred = unet.predict(batch_x)"
   ]
  },
  {
   "cell_type": "code",
   "execution_count": null,
   "metadata": {
    "collapsed": true
   },
   "outputs": [],
   "source": [
    "i = 0\n",
    "plt.figure(figsize=(15, 5))\n",
    "plt.subplot(121)\n",
    "plt.imshow(valPatchesGenerator.denormalize_input(batch_x[i,:,:, :]))\n",
    "plt.subplot(122)\n",
    "plt.imshow(np.argmax(bpred[i,...], axis=-1))"
   ]
  },
  {
   "cell_type": "code",
   "execution_count": null,
   "metadata": {
    "collapsed": true
   },
   "outputs": [],
   "source": [
    "unet.save(\"../data/unet_segmentation_ellipse_dmap_sgd_10epochs_200steps.h5\")"
   ]
  },
  {
   "cell_type": "code",
   "execution_count": null,
   "metadata": {
    "collapsed": true
   },
   "outputs": [],
   "source": [
    "for batch_x, batch_y in valPatchesGenerator:\n",
    "    break"
   ]
  },
  {
   "cell_type": "code",
   "execution_count": null,
   "metadata": {
    "collapsed": true
   },
   "outputs": [],
   "source": [
    "batch_ypred = unet.predict(batch_x)"
   ]
  },
  {
   "cell_type": "code",
   "execution_count": null,
   "metadata": {
    "collapsed": true
   },
   "outputs": [],
   "source": [
    "batch_ypred.shape"
   ]
  },
  {
   "cell_type": "code",
   "execution_count": null,
   "metadata": {
    "collapsed": true
   },
   "outputs": [],
   "source": [
    "np.min(batch_ypred[:,:,2])"
   ]
  },
  {
   "cell_type": "code",
   "execution_count": null,
   "metadata": {
    "collapsed": true
   },
   "outputs": [],
   "source": [
    "gg = np.argmax(batch_ypred, axis=-1)"
   ]
  },
  {
   "cell_type": "code",
   "execution_count": null,
   "metadata": {
    "collapsed": true
   },
   "outputs": [],
   "source": [
    "np.unique(gg, return_counts=True)"
   ]
  },
  {
   "cell_type": "code",
   "execution_count": null,
   "metadata": {
    "collapsed": true
   },
   "outputs": [],
   "source": [
    "i = 0\n",
    "plt.figure(figsize=(15, 5))\n",
    "plt.subplot(131)\n",
    "plt.imshow(valPatchesGenerator.denormalize_input(batch_x[i,:,:, :]))\n",
    "plt.subplot(132)\n",
    "plt.imshow(np.argmax(batch_y[i,...], axis=-1))\n",
    "plt.subplot(133)\n",
    "plt.imshow(np.argmax(batch_ypred[i,...], axis=-1))"
   ]
  },
  {
   "cell_type": "code",
   "execution_count": null,
   "metadata": {
    "collapsed": true
   },
   "outputs": [],
   "source": [
    "plt.imshow(valPatchesGenerator.denormalize_output(batch_ypred[i,:,:, 0]) > 0.0007)"
   ]
  },
  {
   "cell_type": "code",
   "execution_count": null,
   "metadata": {
    "collapsed": true
   },
   "outputs": [],
   "source": [
    "i = 7\n",
    "print(\"GT: \", np.sum(valPatchesGenerator.denormalize_output(batch_y[i,:,:, 0])))\n",
    "print(\"Pred: \", np.sum(valPatchesGenerator.denormalize_output(batch_ypred[i,:,:, 0])))"
   ]
  },
  {
   "cell_type": "code",
   "execution_count": null,
   "metadata": {
    "collapsed": true
   },
   "outputs": [],
   "source": [
    "def full_image_process(im, net, patchGenerator, patch_size=(224, 224), batch_size=8, overlap=(64, 64)):\n",
    "    h, w, c = im.shape\n",
    "    n_patches_x = int(np.ceil((w - patch_size[1])/(patch_size[1] - overlap[1]) + 1))\n",
    "    n_patches_y = int(np.ceil((h - patch_size[0])/(patch_size[0] - overlap[0]) + 1))\n",
    "    print(n_patches_x, n_patches_x)\n",
    "    \n",
    "    dmap = np.zeros((h, w, 1), dtype=np.float32)\n",
    "    dmap_count = np.zeros((h, w, 1), dtype=np.int8)\n",
    "    batch_x = np.zeros((batch_size, ) + patch_size + (c, ), dtype=np.float32)\n",
    "    batch_pos = np.zeros((batch_size, 4), dtype=np.int32)\n",
    "    \n",
    "    current_batch_size = 0\n",
    "    for py in range(n_patches_y):\n",
    "        y_start = py * (patch_size[0] - overlap[0])\n",
    "        y_start = min(h - patch_size[0], y_start)\n",
    "        y_end = y_start + patch_size[0]\n",
    "        for px in range(n_patches_x):\n",
    "            x_start = px * (patch_size[1] - overlap[1])\n",
    "            x_start = min(w - patch_size[1], x_start)\n",
    "            x_end = x_start + patch_size[1]\n",
    "            \n",
    "            # Keep filling the batch\n",
    "            batch_x[current_batch_size, :, :, :] = im[y_start:y_end, x_start:x_end, :]\n",
    "            batch_pos[current_batch_size, :] = np.array([y_start, y_end, x_start, x_end])\n",
    "            current_batch_size += 1\n",
    "            \n",
    "            if current_batch_size == batch_size or (py == n_patches_y - 1 and px == n_patches_x - 1) :\n",
    "                # time to predict\n",
    "                batch_x_normed = patchGenerator.normalize_input(batch_x)\n",
    "                batch_ylog = net.predict(batch_x_normed)\n",
    "                batch_y = patchGenerator.denormalize_output(batch_ylog)\n",
    "                # Fill the full dmap\n",
    "                for i in range(current_batch_size):\n",
    "                    y_start, y_end, x_start, x_end = tuple(batch_pos[i,:])\n",
    "                    dmap[y_start:y_end, x_start:x_end, :] += batch_y[i,:,:,:]\n",
    "                    dmap_count[y_start:y_end, x_start:x_end] += 1\n",
    "                current_batch_size = 0\n",
    "                \n",
    "    return dmap, dmap_count"
   ]
  },
  {
   "cell_type": "code",
   "execution_count": null,
   "metadata": {
    "collapsed": true
   },
   "outputs": [],
   "source": [
    "im = cv2.imread(\"../data/sealion/Train/872.jpg\")"
   ]
  },
  {
   "cell_type": "code",
   "execution_count": null,
   "metadata": {
    "collapsed": true
   },
   "outputs": [],
   "source": [
    "dmap, dmap_count = full_image_process(im, unet, valPatchesGenerator)"
   ]
  },
  {
   "cell_type": "code",
   "execution_count": null,
   "metadata": {
    "collapsed": true
   },
   "outputs": [],
   "source": [
    "plt.imshow(dmap[:,:,0])"
   ]
  },
  {
   "cell_type": "code",
   "execution_count": null,
   "metadata": {
    "collapsed": true
   },
   "outputs": [],
   "source": [
    "dmap_avg = dmap/dmap_count"
   ]
  },
  {
   "cell_type": "code",
   "execution_count": null,
   "metadata": {
    "collapsed": true
   },
   "outputs": [],
   "source": [
    "dmap_count.shape"
   ]
  },
  {
   "cell_type": "code",
   "execution_count": null,
   "metadata": {
    "collapsed": true
   },
   "outputs": [],
   "source": [
    "np.sum(dmap)"
   ]
  },
  {
   "cell_type": "code",
   "execution_count": null,
   "metadata": {
    "collapsed": true
   },
   "outputs": [],
   "source": [
    "np.sum(dmap_avg)"
   ]
  },
  {
   "cell_type": "code",
   "execution_count": null,
   "metadata": {
    "collapsed": true
   },
   "outputs": [],
   "source": [
    "dmap_gt = np.load(\"../data/sealion/TrainDensity/872_0.npz\")"
   ]
  }
 ],
 "metadata": {
  "kernelspec": {
   "display_name": "Python 3",
   "language": "python",
   "name": "python3"
  },
  "language_info": {
   "codemirror_mode": {
    "name": "ipython",
    "version": 3
   },
   "file_extension": ".py",
   "mimetype": "text/x-python",
   "name": "python",
   "nbconvert_exporter": "python",
   "pygments_lexer": "ipython3",
   "version": "3.5.2"
  }
 },
 "nbformat": 4,
 "nbformat_minor": 2
}
