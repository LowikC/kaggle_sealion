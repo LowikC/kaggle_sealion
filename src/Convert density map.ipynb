{
 "cells": [
  {
   "cell_type": "code",
   "execution_count": 1,
   "metadata": {
    "collapsed": true
   },
   "outputs": [],
   "source": [
    "import numpy as np\n",
    "import matplotlib.pyplot as plt\n",
    "%matplotlib inline"
   ]
  },
  {
   "cell_type": "code",
   "execution_count": 4,
   "metadata": {
    "collapsed": true
   },
   "outputs": [],
   "source": [
    "dmap = np.load(\"../data/sealion/TrainDensity/872_2.npz\")[\"dmap\"]"
   ]
  },
  {
   "cell_type": "code",
   "execution_count": 23,
   "metadata": {
    "collapsed": true
   },
   "outputs": [],
   "source": [
    "thresholds = {\"adult_males\": 8.9704939e-05,\n",
    "              'subadult_males': 0.00011353281,\n",
    "              'juveniles': 0.00045413131,\n",
    "              'adult_females': 0.00017314499,\n",
    "              'pups': 0.001162576}"
   ]
  },
  {
   "cell_type": "code",
   "execution_count": 24,
   "metadata": {
    "collapsed": true
   },
   "outputs": [],
   "source": [
    "sealion_types = [\"adult_males\", \n",
    "    \"subadult_males\",\n",
    "    \"adult_females\",\n",
    "    \"juveniles\",\n",
    "    \"pups\"]"
   ]
  },
  {
   "cell_type": "code",
   "execution_count": 136,
   "metadata": {
    "collapsed": true
   },
   "outputs": [],
   "source": [
    "def convert_dmap(dmap):\n",
    "    # Rescale between layer, due to different gaussian\n",
    "    rescale = np.array([1/8.9704939e-05, 1/0.00011353281, 1/0.00017314499, 1/0.00045413131, 1/0.001162576])\n",
    "    dscaled = dmap * rescale\n",
    "    \n",
    "    # Keep only one non-zero value per pixel\n",
    "    dmax = np.argmax(dscaled, axis=-1)\n",
    "    dscaled[dmax!=0, 0] = 0\n",
    "    dscaled[dmax!=1, 1] = 0\n",
    "    dscaled[dmax!=2, 2] = 0\n",
    "    dscaled[dmax!=3, 3] = 0\n",
    "    dscaled[dmax!=4, 4] = 0\n",
    "    \n",
    "    # Thresholds differs due to the different size of the gaussians\n",
    "    dmap_thresholded = (dscaled > 1)\n",
    "    \n",
    "    # Compute the background layer\n",
    "    dsum = np.sum(dmap_thresholded, axis=-1)\n",
    "    dbackground = dsum == 0\n",
    "    \n",
    "    # Merge the background layer\n",
    "    dmerge = np.concatenate((dmap_thresholded, np.expand_dims(dbackground, axis=-1)), axis=-1)\n",
    "    return dmerge.astype(np.int)"
   ]
  },
  {
   "cell_type": "code",
   "execution_count": 137,
   "metadata": {
    "collapsed": true
   },
   "outputs": [],
   "source": [
    "dm = convert_dmap(dmap)"
   ]
  },
  {
   "cell_type": "code",
   "execution_count": 105,
   "metadata": {},
   "outputs": [
    {
     "data": {
      "text/plain": [
       "<matplotlib.image.AxesImage at 0x7f8e1ccc4978>"
      ]
     },
     "execution_count": 105,
     "metadata": {},
     "output_type": "execute_result"
    },
    {
     "data": {
      "image/png": "[encoded data removed]",
      "text/plain": [
       "<matplotlib.figure.Figure at 0x7f8e1cd39208>"
      ]
     },
     "metadata": {},
     "output_type": "display_data"
    }
   ],
   "source": [
    "plt.imshow(dm[:,:,0])"
   ]
  },
  {
   "cell_type": "code",
   "execution_count": 106,
   "metadata": {},
   "outputs": [
    {
     "data": {
      "text/plain": [
       "<matplotlib.image.AxesImage at 0x7f8e1cc2fa90>"
      ]
     },
     "execution_count": 106,
     "metadata": {},
     "output_type": "execute_result"
    },
    {
     "data": {
      "image/png": "[encoded data removed]",
      "text/plain": [
       "<matplotlib.figure.Figure at 0x7f8e1ccd5b38>"
      ]
     },
     "metadata": {},
     "output_type": "display_data"
    }
   ],
   "source": [
    "plt.imshow(dm[:,:,5])"
   ]
  },
  {
   "cell_type": "code",
   "execution_count": 144,
   "metadata": {},
   "outputs": [
    {
     "data": {
      "text/plain": [
       "True"
      ]
     },
     "execution_count": 144,
     "metadata": {},
     "output_type": "execute_result"
    }
   ],
   "source": [
    "cv2.imwrite(\"../data/g.png\", (dm[:,:,5] * 255).astype(np.uint8))"
   ]
  }
 ],
 "metadata": {
  "kernelspec": {
   "display_name": "Python 3",
   "language": "python",
   "name": "python3"
  },
  "language_info": {
   "codemirror_mode": {
    "name": "ipython",
    "version": 3
   },
   "file_extension": ".py",
   "mimetype": "text/x-python",
   "name": "python",
   "nbconvert_exporter": "python",
   "pygments_lexer": "ipython3",
   "version": "3.5.2"
  }
 },
 "nbformat": 4,
 "nbformat_minor": 2
}
