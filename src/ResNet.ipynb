{
 "cells": [
  {
   "cell_type": "code",
   "execution_count": 1,
   "metadata": {},
   "outputs": [
    {
     "name": "stderr",
     "output_type": "stream",
     "text": [
      "Using TensorFlow backend.\n"
     ]
    }
   ],
   "source": [
    "from keras.applications.resnet50 import ResNet50"
   ]
  },
  {
   "cell_type": "code",
   "execution_count": 2,
   "metadata": {
    "collapsed": true
   },
   "outputs": [],
   "source": [
    "from keras.models import Model"
   ]
  },
  {
   "cell_type": "code",
   "execution_count": 15,
   "metadata": {
    "collapsed": true
   },
   "outputs": [],
   "source": [
    "base_model = ResNet50(weights='imagenet', include_top=False)"
   ]
  },
  {
   "cell_type": "code",
   "execution_count": 16,
   "metadata": {},
   "outputs": [
    {
     "data": {
      "text/plain": [
       "(None, None, None, 2048)"
      ]
     },
     "execution_count": 16,
     "metadata": {},
     "output_type": "execute_result"
    }
   ],
   "source": [
    "base_model.output_shape"
   ]
  },
  {
   "cell_type": "code",
   "execution_count": null,
   "metadata": {
    "collapsed": true
   },
   "outputs": [],
   "source": []
  },
  {
   "cell_type": "code",
   "execution_count": 19,
   "metadata": {
    "collapsed": true
   },
   "outputs": [],
   "source": [
    "output = base_model.layers[-2].output"
   ]
  },
  {
   "cell_type": "code",
   "execution_count": 22,
   "metadata": {
    "collapsed": true
   },
   "outputs": [],
   "source": [
    "test = Model(inputs = [base_model.input], outputs=[output])"
   ]
  },
  {
   "cell_type": "code",
   "execution_count": 3,
   "metadata": {
    "collapsed": true
   },
   "outputs": [],
   "source": [
    "import numpy as np"
   ]
  },
  {
   "cell_type": "code",
   "execution_count": null,
   "metadata": {
    "collapsed": true
   },
   "outputs": [],
   "source": []
  },
  {
   "cell_type": "code",
   "execution_count": 31,
   "metadata": {
    "collapsed": true
   },
   "outputs": [],
   "source": [
    "t = np.ones((1, 92, 92, 3))"
   ]
  },
  {
   "cell_type": "code",
   "execution_count": 32,
   "metadata": {},
   "outputs": [
    {
     "data": {
      "text/plain": [
       "(1, 3, 3, 2048)"
      ]
     },
     "execution_count": 32,
     "metadata": {},
     "output_type": "execute_result"
    }
   ],
   "source": [
    "test.predict(t).shape"
   ]
  },
  {
   "cell_type": "code",
   "execution_count": 4,
   "metadata": {
    "collapsed": true
   },
   "outputs": [],
   "source": [
    "from keras.applications.xception import Xception"
   ]
  },
  {
   "cell_type": "code",
   "execution_count": 5,
   "metadata": {
    "collapsed": true
   },
   "outputs": [],
   "source": [
    "base_model = Xception(weights='imagenet', include_top=False, pooling='avg', input_shape=(299, 299, 3))"
   ]
  },
  {
   "cell_type": "code",
   "execution_count": null,
   "metadata": {
    "collapsed": true
   },
   "outputs": [],
   "source": []
  },
  {
   "cell_type": "code",
   "execution_count": 8,
   "metadata": {},
   "outputs": [
    {
     "data": {
      "text/plain": [
       "[<keras.engine.topology.InputLayer at 0x7fe1753bb6a0>,\n",
       " <keras.layers.convolutional.Conv2D at 0x7fe1753bb860>,\n",
       " <keras.layers.normalization.BatchNormalization at 0x7fe1753bb978>,\n",
       " <keras.layers.core.Activation at 0x7fe1753bbcc0>,\n",
       " <keras.layers.convolutional.Conv2D at 0x7fe1753bbd30>,\n",
       " <keras.layers.normalization.BatchNormalization at 0x7fe17532f4e0>,\n",
       " <keras.layers.core.Activation at 0x7fe17534edd8>,\n",
       " <keras.layers.convolutional.SeparableConv2D at 0x7fe1752c3ef0>,\n",
       " <keras.layers.normalization.BatchNormalization at 0x7fe1752202b0>,\n",
       " <keras.layers.core.Activation at 0x7fe17524b5f8>,\n",
       " <keras.layers.convolutional.SeparableConv2D at 0x7fe17524b908>,\n",
       " <keras.layers.normalization.BatchNormalization at 0x7fe1751c8e10>,\n",
       " <keras.layers.convolutional.Conv2D at 0x7fe17534e5f8>,\n",
       " <keras.layers.pooling.MaxPooling2D at 0x7fe1751ba9e8>,\n",
       " <keras.layers.normalization.BatchNormalization at 0x7fe1752dd748>,\n",
       " <keras.layers.merge.Add at 0x7fe175162c18>,\n",
       " <keras.layers.core.Activation at 0x7fe175144d30>,\n",
       " <keras.layers.convolutional.SeparableConv2D at 0x7fe175144470>,\n",
       " <keras.layers.normalization.BatchNormalization at 0x7fe1750cc7b8>,\n",
       " <keras.layers.core.Activation at 0x7fe1750c1080>,\n",
       " <keras.layers.convolutional.SeparableConv2D at 0x7fe1750c10b8>,\n",
       " <keras.layers.normalization.BatchNormalization at 0x7fe17503bb70>,\n",
       " <keras.layers.convolutional.Conv2D at 0x7fe175182c50>,\n",
       " <keras.layers.pooling.MaxPooling2D at 0x7fe17503bd30>,\n",
       " <keras.layers.normalization.BatchNormalization at 0x7fe1751256d8>,\n",
       " <keras.layers.merge.Add at 0x7fe174fe5e80>,\n",
       " <keras.layers.core.Activation at 0x7fe174fc5e80>,\n",
       " <keras.layers.convolutional.SeparableConv2D at 0x7fe174fc5cc0>,\n",
       " <keras.layers.normalization.BatchNormalization at 0x7fe174f4ea20>,\n",
       " <keras.layers.core.Activation at 0x7fe174f432e8>,\n",
       " <keras.layers.convolutional.SeparableConv2D at 0x7fe174f43320>,\n",
       " <keras.layers.normalization.BatchNormalization at 0x7fe174e5af28>,\n",
       " <keras.layers.convolutional.Conv2D at 0x7fe175004eb8>,\n",
       " <keras.layers.pooling.MaxPooling2D at 0x7fe174e5a358>,\n",
       " <keras.layers.normalization.BatchNormalization at 0x7fe174fa7940>,\n",
       " <keras.layers.merge.Add at 0x7fe174e77128>,\n",
       " <keras.layers.core.Activation at 0x7fe174e87f60>,\n",
       " <keras.layers.convolutional.SeparableConv2D at 0x7fe174e28cc0>,\n",
       " <keras.layers.normalization.BatchNormalization at 0x7fe174de2f98>,\n",
       " <keras.layers.core.Activation at 0x7fe174de23c8>,\n",
       " <keras.layers.convolutional.SeparableConv2D at 0x7fe174e48e48>,\n",
       " <keras.layers.normalization.BatchNormalization at 0x7fe174d60e80>,\n",
       " <keras.layers.core.Activation at 0x7fe174dd2a58>,\n",
       " <keras.layers.convolutional.SeparableConv2D at 0x7fe174dd2f98>,\n",
       " <keras.layers.normalization.BatchNormalization at 0x7fe174ceabe0>,\n",
       " <keras.layers.merge.Add at 0x7fe174cdd4a8>,\n",
       " <keras.layers.core.Activation at 0x7fe174e18e10>,\n",
       " <keras.layers.convolutional.SeparableConv2D at 0x7fe174cdd518>,\n",
       " <keras.layers.normalization.BatchNormalization at 0x7fe174c74978>,\n",
       " <keras.layers.core.Activation at 0x7fe174c67240>,\n",
       " <keras.layers.convolutional.SeparableConv2D at 0x7fe174c67278>,\n",
       " <keras.layers.normalization.BatchNormalization at 0x7fe174bff898>,\n",
       " <keras.layers.core.Activation at 0x7fe174bff400>,\n",
       " <keras.layers.convolutional.SeparableConv2D at 0x7fe174bff2b0>,\n",
       " <keras.layers.normalization.BatchNormalization at 0x7fe174b7bd68>,\n",
       " <keras.layers.merge.Add at 0x7fe174b6c940>,\n",
       " <keras.layers.core.Activation at 0x7fe174c97978>,\n",
       " <keras.layers.convolutional.SeparableConv2D at 0x7fe174b6ccf8>,\n",
       " <keras.layers.normalization.BatchNormalization at 0x7fe174b05fd0>,\n",
       " <keras.layers.core.Activation at 0x7fe174af7630>,\n",
       " <keras.layers.convolutional.SeparableConv2D at 0x7fe174af7668>,\n",
       " <keras.layers.normalization.BatchNormalization at 0x7fe174a8f860>,\n",
       " <keras.layers.core.Activation at 0x7fe174a82128>,\n",
       " <keras.layers.convolutional.SeparableConv2D at 0x7fe174a82160>,\n",
       " <keras.layers.normalization.BatchNormalization at 0x7fe174a00c18>,\n",
       " <keras.layers.merge.Add at 0x7fe174a00dd8>,\n",
       " <keras.layers.core.Activation at 0x7fe174b37ba8>,\n",
       " <keras.layers.convolutional.SeparableConv2D at 0x7fe174a0ff60>,\n",
       " <keras.layers.normalization.BatchNormalization at 0x7fe174917eb8>,\n",
       " <keras.layers.core.Activation at 0x7fe17498aa90>,\n",
       " <keras.layers.convolutional.SeparableConv2D at 0x7fe17498ae48>,\n",
       " <keras.layers.normalization.BatchNormalization at 0x7fe1748a3fd0>,\n",
       " <keras.layers.core.Activation at 0x7fe1749154e0>,\n",
       " <keras.layers.convolutional.SeparableConv2D at 0x7fe174915518>,\n",
       " <keras.layers.normalization.BatchNormalization at 0x7fe174891fd0>,\n",
       " <keras.layers.merge.Add at 0x7fe174881898>,\n",
       " <keras.layers.core.Activation at 0x7fe1749a9f28>,\n",
       " <keras.layers.convolutional.SeparableConv2D at 0x7fe174820080>,\n",
       " <keras.layers.normalization.BatchNormalization at 0x7fe1747b8eb8>,\n",
       " <keras.layers.core.Activation at 0x7fe1747b82e8>,\n",
       " <keras.layers.convolutional.SeparableConv2D at 0x7fe1747b8ef0>,\n",
       " <keras.layers.normalization.BatchNormalization at 0x7fe174733da0>,\n",
       " <keras.layers.core.Activation at 0x7fe174726978>,\n",
       " <keras.layers.convolutional.SeparableConv2D at 0x7fe174726ef0>,\n",
       " <keras.layers.normalization.BatchNormalization at 0x7fe1746bdb00>,\n",
       " <keras.layers.merge.Add at 0x7fe1746b03c8>,\n",
       " <keras.layers.core.Activation at 0x7fe1747d9f60>,\n",
       " <keras.layers.convolutional.SeparableConv2D at 0x7fe1746b0438>,\n",
       " <keras.layers.normalization.BatchNormalization at 0x7fe174648898>,\n",
       " <keras.layers.core.Activation at 0x7fe17463b160>,\n",
       " <keras.layers.convolutional.SeparableConv2D at 0x7fe17463b198>,\n",
       " <keras.layers.normalization.BatchNormalization at 0x7fe1745b5c50>,\n",
       " <keras.layers.core.Activation at 0x7fe1745b5e10>,\n",
       " <keras.layers.convolutional.SeparableConv2D at 0x7fe1745c25c0>,\n",
       " <keras.layers.normalization.BatchNormalization at 0x7fe17454efd0>,\n",
       " <keras.layers.merge.Add at 0x7fe174541780>,\n",
       " <keras.layers.core.Activation at 0x7fe17466a588>,\n",
       " <keras.layers.convolutional.SeparableConv2D at 0x7fe1745417f0>,\n",
       " <keras.layers.normalization.BatchNormalization at 0x7fe174458ef0>,\n",
       " <keras.layers.core.Activation at 0x7fe1744ce550>,\n",
       " <keras.layers.convolutional.SeparableConv2D at 0x7fe1744ce588>,\n",
       " <keras.layers.normalization.BatchNormalization at 0x7fe1743e4780>,\n",
       " <keras.layers.core.Activation at 0x7fe1743d8048>,\n",
       " <keras.layers.convolutional.SeparableConv2D at 0x7fe1743d8080>,\n",
       " <keras.layers.normalization.BatchNormalization at 0x7fe174362ef0>,\n",
       " <keras.layers.merge.Add at 0x7fe1743d3c18>,\n",
       " <keras.layers.core.Activation at 0x7fe1744fa518>,\n",
       " <keras.layers.convolutional.SeparableConv2D at 0x7fe1743d3fd0>,\n",
       " <keras.layers.normalization.BatchNormalization at 0x7fe1742ebdd8>,\n",
       " <keras.layers.core.Activation at 0x7fe1742de9b0>,\n",
       " <keras.layers.convolutional.SeparableConv2D at 0x7fe1742def28>,\n",
       " <keras.layers.normalization.BatchNormalization at 0x7fe174275b38>,\n",
       " <keras.layers.core.Activation at 0x7fe174268400>,\n",
       " <keras.layers.convolutional.SeparableConv2D at 0x7fe174268438>,\n",
       " <keras.layers.normalization.BatchNormalization at 0x7fe1741e5ef0>,\n",
       " <keras.layers.merge.Add at 0x7fe1741ffa20>,\n",
       " <keras.layers.core.Activation at 0x7fe17416ef60>,\n",
       " <keras.layers.convolutional.SeparableConv2D at 0x7fe17416eda0>,\n",
       " <keras.layers.normalization.BatchNormalization at 0x7fe1740f9a58>,\n",
       " <keras.layers.core.Activation at 0x7fe1740ec3c8>,\n",
       " <keras.layers.convolutional.SeparableConv2D at 0x7fe1740ec400>,\n",
       " <keras.layers.normalization.BatchNormalization at 0x7fe174067eb8>,\n",
       " <keras.layers.convolutional.Conv2D at 0x7fe1741ff470>,\n",
       " <keras.layers.pooling.MaxPooling2D at 0x7fe1740849e8>,\n",
       " <keras.layers.normalization.BatchNormalization at 0x7fe1741cfdd8>,\n",
       " <keras.layers.merge.Add at 0x7fe1740201d0>,\n",
       " <keras.layers.convolutional.SeparableConv2D at 0x7fe174032e48>,\n",
       " <keras.layers.normalization.BatchNormalization at 0x7fe17400f828>,\n",
       " <keras.layers.core.Activation at 0x7fe17400f390>,\n",
       " <keras.layers.convolutional.SeparableConv2D at 0x7fe17400f240>,\n",
       " <keras.layers.normalization.BatchNormalization at 0x7fe173f8acf8>,\n",
       " <keras.layers.core.Activation at 0x7fe173f7b860>,\n",
       " <keras.layers.pooling.GlobalAveragePooling2D at 0x7fe173f7b8d0>]"
      ]
     },
     "execution_count": 8,
     "metadata": {},
     "output_type": "execute_result"
    }
   ],
   "source": [
    " base_model.layers"
   ]
  },
  {
   "cell_type": "code",
   "execution_count": 127,
   "metadata": {
    "collapsed": true
   },
   "outputs": [],
   "source": [
    "test = Model(inputs = [base_model.input], outputs=[output])"
   ]
  },
  {
   "cell_type": "code",
   "execution_count": 131,
   "metadata": {},
   "outputs": [
    {
     "data": {
      "text/plain": [
       "(None, 10, 10, 2048)"
      ]
     },
     "execution_count": 131,
     "metadata": {},
     "output_type": "execute_result"
    }
   ],
   "source": [
    "test.output_shape"
   ]
  },
  {
   "cell_type": "code",
   "execution_count": 156,
   "metadata": {
    "collapsed": true
   },
   "outputs": [],
   "source": [
    "from keras.layers import Input, concatenate, Conv2D, MaxPooling2D, UpSampling2D, AveragePooling2D, Flatten, Dense, Lambda, BatchNormalization, Activation, SeparableConv2D, GlobalAveragePooling2D"
   ]
  },
  {
   "cell_type": "code",
   "execution_count": 157,
   "metadata": {
    "collapsed": true
   },
   "outputs": [],
   "source": [
    "from keras import layers"
   ]
  },
  {
   "cell_type": "code",
   "execution_count": 158,
   "metadata": {},
   "outputs": [
    {
     "name": "stdout",
     "output_type": "stream",
     "text": [
      "(?, 43, 43, 64)\n",
      "(?, 43, 43, 128)\n",
      "(?, 22, 22, 128)\n",
      "(?, 22, 22, 256)\n",
      "(?, 11, 11, 728)\n",
      "(?, 6, 6, 728)\n",
      "(?, 6, 6, 1024)\n"
     ]
    }
   ],
   "source": [
    "img_input = Input((91, 91, 3))\n",
    "\n",
    "assert((img_input.shape[1] - 3) % 2 == 0)\n",
    "x = Conv2D(32, (3, 3), strides=(2, 2), use_bias=False, name='block1_conv1')(img_input)\n",
    "x = BatchNormalization(name='block1_conv1_bn')(x)\n",
    "x = Activation('relu', name='block1_conv1_act')(x)\n",
    "x = Conv2D(64, (3, 3), use_bias=False, name='block1_conv2')(x)\n",
    "x = BatchNormalization(name='block1_conv2_bn')(x)\n",
    "x = Activation('relu', name='block1_conv2_act')(x)\n",
    "\n",
    "print(x.shape)\n",
    "assert((x.shape[1] - 1) % 2==0)\n",
    "residual = Conv2D(128, (1, 1), strides=(2, 2),\n",
    "                  padding='same', use_bias=False)(x)\n",
    "residual = BatchNormalization()(residual)\n",
    "\n",
    "x = SeparableConv2D(128, (3, 3), padding='same', use_bias=False, name='block2_sepconv1')(x)\n",
    "x = BatchNormalization(name='block2_sepconv1_bn')(x)\n",
    "x = Activation('relu', name='block2_sepconv2_act')(x)\n",
    "x = SeparableConv2D(128, (3, 3), padding='same', use_bias=False, name='block2_sepconv2')(x)\n",
    "x = BatchNormalization(name='block2_sepconv2_bn')(x)\n",
    "\n",
    "print(x.shape)\n",
    "x = MaxPooling2D((3, 3), strides=(2, 2), padding='same', name='block2_pool')(x)\n",
    "x = layers.add([x, residual])\n",
    "\n",
    "print(x.shape)\n",
    "residual = Conv2D(256, (1, 1), strides=(2, 2),\n",
    "                  padding='same', use_bias=False)(x)\n",
    "residual = BatchNormalization()(residual)\n",
    "\n",
    "x = Activation('relu', name='block3_sepconv1_act')(x)\n",
    "x = SeparableConv2D(256, (3, 3), padding='same', use_bias=False, name='block3_sepconv1')(x)\n",
    "x = BatchNormalization(name='block3_sepconv1_bn')(x)\n",
    "x = Activation('relu', name='block3_sepconv2_act')(x)\n",
    "x = SeparableConv2D(256, (3, 3), padding='same', use_bias=False, name='block3_sepconv2')(x)\n",
    "x = BatchNormalization(name='block3_sepconv2_bn')(x)\n",
    "\n",
    "print(x.shape)\n",
    "x = MaxPooling2D((3, 3), strides=(2, 2), padding='same', name='block3_pool')(x)\n",
    "x = layers.add([x, residual])\n",
    "\n",
    "residual = Conv2D(728, (1, 1), strides=(2, 2),\n",
    "                  padding='same', use_bias=False)(x)\n",
    "residual = BatchNormalization()(residual)\n",
    "\n",
    "x = Activation('relu', name='block4_sepconv1_act')(x)\n",
    "x = SeparableConv2D(728, (3, 3), padding='same', use_bias=False, name='block4_sepconv1')(x)\n",
    "x = BatchNormalization(name='block4_sepconv1_bn')(x)\n",
    "x = Activation('relu', name='block4_sepconv2_act')(x)\n",
    "x = SeparableConv2D(728, (3, 3), padding='same', use_bias=False, name='block4_sepconv2')(x)\n",
    "x = BatchNormalization(name='block4_sepconv2_bn')(x)\n",
    "\n",
    "print(x.shape)\n",
    "x = MaxPooling2D((3, 3), strides=(2, 2), padding='same', name='block4_pool')(x)\n",
    "x = layers.add([x, residual])\n",
    "\n",
    "for i in range(8):\n",
    "    residual = x\n",
    "    prefix = 'block' + str(i + 5)\n",
    "\n",
    "    x = Activation('relu', name=prefix + '_sepconv1_act')(x)\n",
    "    x = SeparableConv2D(728, (3, 3), padding='same', use_bias=False, name=prefix + '_sepconv1')(x)\n",
    "    x = BatchNormalization(name=prefix + '_sepconv1_bn')(x)\n",
    "    x = Activation('relu', name=prefix + '_sepconv2_act')(x)\n",
    "    x = SeparableConv2D(728, (3, 3), padding='same', use_bias=False, name=prefix + '_sepconv2')(x)\n",
    "    x = BatchNormalization(name=prefix + '_sepconv2_bn')(x)\n",
    "    x = Activation('relu', name=prefix + '_sepconv3_act')(x)\n",
    "    x = SeparableConv2D(728, (3, 3), padding='same', use_bias=False, name=prefix + '_sepconv3')(x)\n",
    "    x = BatchNormalization(name=prefix + '_sepconv3_bn')(x)\n",
    "\n",
    "    x = layers.add([x, residual])\n",
    "\n",
    "print(x.shape)\n",
    "residual = Conv2D(1024, (1, 1), strides=(2, 2),\n",
    "                  padding='same', use_bias=False)(x)\n",
    "residual = BatchNormalization()(residual)\n",
    "\n",
    "x = Activation('relu', name='block13_sepconv1_act')(x)\n",
    "x = SeparableConv2D(728, (3, 3), padding='same', use_bias=False, name='block13_sepconv1')(x)\n",
    "x = BatchNormalization(name='block13_sepconv1_bn')(x)\n",
    "x = Activation('relu', name='block13_sepconv2_act')(x)\n",
    "x = SeparableConv2D(1024, (3, 3), padding='same', use_bias=False, name='block13_sepconv2')(x)\n",
    "x = BatchNormalization(name='block13_sepconv2_bn')(x)\n",
    "\n",
    "print(x.shape)\n",
    "x = MaxPooling2D((3, 3), strides=(2, 2), padding='same', name='block13_pool')(x)\n",
    "x = layers.add([x, residual])\n",
    "\n",
    "x = SeparableConv2D(1536, (3, 3), padding='same', use_bias=False, name='block14_sepconv1')(x)\n",
    "x = BatchNormalization(name='block14_sepconv1_bn')(x)\n",
    "x = Activation('relu', name='block14_sepconv1_act')(x)\n",
    "\n",
    "x = SeparableConv2D(2048, (3, 3), padding='same', use_bias=False, name='block14_sepconv2')(x)\n",
    "x = BatchNormalization(name='block14_sepconv2_bn')(x)\n",
    "x = Activation('relu', name='block14_sepconv2_act')(x)\n",
    "x = GlobalAveragePooling2D(name='avg_pool')(x)"
   ]
  },
  {
   "cell_type": "code",
   "execution_count": 159,
   "metadata": {},
   "outputs": [
    {
     "data": {
      "text/plain": [
       "TensorShape([Dimension(None), Dimension(2048)])"
      ]
     },
     "execution_count": 159,
     "metadata": {},
     "output_type": "execute_result"
    }
   ],
   "source": [
    "x.shape"
   ]
  },
  {
   "cell_type": "code",
   "execution_count": 93,
   "metadata": {
    "collapsed": true
   },
   "outputs": [],
   "source": [
    "x = BatchNormalization(name='block1_conv1_bn')(x)\n",
    "x = Activation('relu', name='block1_conv1_act')(x)\n",
    "x = Conv2D(64, (3, 3), use_bias=False, name='block1_conv2')(x)"
   ]
  },
  {
   "cell_type": "code",
   "execution_count": 94,
   "metadata": {},
   "outputs": [
    {
     "data": {
      "text/plain": [
       "TensorShape([Dimension(None), Dimension(43), Dimension(43), Dimension(64)])"
      ]
     },
     "execution_count": 94,
     "metadata": {},
     "output_type": "execute_result"
    }
   ],
   "source": [
    "x.shape"
   ]
  },
  {
   "cell_type": "code",
   "execution_count": 95,
   "metadata": {
    "collapsed": true
   },
   "outputs": [],
   "source": [
    "x = BatchNormalization(name='block1_conv2_bn')(x)\n",
    "x = Activation('relu', name='block1_conv2_act')(x)\n",
    "\n",
    "residual = Conv2D(128, (1, 1), strides=(2, 2),padding='same', use_bias=False)(x)"
   ]
  },
  {
   "cell_type": "code",
   "execution_count": 96,
   "metadata": {},
   "outputs": [
    {
     "data": {
      "text/plain": [
       "TensorShape([Dimension(None), Dimension(22), Dimension(22), Dimension(128)])"
      ]
     },
     "execution_count": 96,
     "metadata": {},
     "output_type": "execute_result"
    }
   ],
   "source": [
    "residual.shape"
   ]
  },
  {
   "cell_type": "code",
   "execution_count": null,
   "metadata": {
    "collapsed": true
   },
   "outputs": [],
   "source": [
    "x = MaxPooling2D((3, 3), strides=(2, 2), padding='same', name='block2_pool')(x)"
   ]
  },
  {
   "cell_type": "code",
   "execution_count": 70,
   "metadata": {},
   "outputs": [
    {
     "data": {
      "text/plain": [
       "(1, 3, 3, 2048)"
      ]
     },
     "execution_count": 70,
     "metadata": {},
     "output_type": "execute_result"
    }
   ],
   "source": [
    "y = 101\n",
    "t = np.ones((1, y, y, 3))\n",
    "test.predict(t).shape"
   ]
  },
  {
   "cell_type": "code",
   "execution_count": 52,
   "metadata": {},
   "outputs": [
    {
     "data": {
      "text/plain": [
       "(1, 3, 3, 2048)"
      ]
     },
     "execution_count": 52,
     "metadata": {},
     "output_type": "execute_result"
    }
   ],
   "source": []
  },
  {
   "cell_type": "code",
   "execution_count": null,
   "metadata": {
    "collapsed": true
   },
   "outputs": [],
   "source": []
  }
 ],
 "metadata": {
  "kernelspec": {
   "display_name": "Python 3",
   "language": "python",
   "name": "python3"
  },
  "language_info": {
   "codemirror_mode": {
    "name": "ipython",
    "version": 3
   },
   "file_extension": ".py",
   "mimetype": "text/x-python",
   "name": "python",
   "nbconvert_exporter": "python",
   "pygments_lexer": "ipython3",
   "version": "3.5.2"
  }
 },
 "nbformat": 4,
 "nbformat_minor": 2
}
