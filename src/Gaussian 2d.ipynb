{
 "cells": [
  {
   "cell_type": "code",
   "execution_count": 1,
   "metadata": {
    "collapsed": true
   },
   "outputs": [],
   "source": [
    "import numpy as np\n",
    "import matplotlib.pyplot as plt\n",
    "from math import cos, sin, pi, sqrt\n",
    "%matplotlib inline"
   ]
  },
  {
   "cell_type": "code",
   "execution_count": 2,
   "metadata": {
    "collapsed": true
   },
   "outputs": [],
   "source": [
    "def gaussian2d(x, y, sx=1, sy=1, x0=0, y0=0, A=1):\n",
    "    sxx = 2 * sx * sx\n",
    "    syy = 2 * sy * sy\n",
    "    xc = x - x0\n",
    "    yc = y - y0\n",
    "    xcc = xc * xc\n",
    "    ycc = yc * yc\n",
    "    return A * np.exp(-(xcc/sxx + ycc/syy))"
   ]
  },
  {
   "cell_type": "code",
   "execution_count": 3,
   "metadata": {
    "collapsed": true
   },
   "outputs": [],
   "source": [
    "def mask_gaussian(size):\n",
    "    sigma = size / 3.0  # 97% of the gaussian in the size * size square\n",
    "    half = int((sigma * 5 ) * 2)  # to be sure that the limit of the mask have a value close to 0 (avoid artifact on density map)\n",
    "    im = np.zeros((2 * half + 1, 2 * half + 1), np.float32)\n",
    "    for y in range(-half, half + 1):\n",
    "        for x in range(-half, half + 1):\n",
    "            im[y + half, x + half] = gaussian2d(x, y, sigma, sigma, 0, 0, 1)\n",
    "    total_sum = np.sum(im)\n",
    "    im /= total_sum\n",
    "    return im"
   ]
  },
  {
   "cell_type": "code",
   "execution_count": 4,
   "metadata": {
    "collapsed": true
   },
   "outputs": [],
   "source": [
    "def gaussian2d_gen(x, y, theta, sx=1, sy=1, x0=0, y0=0, A=1):\n",
    "    \"\"\" See https://fr.wikipedia.org/wiki/Fonction_gaussienne\n",
    "    \"\"\"    \n",
    "    assert(sx != 0)\n",
    "    assert(sy != 0)\n",
    "    a = (cos(theta)**2) / (2 * sx**2) + (sin(theta)** 2)/ (2 * sy**2)\n",
    "    b = -sin(2 * theta)/ (4 * sx**2) + sin(2 * theta) / (4 * sy**2)\n",
    "    c = (sin(theta)**2) / (2 * sx**2) + (cos(theta)** 2)/ (2 * sy**2)\n",
    "    dx = x - x0\n",
    "    dy = y - y0\n",
    "    \n",
    "    return A * np.exp(-(a * dx**2 + 2 * b * dx * dy + c * dy**2))"
   ]
  },
  {
   "cell_type": "code",
   "execution_count": 5,
   "metadata": {},
   "outputs": [
    {
     "data": {
      "text/plain": [
       "0.09"
      ]
     },
     "execution_count": 5,
     "metadata": {},
     "output_type": "execute_result"
    }
   ],
   "source": [
    "0.3**2"
   ]
  },
  {
   "cell_type": "code",
   "execution_count": 243,
   "metadata": {
    "collapsed": true
   },
   "outputs": [],
   "source": [
    "def mask_gaussian(major, minor, theta):\n",
    "    \"\"\" See http://www.visiondummy.com/2014/04/draw-error-ellipse-representing-covariance-matrix/ for the 5.991\n",
    "    \"\"\"\n",
    "    df = 4.605 #5.991\n",
    "    sigma_x = major/(2 * sqrt(df))\n",
    "    sigma_y = minor/(2 * sqrt(df))\n",
    "    half = int((max(sigma_x, sigma_y) * 3.5 ))  # to be sure that the limit of the mask have a value close to 0 (avoid artifact on density map)\n",
    "    im = np.zeros((2 * half + 1, 2 * half + 1), np.float32)\n",
    "    for y in range(-half, half + 1):\n",
    "        for x in range(-half, half + 1):\n",
    "            im[y + half, x + half] = gaussian2d_gen(x, y, theta, sigma_x, sigma_y, 0, 0, 1)\n",
    "    total_sum = np.sum(im)\n",
    "    im /= total_sum\n",
    "    return im"
   ]
  },
  {
   "cell_type": "markdown",
   "metadata": {},
   "source": [
    "Test with ellipse"
   ]
  },
  {
   "cell_type": "code",
   "execution_count": 244,
   "metadata": {},
   "outputs": [],
   "source": [
    "g = mask_gaussian(100, 30, radians(67))"
   ]
  },
  {
   "cell_type": "code",
   "execution_count": 245,
   "metadata": {},
   "outputs": [
    {
     "data": {
      "text/plain": [
       "<matplotlib.image.AxesImage at 0x7f3fac310e48>"
      ]
     },
     "execution_count": 245,
     "metadata": {},
     "output_type": "execute_result"
    },
    {
     "data": {
      "image/png": "[encoded data removed]",
      "text/plain": [
       "<matplotlib.figure.Figure at 0x7f3fac41f400>"
      ]
     },
     "metadata": {},
     "output_type": "display_data"
    }
   ],
   "source": [
    "plt.imshow(g)"
   ]
  },
  {
   "cell_type": "code",
   "execution_count": 246,
   "metadata": {},
   "outputs": [
    {
     "data": {
      "text/plain": [
       "81"
      ]
     },
     "execution_count": 246,
     "metadata": {},
     "output_type": "execute_result"
    }
   ],
   "source": [
    "g.shape[0]//2"
   ]
  },
  {
   "cell_type": "code",
   "execution_count": 252,
   "metadata": {},
   "outputs": [],
   "source": [
    "im = np.zeros(g.shape, dtype=np.uint8)\n",
    "e = ((g.shape[0]//2, g.shape[0]//2), (100, 30), -67)\n",
    "im = cv2.ellipse(im, e, color=(255, 255, 255), thickness=-1)"
   ]
  },
  {
   "cell_type": "code",
   "execution_count": 253,
   "metadata": {},
   "outputs": [
    {
     "data": {
      "text/plain": [
       "<matplotlib.image.AxesImage at 0x7f3fac1eefd0>"
      ]
     },
     "execution_count": 253,
     "metadata": {},
     "output_type": "execute_result"
    },
    {
     "data": {
      "image/png": "[encoded data removed]",
      "text/plain": [
       "<matplotlib.figure.Figure at 0x7f3fac221128>"
      ]
     },
     "metadata": {},
     "output_type": "display_data"
    }
   ],
   "source": [
    "plt.imshow(im)"
   ]
  },
  {
   "cell_type": "code",
   "execution_count": 254,
   "metadata": {},
   "outputs": [
    {
     "data": {
      "text/plain": [
       "0.91005051"
      ]
     },
     "execution_count": 254,
     "metadata": {},
     "output_type": "execute_result"
    }
   ],
   "source": [
    "np.sum(g[im>0])"
   ]
  },
  {
   "cell_type": "code",
   "execution_count": null,
   "metadata": {
    "collapsed": true
   },
   "outputs": [],
   "source": []
  },
  {
   "cell_type": "code",
   "execution_count": 263,
   "metadata": {
    "collapsed": true
   },
   "outputs": [],
   "source": [
    "from math import radians"
   ]
  },
  {
   "cell_type": "code",
   "execution_count": 264,
   "metadata": {
    "collapsed": true
   },
   "outputs": [],
   "source": [
    "def create_density_map(shape, ellipses):\n",
    "    im = np.zeros(shape, np.float32)\n",
    "    \n",
    "    # Reweight mask so that the sum is equal to prob\n",
    "    for es in ellipses:\n",
    "        for ((xc, yc), (major, minor), theta_deg) in es:\n",
    "            d = sqrt((3347 - xc)**2 + (2377 - yc)**2)\n",
    "            if d < 15:\n",
    "                print((xc, yc), (major, minor), theta_deg)\n",
    "\n",
    "            \n",
    "            if d < 15:\n",
    "                print((xc, yc), (major, minor), theta_deg)\n",
    "                \n",
    "            theta_deg = -theta_deg # because axis are not the same for the opencv ellipse\n",
    "            theta_rad = radians(theta_deg)\n",
    "            mask = mask_gaussian(major, minor, theta_rad)\n",
    "    \n",
    "            hmask, wmask = mask.shape\n",
    "            hmask2 = hmask//2\n",
    "            wmask2 = wmask//2\n",
    "            \n",
    "            xc = int(round(xc))\n",
    "            yc = int(round(yc))\n",
    "            xmin = max(0, xc - wmask2)\n",
    "            xmax = min(im.shape[1] - 1, xc + wmask2)\n",
    "            ymin = max(0, yc - hmask2)\n",
    "            ymax = min(im.shape[0] - 1, yc + hmask2)\n",
    "\n",
    "            dy_top = yc - ymin\n",
    "            dy_bottom = ymax - yc\n",
    "            dx_left = xc - xmin\n",
    "            dx_right = xmax - xc\n",
    "            im[ymin:ymax+1, xmin:xmax+1] += mask[hmask2 - dy_top: hmask2 + dy_bottom + 1,\\\n",
    "                                                 wmask2 - dx_left: wmask2 + dx_right + 1] \n",
    "    return im"
   ]
  },
  {
   "cell_type": "code",
   "execution_count": 265,
   "metadata": {
    "collapsed": true
   },
   "outputs": [],
   "source": [
    "import pickle"
   ]
  },
  {
   "cell_type": "code",
   "execution_count": 266,
   "metadata": {
    "collapsed": true
   },
   "outputs": [],
   "source": [
    "train_id = 4\n",
    "with open(\"../data/sealion/TrainShape/4.pkl\", \"rb\") as pfile:\n",
    "    shape = pickle.load(pfile)\n",
    "with open(\"../data/sealion/TrainEllipses/4.pkl\", \"rb\") as pfile:\n",
    "    ellipses = pickle.load(pfile)"
   ]
  },
  {
   "cell_type": "code",
   "execution_count": 267,
   "metadata": {},
   "outputs": [
    {
     "name": "stdout",
     "output_type": "stream",
     "text": [
      "(3348, 2377) (33.99827025153907, 72.0) 118.23426818847656\n",
      "(3348, 2377) (33.99827025153907, 72.0) 118.23426818847656\n"
     ]
    }
   ],
   "source": [
    "dmap = create_density_map(shape, ellipses)"
   ]
  },
  {
   "cell_type": "code",
   "execution_count": 268,
   "metadata": {},
   "outputs": [
    {
     "data": {
      "text/plain": [
       "<matplotlib.image.AxesImage at 0x7f3fac14df98>"
      ]
     },
     "execution_count": 268,
     "metadata": {},
     "output_type": "execute_result"
    },
    {
     "data": {
      "image/png": "[encoded data removed]",
      "text/plain": [
       "<matplotlib.figure.Figure at 0x7f3fac1987f0>"
      ]
     },
     "metadata": {},
     "output_type": "display_data"
    }
   ],
   "source": [
    "plt.imshow(dmap)"
   ]
  },
  {
   "cell_type": "code",
   "execution_count": 269,
   "metadata": {
    "collapsed": true
   },
   "outputs": [],
   "source": [
    "def show_density(im, density):\n",
    "    max_density = np.max(density)\n",
    "    normalized_density = density/max_density\n",
    "    im_fp32 = im.astype(np.float32)\n",
    "    im_masked = im_fp32.copy()\n",
    "    im_masked[:,:,0] = (im_fp32[:,:,0] * normalized_density)\n",
    "    im_masked[:,:,1] = (im_fp32[:,:,1] * normalized_density)\n",
    "    im_masked[:,:,2] = (im_fp32[:,:,2] * normalized_density)\n",
    "    return im_masked.astype(np.uint8), (normalized_density * 255).astype(np.uint8)"
   ]
  },
  {
   "cell_type": "code",
   "execution_count": 270,
   "metadata": {
    "collapsed": true
   },
   "outputs": [],
   "source": [
    "import cv2"
   ]
  },
  {
   "cell_type": "code",
   "execution_count": 271,
   "metadata": {
    "collapsed": true
   },
   "outputs": [],
   "source": [
    "im = cv2.imread(\"../data/sealion/TrainDotted/4.jpg\")"
   ]
  },
  {
   "cell_type": "code",
   "execution_count": 272,
   "metadata": {
    "collapsed": true
   },
   "outputs": [],
   "source": [
    "m, d = show_density(im, dmap)"
   ]
  },
  {
   "cell_type": "code",
   "execution_count": 280,
   "metadata": {},
   "outputs": [],
   "source": [
    "for es in ellipses:\n",
    "    for e in es:\n",
    "        cv2.ellipse(m, e, color=(0, 0, 255), thickness=1)"
   ]
  },
  {
   "cell_type": "code",
   "execution_count": 281,
   "metadata": {},
   "outputs": [
    {
     "data": {
      "text/plain": [
       "<matplotlib.image.AxesImage at 0x7f3fb035fcf8>"
      ]
     },
     "execution_count": 281,
     "metadata": {},
     "output_type": "execute_result"
    },
    {
     "data": {
      "image/png": "[encoded data removed]",
      "text/plain": [
       "<matplotlib.figure.Figure at 0x7f3fac21aba8>"
      ]
     },
     "metadata": {},
     "output_type": "display_data"
    }
   ],
   "source": [
    "plt.imshow(m)"
   ]
  },
  {
   "cell_type": "code",
   "execution_count": 282,
   "metadata": {},
   "outputs": [
    {
     "data": {
      "text/plain": [
       "True"
      ]
     },
     "execution_count": 282,
     "metadata": {},
     "output_type": "execute_result"
    }
   ],
   "source": [
    "cv2.imwrite(\"../data/dmap_ellipses.png\", d)\n",
    "cv2.imwrite(\"../data/dmap_mask_ellipses.png\", m)"
   ]
  },
  {
   "cell_type": "code",
   "execution_count": 277,
   "metadata": {},
   "outputs": [
    {
     "data": {
      "text/plain": [
       "True"
      ]
     },
     "execution_count": 277,
     "metadata": {},
     "output_type": "execute_result"
    }
   ],
   "source": [
    "cv2.imwrite(\"../data/dmap_check_ellipses.png\", d_bgr)"
   ]
  },
  {
   "cell_type": "code",
   "execution_count": null,
   "metadata": {},
   "outputs": [],
   "source": []
  },
  {
   "cell_type": "code",
   "execution_count": 188,
   "metadata": {},
   "outputs": [
    {
     "data": {
      "text/plain": [
       "<matplotlib.image.AxesImage at 0x7f3fb04f5da0>"
      ]
     },
     "execution_count": 188,
     "metadata": {},
     "output_type": "execute_result"
    },
    {
     "data": {
      "image/png": "[encoded data removed]",
      "text/plain": [
       "<matplotlib.figure.Figure at 0x7f3fb0526eb8>"
      ]
     },
     "metadata": {},
     "output_type": "display_data"
    }
   ],
   "source": [
    "plt.figure(figsize=(8, 8))\n",
    "im = np.ones((400, 400, 3), dtype=np.uint8) * 255\n",
    "im = cv2.ellipse(im, ((200, 200), (200, 50), 45), color=(255, 0, 0), thickness=-1)\n",
    "plt.imshow(im)"
   ]
  },
  {
   "cell_type": "code",
   "execution_count": null,
   "metadata": {},
   "outputs": [],
   "source": []
  },
  {
   "cell_type": "code",
   "execution_count": null,
   "metadata": {
    "collapsed": true
   },
   "outputs": [],
   "source": []
  }
 ],
 "metadata": {
  "kernelspec": {
   "display_name": "Python 3",
   "language": "python",
   "name": "python3"
  },
  "language_info": {
   "codemirror_mode": {
    "name": "ipython",
    "version": 3
   },
   "file_extension": ".py",
   "mimetype": "text/x-python",
   "name": "python",
   "nbconvert_exporter": "python",
   "pygments_lexer": "ipython3",
   "version": "3.5.2"
  }
 },
 "nbformat": 4,
 "nbformat_minor": 2
}
