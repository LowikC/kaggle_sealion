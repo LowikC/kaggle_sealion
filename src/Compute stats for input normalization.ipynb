{
 "cells": [
  {
   "cell_type": "code",
   "execution_count": 3,
   "metadata": {
    "collapsed": true
   },
   "outputs": [],
   "source": [
    "import cv2\n",
    "import os\n",
    "import numpy as np\n",
    "import json"
   ]
  },
  {
   "cell_type": "code",
   "execution_count": 7,
   "metadata": {
    "collapsed": true
   },
   "outputs": [],
   "source": [
    "class StreamStats(object):\n",
    "    \"\"\" See https://www.johndcook.com/blog/standard_deviation/\n",
    "    \"\"\"\n",
    "    def __init__(self):\n",
    "        self.M = None\n",
    "        self.S = None\n",
    "        self.k = 0\n",
    "        self.min = None\n",
    "        self.max = None\n",
    "        \n",
    "    def update(self, x):\n",
    "        self.k += 1\n",
    "        if self.k == 1:\n",
    "            self.M = x\n",
    "            self.S = 0\n",
    "            self.min = x\n",
    "            self.max = x\n",
    "        else:\n",
    "            prevM = self.M\n",
    "            prevS = self.S\n",
    "            self.M = prevM + (x - prevM)/self.k\n",
    "            self.S = prevS + (x - prevM) * (x - self.M)\n",
    "            self.min = np.minimum(x, self.min)\n",
    "            self.max = np.maximum(x, self.max)\n",
    "            \n",
    "    def mean(self):\n",
    "        return self.M\n",
    "        \n",
    "    def variance(self):\n",
    "        if self.k - 1 > 0:\n",
    "            return self.S / (self.k - 1)\n",
    "        else:\n",
    "            return 0\n",
    "    \n",
    "    def std(self):\n",
    "        return np.sqrt(self.variance())\n",
    "    \n",
    "    def minimum(self):\n",
    "        return self.min\n",
    "    \n",
    "    def maximum(self):\n",
    "        return self.max"
   ]
  },
  {
   "cell_type": "code",
   "execution_count": 3,
   "metadata": {
    "collapsed": true
   },
   "outputs": [],
   "source": [
    "train_dir = \"/home/lowik/sealion/data/sealion/TrainBlock/\""
   ]
  },
  {
   "cell_type": "code",
   "execution_count": 5,
   "metadata": {},
   "outputs": [
    {
     "name": "stdout",
     "output_type": "stream",
     "text": [
      "Mean:  [ 0.41749925  0.41663546  0.39410174]\n",
      "Std:  [ 0.15231504  0.15536667  0.15928478]\n"
     ]
    }
   ],
   "source": [
    "stats = StreamStats()\n",
    "block_status = dict()\n",
    "# if more than 60% of the pixel are black, we won't use the block.\n",
    "threshold_block_available = 0.6\n",
    "N = 500\n",
    "shuffled_filenames = np.random.permutation(os.listdir(train_dir))[:N]\n",
    "for filename in shuffled_filenames:\n",
    "    im = cv2.imread(os.path.join(train_dir, filename))/255\n",
    "    train_id, ext = filename.split(\"_\")\n",
    "    block_id, _ = ext.split(\".\")\n",
    "    train_id, block_id = int(train_id), int(block_id)\n",
    "    \n",
    "    if train_id not in block_status:\n",
    "        block_status[train_id] = np.zeros((16, ), np.bool)\n",
    "        \n",
    "    total_pixel = im.shape[0] * im.shape[1]\n",
    "    if np.count_nonzero(im == 0)/total_pixel < threshold_block_available:\n",
    "        block_status[train_id][block_id] = True\n",
    "        \n",
    "    mean_per_channel = np.mean(np.mean(im, axis=0), axis=0)\n",
    "    stats.update(mean_per_channel)\n",
    "\n",
    "print(\"Mean: \", stats.mean())\n",
    "print(\"Std: \", stats.std())"
   ]
  },
  {
   "cell_type": "code",
   "execution_count": null,
   "metadata": {
    "collapsed": true
   },
   "outputs": [],
   "source": []
  },
  {
   "cell_type": "code",
   "execution_count": null,
   "metadata": {
    "collapsed": true
   },
   "outputs": [],
   "source": [
    "for tid in block_status.keys():\n",
    "    # Need to convert to bool, np.bool is not JSON serializable.\n",
    "    block_status[tid] = [bool(s) for s in block_status[tid]]\n",
    "\n",
    "with open(\"/home/lowik/sealion/data/sealion/blocks_status.json\", \"w\") as jfile:\n",
    "    json.dump(block_status, jfile, indent=2)"
   ]
  },
  {
   "cell_type": "code",
   "execution_count": 6,
   "metadata": {
    "collapsed": true
   },
   "outputs": [],
   "source": [
    "np.save(\"../data/sealion/mean_bgr.npy\", stats.mean())\n",
    "np.save(\"../data/sealion/std_bgr.npy\", stats.std())"
   ]
  },
  {
   "cell_type": "code",
   "execution_count": 5,
   "metadata": {
    "collapsed": true
   },
   "outputs": [],
   "source": [
    "train_dir = \"/home/lowik/sealion/data/sealion/TrainDensity/\""
   ]
  },
  {
   "cell_type": "code",
   "execution_count": 19,
   "metadata": {},
   "outputs": [],
   "source": [
    "stats_min = StreamStats()\n",
    "stats_max = StreamStats()\n",
    "stats_count = StreamStats()\n",
    "stats_mean = StreamStats()\n",
    "# if more than 60% of the pixel are black, we won't use the block.\n",
    "N = 500\n",
    "shuffled_filenames = np.random.permutation(os.listdir(train_dir))[:N]\n",
    "for filename in shuffled_filenames:\n",
    "    dmap = np.load(os.path.join(train_dir, filename))[\"dmap\"]\n",
    "    dmap = np.sum(dmap, axis=-1)\n",
    "    train_id, ext = filename.split(\"_\")\n",
    "    block_id, _ = ext.split(\".\")\n",
    "    train_id, block_id = int(train_id), int(block_id)\n",
    "    \n",
    "    stats_min.update(np.min(dmap))\n",
    "    stats_max.update(np.max(dmap))\n",
    "    stats_count.update(np.sum(dmap))\n",
    "    stats_mean.update(np.mean(dmap))"
   ]
  },
  {
   "cell_type": "code",
   "execution_count": 20,
   "metadata": {},
   "outputs": [
    {
     "data": {
      "text/plain": [
       "0.0"
      ]
     },
     "execution_count": 20,
     "metadata": {},
     "output_type": "execute_result"
    }
   ],
   "source": [
    "stats_min.minimum()"
   ]
  },
  {
   "cell_type": "code",
   "execution_count": 21,
   "metadata": {},
   "outputs": [
    {
     "data": {
      "text/plain": [
       "0.0057468279"
      ]
     },
     "execution_count": 21,
     "metadata": {},
     "output_type": "execute_result"
    }
   ],
   "source": [
    "stats_max.maximum()"
   ]
  },
  {
   "cell_type": "code",
   "execution_count": 22,
   "metadata": {},
   "outputs": [
    {
     "data": {
      "text/plain": [
       "200.94699"
      ]
     },
     "execution_count": 22,
     "metadata": {},
     "output_type": "execute_result"
    }
   ],
   "source": [
    "stats_count.maximum()"
   ]
  },
  {
   "cell_type": "code",
   "execution_count": 23,
   "metadata": {},
   "outputs": [
    {
     "data": {
      "text/plain": [
       "8.3698267011880834"
      ]
     },
     "execution_count": 23,
     "metadata": {},
     "output_type": "execute_result"
    }
   ],
   "source": [
    "stats_count.mean()"
   ]
  },
  {
   "cell_type": "code",
   "execution_count": 24,
   "metadata": {},
   "outputs": [
    {
     "data": {
      "text/plain": [
       "4.1060985197746936e-06"
      ]
     },
     "execution_count": 24,
     "metadata": {},
     "output_type": "execute_result"
    }
   ],
   "source": [
    "stats_mean.mean()"
   ]
  },
  {
   "cell_type": "code",
   "execution_count": 25,
   "metadata": {},
   "outputs": [
    {
     "data": {
      "text/plain": [
       "1.12463456142464e-05"
      ]
     },
     "execution_count": 25,
     "metadata": {},
     "output_type": "execute_result"
    }
   ],
   "source": [
    "stats_mean.std()"
   ]
  },
  {
   "cell_type": "code",
   "execution_count": null,
   "metadata": {
    "collapsed": true
   },
   "outputs": [],
   "source": []
  }
 ],
 "metadata": {
  "kernelspec": {
   "display_name": "Python 3",
   "language": "python",
   "name": "python3"
  },
  "language_info": {
   "codemirror_mode": {
    "name": "ipython",
    "version": 3
   },
   "file_extension": ".py",
   "mimetype": "text/x-python",
   "name": "python",
   "nbconvert_exporter": "python",
   "pygments_lexer": "ipython3",
   "version": "3.5.2"
  }
 },
 "nbformat": 4,
 "nbformat_minor": 2
}
