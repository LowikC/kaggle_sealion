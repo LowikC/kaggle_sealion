{
 "cells": [
  {
   "cell_type": "code",
   "execution_count": null,
   "metadata": {
    "collapsed": true
   },
   "outputs": [],
   "source": [
    "import cv2\n",
    "import os\n",
    "import numpy as np\n",
    "import json"
   ]
  },
  {
   "cell_type": "code",
   "execution_count": null,
   "metadata": {
    "collapsed": true
   },
   "outputs": [],
   "source": [
    "class StreamStats(object):\n",
    "    \"\"\" See https://www.johndcook.com/blog/standard_deviation/\n",
    "    \"\"\"\n",
    "    def __init__(self):\n",
    "        self.M = 0\n",
    "        self.S = 0\n",
    "        self.k = 0\n",
    "        \n",
    "    def update(self, x):\n",
    "        self.k += 1\n",
    "        if self.k == 1:\n",
    "            self.M = x\n",
    "            self.S = 0\n",
    "        else:\n",
    "            prevM = self.M\n",
    "            prevS = self.S\n",
    "            self.M = prevM + (x - prevM)/self.k\n",
    "            self.S = prevS + (x - prevM) * (x - self.M)\n",
    "        \n",
    "    def mean(self):\n",
    "        return self.M\n",
    "        \n",
    "    def variance(self):\n",
    "        if self.k - 1 > 0:\n",
    "            return self.S / (self.k - 1)\n",
    "        else:\n",
    "            return 0\n",
    "    \n",
    "    def std(self):\n",
    "        return np.sqrt(self.variance())"
   ]
  },
  {
   "cell_type": "code",
   "execution_count": null,
   "metadata": {
    "collapsed": true
   },
   "outputs": [],
   "source": [
    "train_dir = \"/home/lowik/sealion/data/sealion/TrainBlock/\""
   ]
  },
  {
   "cell_type": "code",
   "execution_count": null,
   "metadata": {},
   "outputs": [],
   "source": [
    "stats = StreamStats()\n",
    "block_status = dict()\n",
    "# if more than 60% of the pixel are black, we won't use the block.\n",
    "threshold_block_available = 0.6\n",
    "for filename in sorted(os.listdir(train_dir))[n-1:]:\n",
    "    im = cv2.imread(os.path.join(train_dir, filename))\n",
    "    train_id, ext = filename.split(\"_\")\n",
    "    block_id, _ = ext.split(\".\")\n",
    "    train_id, block_id = int(train_id), int(block_id)\n",
    "    \n",
    "    if train_id not in block_status:\n",
    "        block_status[train_id] = np.zeros((16, ), np.bool)\n",
    "        \n",
    "    total_pixel = im.shape[0] * im.shape[1]\n",
    "    if np.count_nonzero(im == 0)/total_pixel < threshold_block_available:\n",
    "        block_status[train_id][block_id] = True\n",
    "        \n",
    "    mean_per_channel = np.mean(np.mean(im, axis=0), axis=0)\n",
    "    stats.update(mean_per_channel)\n",
    "\n",
    "print(\"Mean: \", stats.mean())\n",
    "print(\"Std: \", stats.std())"
   ]
  },
  {
   "cell_type": "code",
   "execution_count": null,
   "metadata": {},
   "outputs": [],
   "source": [
    "for tid in block_status.keys():\n",
    "    # Need to convert to bool, np.bool is not JSON serializable.\n",
    "    block_status[tid] = [bool(s) for s in block_status[tid]]\n",
    "\n",
    "with open(\"/home/lowik/sealion/data/sealion/blocks_status.json\", \"w\") as jfile:\n",
    "    json.dump(block_status, jfile, indent=2)"
   ]
  },
  {
   "cell_type": "code",
   "execution_count": null,
   "metadata": {
    "collapsed": true
   },
   "outputs": [],
   "source": [
    "np.save(\"../data/sealion/mean_bgr.npy\", stats.mean())\n",
    "np.save(\"../data/sealion/std_bgr.npy\", stats.std())"
   ]
  }
 ],
 "metadata": {
  "kernelspec": {
   "display_name": "Python 3",
   "language": "python",
   "name": "python3"
  },
  "language_info": {
   "codemirror_mode": {
    "name": "ipython",
    "version": 3
   },
   "file_extension": ".py",
   "mimetype": "text/x-python",
   "name": "python",
   "nbconvert_exporter": "python",
   "pygments_lexer": "ipython3",
   "version": "3.5.2"
  }
 },
 "nbformat": 4,
 "nbformat_minor": 2
}
