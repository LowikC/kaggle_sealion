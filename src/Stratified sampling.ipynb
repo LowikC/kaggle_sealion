{
 "cells": [
  {
   "cell_type": "code",
   "execution_count": 1,
   "metadata": {
    "collapsed": true
   },
   "outputs": [],
   "source": [
    "import numpy as np\n",
    "import pickle\n",
    "import json"
   ]
  },
  {
   "cell_type": "code",
   "execution_count": 10,
   "metadata": {
    "collapsed": true
   },
   "outputs": [],
   "source": [
    "import matplotlib.pyplot as plt\n",
    "%matplotlib  inline"
   ]
  },
  {
   "cell_type": "code",
   "execution_count": 2,
   "metadata": {
    "collapsed": true
   },
   "outputs": [],
   "source": [
    "mis_matched = set()\n",
    "with open(\"../data/sealion/real_missmatched\", \"r\") as f:\n",
    "    f.readline()\n",
    "    for line in f:\n",
    "        mis_matched.add(int(line))\n",
    "\n",
    "with open(\"../data/sealion/train.json\", \"r\") as jfile:\n",
    "    train_ids = json.load(jfile)\n",
    "train_ids = [int(s[:-4]) for s in train_ids]\n",
    "\n",
    "train_ids = list(set(train_ids).difference(mis_matched))\n",
    "\n",
    "with open(\"../data/sealion/val.json\", \"r\") as jfile:\n",
    "    val_ids = json.load(jfile)\n",
    "val_ids = [int(s[:-4]) for s in val_ids]\n",
    "val_ids = list(set(val_ids).difference(mis_matched))"
   ]
  },
  {
   "cell_type": "code",
   "execution_count": 3,
   "metadata": {
    "collapsed": true
   },
   "outputs": [],
   "source": []
  },
  {
   "cell_type": "code",
   "execution_count": 13,
   "metadata": {
    "collapsed": true
   },
   "outputs": [],
   "source": [
    "n_train_dots = np.zeros((5, ), dtype=np.int32)\n",
    "total_counts = []\n",
    "for tid in train_ids:\n",
    "    with open(\"../data/sealion/TrainDots/{}.pkl\".format(tid), \"rb\") as p:\n",
    "        dots = pickle.load(p)\n",
    "    dots_counts = [len(ds) for ds in dots]\n",
    "    n_train_dots += np.array(dots_counts)\n",
    "    total_counts.append(np.sum(dots_counts))"
   ]
  },
  {
   "cell_type": "code",
   "execution_count": 14,
   "metadata": {},
   "outputs": [
    {
     "data": {
      "text/plain": [
       "array([ 2954,  2470, 21285, 11457,  9463], dtype=int32)"
      ]
     },
     "execution_count": 14,
     "metadata": {},
     "output_type": "execute_result"
    }
   ],
   "source": [
    "n_train_dots"
   ]
  },
  {
   "cell_type": "code",
   "execution_count": 17,
   "metadata": {},
   "outputs": [
    {
     "data": {
      "text/plain": [
       "(array([ 333.,  110.,   36.,   15.,   21.,    6.,    4.,    6.,    4.,\n",
       "           3.,    1.,    0.,    0.,    0.,    1.,    0.,    0.,    1.,\n",
       "           0.,    1.]),\n",
       " array([  1.00000000e+00,   6.51000000e+01,   1.29200000e+02,\n",
       "          1.93300000e+02,   2.57400000e+02,   3.21500000e+02,\n",
       "          3.85600000e+02,   4.49700000e+02,   5.13800000e+02,\n",
       "          5.77900000e+02,   6.42000000e+02,   7.06100000e+02,\n",
       "          7.70200000e+02,   8.34300000e+02,   8.98400000e+02,\n",
       "          9.62500000e+02,   1.02660000e+03,   1.09070000e+03,\n",
       "          1.15480000e+03,   1.21890000e+03,   1.28300000e+03]),\n",
       " <a list of 20 Patch objects>)"
      ]
     },
     "execution_count": 17,
     "metadata": {},
     "output_type": "execute_result"
    },
    {
     "data": {
      "image/png": "[encoded data removed]",
      "text/plain": [
       "<matplotlib.figure.Figure at 0x7fb4a48cd358>"
      ]
     },
     "metadata": {},
     "output_type": "display_data"
    }
   ],
   "source": [
    "plt.hist(total_counts, bins=20, log=True)"
   ]
  },
  {
   "cell_type": "code",
   "execution_count": 18,
   "metadata": {
    "collapsed": true
   },
   "outputs": [],
   "source": [
    "n_val_dots = np.zeros((5, ), dtype=np.int32)\n",
    "val_total_counts = []\n",
    "for tid in val_ids:\n",
    "    with open(\"../data/sealion/TrainDots/{}.pkl\".format(tid), \"rb\") as p:\n",
    "        dots = pickle.load(p)\n",
    "    dots_counts = [len(ds) for ds in dots]\n",
    "    n_val_dots += np.array(dots_counts)\n",
    "    val_total_counts.append(np.sum(dots_counts))"
   ]
  },
  {
   "cell_type": "code",
   "execution_count": 19,
   "metadata": {},
   "outputs": [
    {
     "data": {
      "text/plain": [
       "(array([ 88.,  32.,  24.,   7.,   7.,   3.,   0.,   4.,   2.,   3.,   1.,\n",
       "          2.,   2.,   0.,   0.,   0.,   2.,   0.,   0.,   1.]),\n",
       " array([   1.  ,   37.25,   73.5 ,  109.75,  146.  ,  182.25,  218.5 ,\n",
       "         254.75,  291.  ,  327.25,  363.5 ,  399.75,  436.  ,  472.25,\n",
       "         508.5 ,  544.75,  581.  ,  617.25,  653.5 ,  689.75,  726.  ]),\n",
       " <a list of 20 Patch objects>)"
      ]
     },
     "execution_count": 19,
     "metadata": {},
     "output_type": "execute_result"
    },
    {
     "data": {
      "image/png": "[encoded data removed]",
      "text/plain": [
       "<matplotlib.figure.Figure at 0x7fb4a47d7780>"
      ]
     },
     "metadata": {},
     "output_type": "display_data"
    }
   ],
   "source": [
    "plt.hist(val_total_counts, bins=20, log=True)"
   ]
  },
  {
   "cell_type": "code",
   "execution_count": null,
   "metadata": {
    "collapsed": true
   },
   "outputs": [],
   "source": []
  }
 ],
 "metadata": {
  "kernelspec": {
   "display_name": "Python 3",
   "language": "python",
   "name": "python3"
  },
  "language_info": {
   "codemirror_mode": {
    "name": "ipython",
    "version": 3
   },
   "file_extension": ".py",
   "mimetype": "text/x-python",
   "name": "python",
   "nbconvert_exporter": "python",
   "pygments_lexer": "ipython3",
   "version": "3.5.2"
  }
 },
 "nbformat": 4,
 "nbformat_minor": 2
}
