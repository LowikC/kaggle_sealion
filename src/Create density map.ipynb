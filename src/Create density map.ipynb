{
 "cells": [
  {
   "cell_type": "code",
   "execution_count": 1,
   "metadata": {
    "collapsed": true
   },
   "outputs": [],
   "source": [
    "import numpy as np\n",
    "import matplotlib.pyplot as plt\n",
    "import pickle\n",
    "import cv2\n",
    "import os\n",
    "%matplotlib inline"
   ]
  },
  {
   "cell_type": "code",
   "execution_count": 2,
   "metadata": {
    "collapsed": true
   },
   "outputs": [],
   "source": [
    "sealion_types = [\"adult_males\", \n",
    "    \"subadult_males\",\n",
    "    \"adult_females\",\n",
    "    \"juveniles\",\n",
    "    \"pups\"]"
   ]
  },
  {
   "cell_type": "code",
   "execution_count": 3,
   "metadata": {
    "collapsed": true
   },
   "outputs": [],
   "source": [
    "sealion_sizes_px = {\n",
    "    \"adult_males\": 72,\n",
    "    \"subadult_males\": 64,\n",
    "    \"adult_females\": 56,\n",
    "    \"juveniles\": 32,\n",
    "    \"pups\": 20\n",
    "}"
   ]
  },
  {
   "cell_type": "code",
   "execution_count": 4,
   "metadata": {
    "collapsed": true
   },
   "outputs": [],
   "source": [
    "sealion_probabilities = {'adult_females': 0.048142699511667254,\n",
    " 'adult_males': 0.3351506883474506,\n",
    " 'juveniles': 0.089826648353188876,\n",
    " 'pups': 0.11096914409391793,\n",
    " 'subadult_males': 0.41591081969377525}"
   ]
  },
  {
   "cell_type": "code",
   "execution_count": 5,
   "metadata": {
    "collapsed": true
   },
   "outputs": [],
   "source": [
    "def gaussian2d(x, y, sx=1, sy=1, x0=0, y0=0, A=1):\n",
    "    sxx = 2 * sx * sx\n",
    "    syy = 2 * sy * sy\n",
    "    xc = x - x0\n",
    "    yc = y - y0\n",
    "    xcc = xc * xc\n",
    "    ycc = yc * yc\n",
    "    return A * np.exp(-(xcc/sxx + ycc/syy))"
   ]
  },
  {
   "cell_type": "code",
   "execution_count": 6,
   "metadata": {
    "collapsed": true
   },
   "outputs": [],
   "source": [
    "def mask_gaussian(size):\n",
    "    sigma = size / 3.0  # 97% of the gaussian in the size * size square\n",
    "    half = int((sigma * 5 ) * 2)  # to be sure that the limit of the mask have a value close to 0 (avoid artifact on density map)\n",
    "    im = np.zeros((2 * half + 1, 2 * half + 1), np.float32)\n",
    "    for y in range(-half, half + 1):\n",
    "        for x in range(-half, half + 1):\n",
    "            im[y + half, x + half] = gaussian2d(x, y, sigma, sigma, 0, 0, 1)\n",
    "    total_sum = np.sum(im)\n",
    "    im /= total_sum\n",
    "    return im"
   ]
  },
  {
   "cell_type": "code",
   "execution_count": 7,
   "metadata": {
    "collapsed": true
   },
   "outputs": [],
   "source": [
    "sealion_gaussian = {}\n",
    "for sealion, size in sealion_sizes_px.items():\n",
    "    sealion_gaussian[sealion] = mask_gaussian(size)"
   ]
  },
  {
   "cell_type": "code",
   "execution_count": 8,
   "metadata": {
    "collapsed": true
   },
   "outputs": [],
   "source": [
    "sealion_position_prob = {}\n",
    "patch_size = 224\n",
    "for sealion, size in sealion_sizes_px.items():\n",
    "    kernel_size = patch_size - size\n",
    "    if kernel_size % 2 == 0:\n",
    "        kernel_size += 1\n",
    "    sealion_position_prob[sealion] = np.ones((kernel_size, kernel_size))"
   ]
  },
  {
   "cell_type": "code",
   "execution_count": 9,
   "metadata": {
    "collapsed": true
   },
   "outputs": [],
   "source": [
    "def create_density_map(shape, dots, mask, prob=1.0):\n",
    "    im = np.zeros(shape, np.float32)\n",
    "    \n",
    "    # Reweight mask so that the sum is equal to prob\n",
    "    total_mask_weight = np.sum(mask)\n",
    "    mask_weighted = (prob/total_mask_weight) * mask \n",
    "    \n",
    "    hmask, wmask = mask.shape\n",
    "    hmask2 = hmask//2\n",
    "    wmask2 = wmask//2\n",
    "    \n",
    "    for (xf, yf) in dots:\n",
    "        x = int(round(xf))\n",
    "        y = int(round(yf))\n",
    "        xmin = max(0, x - wmask2)\n",
    "        xmax = min(im.shape[1] - 1, x + wmask2)\n",
    "        ymin = max(0, y - hmask2)\n",
    "        ymax = min(im.shape[0] - 1, y + hmask2)\n",
    "       \n",
    "        dy_top = y - ymin\n",
    "        dy_bottom = ymax - y\n",
    "        dx_left = x - xmin\n",
    "        dx_right = xmax - x\n",
    "        im[ymin:ymax+1, xmin:xmax+1] += mask_weighted[hmask2 - dy_top: hmask2 + dy_bottom + 1,\\\n",
    "                                                      wmask2 - dx_left: wmask2 + dx_right + 1] \n",
    "    return im"
   ]
  },
  {
   "cell_type": "code",
   "execution_count": 10,
   "metadata": {
    "collapsed": true
   },
   "outputs": [],
   "source": [
    "def create_full_density_map(shape, dots):\n",
    "    n_types = len(sealion_types)\n",
    "    dmap = np.zeros(shape + (n_types,), np.float32)\n",
    "    \n",
    "    for i, sealion in enumerate(sealion_types):\n",
    "        sdots = [] if sealion not in dots else dots[sealion]\n",
    "        dmap[:,:,i] = create_density_map(shape, sdots, sealion_gaussian[sealion])\n",
    "        \n",
    "    return dmap.astype(np.float32)"
   ]
  },
  {
   "cell_type": "code",
   "execution_count": 23,
   "metadata": {
    "collapsed": true
   },
   "outputs": [],
   "source": [
    "def create_sampling_map(shape, dots, sealion_probabilities, background_weight = 2, patch_size=(224, 224)):\n",
    "    im = np.zeros(shape, np.float32)\n",
    "    for s, p in sealion_probabilities.items():\n",
    "        if s in dots:\n",
    "            im += create_density_map(shape, dots[s], sealion_position_prob[s], p)\n",
    "            \n",
    "    # Set the probability of the background.\n",
    "    # Roughly we try to have background_weight background sample for each sample containing sealions.\n",
    "    p_sealion = np.sum(im)\n",
    "    n_empty = np.count_nonzero(im == 0)\n",
    "    proba_empty = p_sealion/n_empty * background_weight\n",
    "    im[im==0] = proba_empty\n",
    "    return im"
   ]
  },
  {
   "cell_type": "code",
   "execution_count": 24,
   "metadata": {
    "collapsed": true
   },
   "outputs": [],
   "source": [
    "def split_in_blocks(im_raw, dmap, smap, n_blocks=(4,4), overlap=(448,448)):\n",
    "    h, w = im_raw.shape[:2]\n",
    "    w_block = (w + (n_blocks[1] - 1) * overlap[1]) // n_blocks[1]\n",
    "    h_block = (h + (n_blocks[0] - 1) * overlap[0]) // n_blocks[0]\n",
    "    \n",
    "    if (w + (n_blocks[1] - 1) * overlap[1]) % n_blocks[1] != 0 or \\\n",
    "        (h + (n_blocks[0] - 1) * overlap[0]) % n_blocks[0] != 0:\n",
    "            print(\"Warning: check the number of blocks and overlap\")\n",
    "            \n",
    "    for by in range(n_blocks[0]):\n",
    "        y_start = by * (h_block - overlap[0])\n",
    "        y_end = y_start + h_block + 1\n",
    "        for bx in range(n_blocks[1]):\n",
    "            x_start = bx * (w_block - overlap[1])\n",
    "            x_end = x_start + w_block + 1\n",
    "            yield im_raw[y_start:y_end, x_start:x_end,...], dmap[y_start:y_end, x_start:x_end,...], smap[y_start:y_end, x_start:x_end,...]"
   ]
  },
  {
   "cell_type": "code",
   "execution_count": 13,
   "metadata": {
    "collapsed": true
   },
   "outputs": [],
   "source": [
    "def generate_training_blocks(root_dir):\n",
    "    raw_dir = os.path.join(root_dir, \"Train\")\n",
    "    dots_dir = os.path.join(root_dir, \"TrainDots\")\n",
    "    mask_dir = os.path.join(root_dir, \"TrainMask\")\n",
    "    dmap_dir = os.path.join(root_dir, \"TrainDensity\")\n",
    "    smap_dir = os.path.join(root_dir, \"TrainSampling\")\n",
    "    block_dir = os.path.join(root_dir, \"TrainBlock\")\n",
    "    \n",
    "    os.makedirs(dmap_dir, exist_ok=True)\n",
    "    os.makedirs(smap_dir, exist_ok=True)\n",
    "    os.makedirs(block_dir, exist_ok=True)\n",
    "    \n",
    "    for filename in os.listdir(raw_dir):\n",
    "        if not filename.endswith(\".jpg\"):\n",
    "            continue\n",
    "        \n",
    "        train_id, _ = os.path.splitext(filename)\n",
    "        # load the raw image, mask and dots\n",
    "        im_raw = cv2.imread(os.path.join(raw_dir, filename))\n",
    "        im_mask = cv2.imread(os.path.join(mask_dir, train_id + \".png\"), cv2.IMREAD_GRAYSCALE)\n",
    "        with open(os.path.join(dots_dir, train_id + \".pkl\"), \"rb\") as pfile:\n",
    "            dots = pickle.load(pfile)\n",
    "            \n",
    "        # Create the density map and sampling map\n",
    "        smap = create_sampling_map(im_raw.shape[:2], dots, sealion_probabilities)\n",
    "        dmap = create_full_density_map(im_raw.shape[:2], dots)\n",
    "        \n",
    "        # Apply mask on all\n",
    "        im_raw[im_mask==0, ...] = 0\n",
    "        smap[im_mask==0, ...] = 0\n",
    "        dmap[im_mask==0, ...] = 0\n",
    "        \n",
    "        # Generate blocks and save them\n",
    "        for i, (braw, bdmap, bsmap) in enumerate(split_in_blocks(im_raw, dmap, smap)):\n",
    "            cv2.imwrite(os.path.join(block_dir, \"{tid}_{bid}.jpg\".format(tid=train_id, bid=i)), braw)\n",
    "            np.savez_compressed(os.path.join(dmap_dir, \"{tid}_{bid}.npz\".format(tid=train_id, bid=i)), dmap=bdmap)\n",
    "            np.savez_compressed(os.path.join(smap_dir, \"{tid}_{bid}.npz\".format(tid=train_id, bid=i)), smap=bsmap)"
   ]
  },
  {
   "cell_type": "code",
   "execution_count": 14,
   "metadata": {
    "collapsed": true
   },
   "outputs": [],
   "source": [
    "def show_density(im, density):\n",
    "    max_density = np.max(density)\n",
    "    normalized_density = density/max_density\n",
    "    im_fp32 = im.astype(np.float32)\n",
    "    im_masked = im_fp32.copy()\n",
    "    im_masked[:,:,0] = (im_fp32[:,:,0] * normalized_density)\n",
    "    im_masked[:,:,1] = (im_fp32[:,:,1] * normalized_density)\n",
    "    im_masked[:,:,2] = (im_fp32[:,:,2] * normalized_density)\n",
    "    return im_masked.astype(np.uint8), (normalized_density * 255).astype(np.uint8)"
   ]
  },
  {
   "cell_type": "code",
   "execution_count": 15,
   "metadata": {
    "collapsed": true
   },
   "outputs": [],
   "source": [
    "with open(\"../data/sealion/TrainDots/872.pkl\", \"rb\") as ifile:\n",
    "    dots = pickle.load(ifile)"
   ]
  },
  {
   "cell_type": "code",
   "execution_count": 16,
   "metadata": {
    "collapsed": true
   },
   "outputs": [],
   "source": [
    "im_train = cv2.imread(\"../data/sealion/Train/872.jpg\")"
   ]
  },
  {
   "cell_type": "code",
   "execution_count": 17,
   "metadata": {
    "collapsed": true
   },
   "outputs": [],
   "source": [
    "location_prob = create_sampling_map(im_train.shape[:-1], dots, sealion_probabilities)"
   ]
  },
  {
   "cell_type": "code",
   "execution_count": 18,
   "metadata": {
    "collapsed": true
   },
   "outputs": [],
   "source": [
    "density_female = create_density_map(im_train.shape[:-1], dots['adult_females'], sealion_gaussian['adult_females'])"
   ]
  },
  {
   "cell_type": "code",
   "execution_count": 19,
   "metadata": {
    "collapsed": true
   },
   "outputs": [],
   "source": [
    "im_density, mask_density = show_density(im_train, location_prob)"
   ]
  },
  {
   "cell_type": "code",
   "execution_count": 20,
   "metadata": {},
   "outputs": [
    {
     "data": {
      "text/plain": [
       "True"
      ]
     },
     "execution_count": 20,
     "metadata": {},
     "output_type": "execute_result"
    }
   ],
   "source": [
    "cv2.imwrite(\"../data/imk.png\", im_density)\n",
    "cv2.imwrite(\"../data/kk.png\", mask_density)"
   ]
  },
  {
   "cell_type": "code",
   "execution_count": 21,
   "metadata": {},
   "outputs": [
    {
     "data": {
      "text/plain": [
       "131.99989"
      ]
     },
     "execution_count": 21,
     "metadata": {},
     "output_type": "execute_result"
    }
   ],
   "source": [
    "np.sum(density_female)"
   ]
  },
  {
   "cell_type": "code",
   "execution_count": null,
   "metadata": {
    "collapsed": true
   },
   "outputs": [],
   "source": []
  },
  {
   "cell_type": "code",
   "execution_count": null,
   "metadata": {},
   "outputs": [],
   "source": [
    "generate_training_blocks(\"/home/lowik/sealion/data/sealion/\")"
   ]
  },
  {
   "cell_type": "code",
   "execution_count": null,
   "metadata": {
    "collapsed": true
   },
   "outputs": [],
   "source": []
  }
 ],
 "metadata": {
  "kernelspec": {
   "display_name": "Python 3",
   "language": "python",
   "name": "python3"
  },
  "language_info": {
   "codemirror_mode": {
    "name": "ipython",
    "version": 3
   },
   "file_extension": ".py",
   "mimetype": "text/x-python",
   "name": "python",
   "nbconvert_exporter": "python",
   "pygments_lexer": "ipython3",
   "version": "3.5.2"
  }
 },
 "nbformat": 4,
 "nbformat_minor": 2
}
