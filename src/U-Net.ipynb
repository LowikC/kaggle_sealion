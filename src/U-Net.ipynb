{
 "cells": [
  {
   "cell_type": "code",
   "execution_count": 659,
   "metadata": {
    "collapsed": true
   },
   "outputs": [],
   "source": [
    "import numpy as np\n",
    "import scipy.stats as st\n",
    "from keras.models import Model\n",
    "from keras.layers import Input, concatenate, Conv2D, MaxPooling2D, UpSampling2D, AveragePooling2D, Flatten, Dense, Lambda\n",
    "from keras.optimizers import Adam\n",
    "from keras.callbacks import ModelCheckpoint\n",
    "from keras import backend as K\n",
    "from keras.losses import mean_squared_error, categorical_crossentropy\n",
    "import matplotlib.pyplot as plt\n",
    "import cv2\n",
    "%matplotlib inline"
   ]
  },
  {
   "cell_type": "code",
   "execution_count": 658,
   "metadata": {
    "collapsed": true
   },
   "outputs": [],
   "source": [
    "import tensorflow as tf\n",
    "sess = tf.Session()\n",
    "K.set_session(sess)"
   ]
  },
  {
   "cell_type": "code",
   "execution_count": 170,
   "metadata": {
    "collapsed": true
   },
   "outputs": [],
   "source": [
    "def get_countnet(img_rows, img_cols, n_channels=3, n_classes=5):\n",
    "    \"\"\" Regression network, output n_classes counts.\n",
    "    :param img_rows: Height of the input image.\n",
    "    :param img_cols: Width of the input image.\n",
    "    :param n_channels: Number of channels in the input image (eg 3 for BGR)\n",
    "    :param n_classes: Number of counts to output (eg 5, one for each type of sealion)\n",
    "    \"\"\"\n",
    "    inputs = Input((img_rows, img_cols, n_channels))\n",
    "    conv1 = Conv2D(32, (3, 3), activation='relu', padding='same')(inputs)\n",
    "    conv1 = Conv2D(32, (3, 3), activation='relu', padding='same')(conv1)\n",
    "    pool1 = MaxPooling2D(pool_size=(2, 2))(conv1)   # (h/2, w/2, 32)\n",
    "\n",
    "    conv2 = Conv2D(64, (3, 3), activation='relu', padding='same')(pool1)\n",
    "    conv2 = Conv2D(64, (3, 3), activation='relu', padding='same')(conv2)\n",
    "    pool2 = MaxPooling2D(pool_size=(2, 2))(conv2)   # (h/4, w/4, 64)\n",
    "\n",
    "    conv3 = Conv2D(128, (3, 3), activation='relu', padding='same')(pool2)\n",
    "    conv3 = Conv2D(128, (3, 3), activation='relu', padding='same')(conv3)\n",
    "    pool3 = MaxPooling2D(pool_size=(2, 2))(conv3)   # (h/8, w/8, 128)\n",
    "\n",
    "    conv4 = Conv2D(256, (3, 3), activation='relu', padding='same')(pool3)\n",
    "    conv4 = Conv2D(256, (3, 3), activation='relu', padding='same')(conv4)\n",
    "    pool4 = MaxPooling2D(pool_size=(2, 2))(conv4)   # (h/16, w/16, 128)\n",
    "\n",
    "    conv5 = Conv2D(512, (3, 3), activation='relu', padding='same')(pool4)\n",
    "    conv5 = Conv2D(512, (3, 3), activation='relu', padding='same')(conv5)   # (h/16, w/16, 512)\n",
    "    \n",
    "    avg = AveragePooling2D((7, 7))(conv5)   #(h/(16 * 7), w/(16 * 7), 512)\n",
    "    avg = Flatten()(avg)\n",
    "    \n",
    "    hidden = Dense(128, activation='relu')(avg)\n",
    "    count_regression = Dense(n_classes)(hidden)\n",
    "    \n",
    "    model = Model(inputs=[inputs], outputs=[count_regression])\n",
    "    model.compile(optimizer=Adam(lr=1e-5), loss=mean_squared_error, metrics=[mean_squared_error])\n",
    "\n",
    "    return model"
   ]
  },
  {
   "cell_type": "code",
   "execution_count": 171,
   "metadata": {
    "collapsed": true
   },
   "outputs": [],
   "source": [
    "countNet = get_countnet(224, 224, 3, 5)"
   ]
  },
  {
   "cell_type": "code",
   "execution_count": 172,
   "metadata": {
    "collapsed": true
   },
   "outputs": [],
   "source": [
    "x = np.random.randn(2, 224, 224, 3)"
   ]
  },
  {
   "cell_type": "code",
   "execution_count": 173,
   "metadata": {
    "collapsed": true
   },
   "outputs": [],
   "source": [
    "y = countNet.predict(x, batch_size=2)"
   ]
  },
  {
   "cell_type": "code",
   "execution_count": 174,
   "metadata": {},
   "outputs": [
    {
     "data": {
      "text/plain": [
       "array([[-0.00106728, -0.02379322, -0.05574227, -0.01152828,  0.00355386],\n",
       "       [-0.00060417, -0.02365067, -0.0562725 , -0.01130335,  0.0035546 ]], dtype=float32)"
      ]
     },
     "execution_count": 174,
     "metadata": {},
     "output_type": "execute_result"
    }
   ],
   "source": [
    "y"
   ]
  },
  {
   "cell_type": "code",
   "execution_count": 136,
   "metadata": {
    "collapsed": true
   },
   "outputs": [],
   "source": [
    "def get_unet(n_channels, n_classes):\n",
    "    # Fully convolutional, we don't specify the image size\n",
    "    inputs = Input((None, None, n_channels))\n",
    "    conv1 = Conv2D(32, (3, 3), activation='relu', padding='same')(inputs)\n",
    "    #conv1 = Dropout(0.2)(conv1)\n",
    "    conv1 = Conv2D(32, (3, 3), activation='relu', padding='same')(conv1)\n",
    "    pool1 = MaxPooling2D(pool_size=(2, 2))(conv1)\n",
    "\n",
    "    conv2 = Conv2D(64, (3, 3), activation='relu', padding='same')(pool1)\n",
    "    #conv2 = Dropout(0.2)(conv2)\n",
    "    conv2 = Conv2D(64, (3, 3), activation='relu', padding='same')(conv2)\n",
    "    pool2 = MaxPooling2D(pool_size=(2, 2))(conv2)\n",
    "\n",
    "    conv3 = Conv2D(128, (3, 3), activation='relu', padding='same')(pool2)\n",
    "    #conv3 = Dropout(0.2)(conv3)\n",
    "    conv3 = Conv2D(128, (3, 3), activation='relu', padding='same')(conv3)\n",
    "    pool3 = MaxPooling2D(pool_size=(2, 2))(conv3)\n",
    "\n",
    "    conv4 = Conv2D(256, (3, 3), activation='relu', padding='same')(pool3)\n",
    "    #conv4 = Dropout(0.2)(conv4)\n",
    "    conv4 = Conv2D(256, (3, 3), activation='relu', padding='same')(conv4)\n",
    "    pool4 = MaxPooling2D(pool_size=(2, 2))(conv4)\n",
    "\n",
    "    conv5 = Conv2D(512, (3, 3), activation='relu', padding='same')(pool4)\n",
    "    #conv5 = Dropout(0.2)(conv5)\n",
    "    conv5 = Conv2D(512, (3, 3), activation='relu', padding='same')(conv5)\n",
    "\n",
    "    up6 = concatenate([UpSampling2D(size=(2, 2))(conv5), conv4], axis=3)\n",
    "    conv6 = Conv2D(256, (3, 3), activation='relu', padding='same')(up6)\n",
    "    conv6 = Conv2D(256, (3, 3), activation='relu', padding='same')(conv6)\n",
    "\n",
    "    up7 = concatenate([UpSampling2D(size=(2, 2))(conv6), conv3], axis=3)\n",
    "    conv7 = Conv2D(128, (3, 3), activation='relu', padding='same')(up7)\n",
    "    conv7 = Conv2D(128, (3, 3), activation='relu', padding='same')(conv7)\n",
    "\n",
    "    up8 = concatenate([UpSampling2D(size=(2, 2))(conv7), conv2], axis=3)\n",
    "    conv8 = Conv2D(64, (3, 3), activation='relu', padding='same')(up8)\n",
    "    conv8 = Conv2D(64, (3, 3), activation='relu', padding='same')(conv8)\n",
    "\n",
    "    up9 = concatenate([UpSampling2D(size=(2, 2))(conv8), conv1], axis=3)\n",
    "    conv9 = Conv2D(32, (3, 3), activation='relu', padding='same')(up9)\n",
    "    conv9 = Conv2D(32, (3, 3), activation='relu', padding='same')(conv9)\n",
    "\n",
    "    conv10 = Conv2D(n_classes, (1, 1), activation=None)(conv9)  # outputs N density map, one for each type of sealion\n",
    "\n",
    "    model = Model(inputs=[inputs], outputs=[conv10])\n",
    "\n",
    "    model.compile(optimizer=Adam(lr=1e-5), loss='mean_squared_error', metrics=['accuracy'])\n",
    "\n",
    "    return model"
   ]
  },
  {
   "cell_type": "code",
   "execution_count": 687,
   "metadata": {
    "collapsed": true
   },
   "outputs": [],
   "source": [
    "def gkern(kernlen, nsig):\n",
    "    \"\"\"Returns a 2D Gaussian kernel array.\"\"\"\n",
    "    interval = (2*nsig+1.)/(kernlen)\n",
    "    x = np.linspace(-nsig-interval/2., nsig+interval/2., kernlen+1)\n",
    "    kern1d = np.diff(st.norm.cdf(x))\n",
    "    kernel_raw = np.sqrt(np.outer(kern1d, kern1d))\n",
    "    kernel = kernel_raw/kernel_raw.sum()\n",
    "    return kernel.astype(np.float32)"
   ]
  },
  {
   "cell_type": "code",
   "execution_count": 688,
   "metadata": {},
   "outputs": [
    {
     "data": {
      "text/plain": [
       "<matplotlib.image.AxesImage at 0x7f7ad766f710>"
      ]
     },
     "execution_count": 688,
     "metadata": {},
     "output_type": "execute_result"
    },
    {
     "data": {
      "image/png": "[encoded data removed]",
      "text/plain": [
       "<matplotlib.figure.Figure at 0x7f7ad7754748>"
      ]
     },
     "metadata": {},
     "output_type": "display_data"
    }
   ],
   "source": [
    "plt.imshow(gkern(27, 3))"
   ]
  },
  {
   "cell_type": "code",
   "execution_count": 689,
   "metadata": {},
   "outputs": [],
   "source": [
    "def smooth_avg(x, ksize, sigma):\n",
    "    \"\"\"Apply the same gaussian kernel to each channel.\n",
    "    :param x: 4-D tensor\n",
    "    :param ksize: Width of the Gaussian kernel.\n",
    "    :param sigma: \"Inversed variance\" of the Gaussian kernel.\n",
    "    \"\"\"\n",
    "    n_classes = int(x.shape[-1])\n",
    "    gaussian_kernel = gkern(ksize, sigma)  # shape (ksize, ksize)\n",
    "    gaussian_kernel = np.repeat(gaussian_kernel[:, :, np.newaxis], n_classes, axis=2)  # shape (ksize, ksize, n_classes)\n",
    "    gaussian_kernel = gaussian_kernel.reshape((ksize, ksize, n_classes, 1))\n",
    "    gaussian_kernel = K.constant(value=gaussian_kernel, dtype=tf.float32)\n",
    "    return tf.nn.depthwise_conv2d(x, gaussian_kernel, strides=[1, 1, 1, 1], padding='SAME')"
   ]
  },
  {
   "cell_type": "code",
   "execution_count": 792,
   "metadata": {
    "collapsed": true
   },
   "outputs": [],
   "source": [
    "SmoothLayer = Lambda(smooth_avg, arguments={\"ksize\": 27, \"sigma\": 1})"
   ]
  },
  {
   "cell_type": "code",
   "execution_count": 793,
   "metadata": {},
   "outputs": [],
   "source": [
    "inputs = Input((224, 224, 3))\n",
    "output = SmoothLayer(inputs)\n",
    "model_smooth = Model(inputs=[inputs], outputs=[output])"
   ]
  },
  {
   "cell_type": "code",
   "execution_count": 794,
   "metadata": {},
   "outputs": [
    {
     "data": {
      "text/plain": [
       "<matplotlib.image.AxesImage at 0x7f7ad6f68e48>"
      ]
     },
     "execution_count": 794,
     "metadata": {},
     "output_type": "execute_result"
    },
    {
     "data": {
      "image/png": "[encoded data removed]",
      "text/plain": [
       "<matplotlib.figure.Figure at 0x7f7ad7003b70>"
      ]
     },
     "metadata": {},
     "output_type": "display_data"
    }
   ],
   "source": [
    "x = cv2.imread(\"../data/test_smooth.png\")\n",
    "x = x.reshape((1, 224, 224, 3))\n",
    "plt.imshow(x[0])"
   ]
  },
  {
   "cell_type": "code",
   "execution_count": 795,
   "metadata": {},
   "outputs": [
    {
     "data": {
      "text/plain": [
       "<matplotlib.image.AxesImage at 0x7f7ad6f56470>"
      ]
     },
     "execution_count": 795,
     "metadata": {},
     "output_type": "execute_result"
    },
    {
     "data": {
      "image/png": "[encoded data removed]",
      "text/plain": [
       "<matplotlib.figure.Figure at 0x7f7ad6f896a0>"
      ]
     },
     "metadata": {},
     "output_type": "display_data"
    }
   ],
   "source": [
    "y = model_smooth.predict(x)\n",
    "s = y[0].astype(np.uint8)\n",
    "cv2.imwrite(\"../data/fff.png\", s)\n",
    "plt.imshow(s)"
   ]
  },
  {
   "cell_type": "code",
   "execution_count": 833,
   "metadata": {},
   "outputs": [],
   "source": [
    "y_true = (cv2.imread(\"../data/test_smooth.png\")/255.0).reshape((1, 224, 224, 3))"
   ]
  },
  {
   "cell_type": "code",
   "execution_count": 852,
   "metadata": {
    "collapsed": true
   },
   "outputs": [],
   "source": [
    "y_pred_rand = (cv2.imread(\"../data/test_smooth2.png\")/255.0).reshape((1, 224, 224, 3))"
   ]
  },
  {
   "cell_type": "code",
   "execution_count": 853,
   "metadata": {},
   "outputs": [],
   "source": [
    "y_pred_shifted = np.zeros((1, 224, 224, 3))\n",
    "y_pred_shifted[0, 3:, 4:,:] = y_true[0, :-3, :-4,:]"
   ]
  },
  {
   "cell_type": "code",
   "execution_count": 854,
   "metadata": {
    "collapsed": true
   },
   "outputs": [],
   "source": [
    "noise = np.random.normal(0, 0.2, (1, 224, 224, 3))\n",
    "y_pred_noisy = y_true + noise"
   ]
  },
  {
   "cell_type": "code",
   "execution_count": 855,
   "metadata": {
    "collapsed": true
   },
   "outputs": [],
   "source": [
    "def mse(y_true, y_pred):\n",
    "    return np.mean(np.square(y_pred - y_true), axis=-1)"
   ]
  },
  {
   "cell_type": "code",
   "execution_count": 863,
   "metadata": {},
   "outputs": [],
   "source": [
    "mse_rand = np.mean(mse(y_true, y_pred_rand))\n",
    "mse_shifted = np.mean(mse(y_true, y_pred_shifted))\n",
    "mse_noisy = np.mean(mse(y_true, y_pred_noisy))"
   ]
  },
  {
   "cell_type": "code",
   "execution_count": 864,
   "metadata": {
    "collapsed": true
   },
   "outputs": [],
   "source": [
    "y_true_sm = model_smooth.predict(y_true)"
   ]
  },
  {
   "cell_type": "code",
   "execution_count": 865,
   "metadata": {},
   "outputs": [],
   "source": [
    "y_pred_shifted_sm = model_smooth.predict(y_pred_shifted)\n",
    "mse_shifted_sm = np.mean(mse(y_true_sm, y_pred_shifted_sm))\n",
    "y_pred_rand_sm = model_smooth.predict(y_pred_rand)\n",
    "mse_rand_sm = np.mean(mse(y_true_sm, y_pred_rand_sm))\n",
    "y_pred_noisy_sm = model_smooth.predict(y_pred_noisy)\n",
    "mse_noisy_sm = np.mean(mse(y_true_sm, y_pred_noisy_sm))"
   ]
  },
  {
   "cell_type": "code",
   "execution_count": 866,
   "metadata": {},
   "outputs": [
    {
     "name": "stdout",
     "output_type": "stream",
     "text": [
      "Rand:  2.12058035246\n",
      "Shifted:  8.85030887181\n",
      "Noise:  823.863538489\n"
     ]
    }
   ],
   "source": [
    "print(\"Rand: \", mse_rand/mse_rand_sm)\n",
    "print(\"Shifted: \", mse_shifted/mse_shifted_sm)\n",
    "print(\"Noise: \", mse_noisy/mse_noisy_sm)"
   ]
  },
  {
   "cell_type": "code",
   "execution_count": 862,
   "metadata": {},
   "outputs": [
    {
     "data": {
      "text/plain": [
       "4.8657075e-05"
      ]
     },
     "execution_count": 862,
     "metadata": {},
     "output_type": "execute_result"
    }
   ],
   "source": []
  },
  {
   "cell_type": "code",
   "execution_count": 851,
   "metadata": {
    "collapsed": true
   },
   "outputs": [],
   "source": [
    "def get_unet_smooth(n_channels, n_classes, gaussian_size, sigma):\n",
    "    SmoothLayer = Lambda(smooth_avg, arguments={\"ksize\": gaussian_size, \"sigma\": sigma})\n",
    "    \n",
    "    # Fully convolutional, we don't specify the image size\n",
    "    inputs = Input((None, None, n_channels))\n",
    "    conv1 = Conv2D(32, (3, 3), activation='relu', padding='same')(inputs)\n",
    "    #conv1 = Dropout(0.2)(conv1)\n",
    "    conv1 = Conv2D(32, (3, 3), activation='relu', padding='same')(conv1)\n",
    "    pool1 = MaxPooling2D(pool_size=(2, 2))(conv1)\n",
    "\n",
    "    conv2 = Conv2D(64, (3, 3), activation='relu', padding='same')(pool1)\n",
    "    #conv2 = Dropout(0.2)(conv2)\n",
    "    conv2 = Conv2D(64, (3, 3), activation='relu', padding='same')(conv2)\n",
    "    pool2 = MaxPooling2D(pool_size=(2, 2))(conv2)\n",
    "\n",
    "    conv3 = Conv2D(128, (3, 3), activation='relu', padding='same')(pool2)\n",
    "    #conv3 = Dropout(0.2)(conv3)\n",
    "    conv3 = Conv2D(128, (3, 3), activation='relu', padding='same')(conv3)\n",
    "    pool3 = MaxPooling2D(pool_size=(2, 2))(conv3)\n",
    "\n",
    "    conv4 = Conv2D(256, (3, 3), activation='relu', padding='same')(pool3)\n",
    "    #conv4 = Dropout(0.2)(conv4)\n",
    "    conv4 = Conv2D(256, (3, 3), activation='relu', padding='same')(conv4)\n",
    "    pool4 = MaxPooling2D(pool_size=(2, 2))(conv4)\n",
    "\n",
    "    conv5 = Conv2D(512, (3, 3), activation='relu', padding='same')(pool4)\n",
    "    #conv5 = Dropout(0.2)(conv5)\n",
    "    conv5 = Conv2D(512, (3, 3), activation='relu', padding='same')(conv5)\n",
    "\n",
    "    up6 = concatenate([UpSampling2D(size=(2, 2))(conv5), conv4], axis=3)\n",
    "    conv6 = Conv2D(256, (3, 3), activation='relu', padding='same')(up6)\n",
    "    conv6 = Conv2D(256, (3, 3), activation='relu', padding='same')(conv6)\n",
    "\n",
    "    up7 = concatenate([UpSampling2D(size=(2, 2))(conv6), conv3], axis=3)\n",
    "    conv7 = Conv2D(128, (3, 3), activation='relu', padding='same')(up7)\n",
    "    conv7 = Conv2D(128, (3, 3), activation='relu', padding='same')(conv7)\n",
    "\n",
    "    up8 = concatenate([UpSampling2D(size=(2, 2))(conv7), conv2], axis=3)\n",
    "    conv8 = Conv2D(64, (3, 3), activation='relu', padding='same')(up8)\n",
    "    conv8 = Conv2D(64, (3, 3), activation='relu', padding='same')(conv8)\n",
    "\n",
    "    up9 = concatenate([UpSampling2D(size=(2, 2))(conv8), conv1], axis=3)\n",
    "    conv9 = Conv2D(32, (3, 3), activation='relu', padding='same')(up9)\n",
    "    conv9 = Conv2D(32, (3, 3), activation='relu', padding='same')(conv9)\n",
    "\n",
    "    conv10 = Conv2D(n_classes, (1, 1), activation=None)(conv9)  # outputs N density map, one for each type of sealion\n",
    "\n",
    "    conv10_smooth = SmoothLayer(conv10)\n",
    "    \n",
    "    model = Model(inputs=[inputs], outputs=[conv10_smooth])\n",
    "\n",
    "    model.compile(optimizer=Adam(lr=1e-5), loss='mean_squared_error', metrics=['accuracy'])\n",
    "\n",
    "    return model"
   ]
  },
  {
   "cell_type": "code",
   "execution_count": 697,
   "metadata": {},
   "outputs": [],
   "source": [
    "test = get_unet_smooth(3, 5, 27, 3)"
   ]
  },
  {
   "cell_type": "code",
   "execution_count": 698,
   "metadata": {
    "collapsed": true
   },
   "outputs": [],
   "source": [
    "x  = np.random.randn(1, 224, 224, 3)"
   ]
  },
  {
   "cell_type": "code",
   "execution_count": 699,
   "metadata": {
    "collapsed": true
   },
   "outputs": [],
   "source": [
    "y = test.predict(x, batch_size=1)"
   ]
  },
  {
   "cell_type": "code",
   "execution_count": 775,
   "metadata": {},
   "outputs": [],
   "source": [
    "noise  = np.random.normal(loc=0, scale=0.2, size=(1, 224, 224, 3))"
   ]
  },
  {
   "cell_type": "code",
   "execution_count": 774,
   "metadata": {},
   "outputs": [
    {
     "data": {
      "text/plain": [
       "array([[[[ 0.22383066,  0.39571372,  0.45308712],\n",
       "         [-0.14326822,  0.06139457, -0.10076697],\n",
       "         [-0.09848418,  0.06250268,  0.61472787],\n",
       "         ..., \n",
       "         [-0.06357724, -0.17405397,  0.10338968],\n",
       "         [-0.0160611 ,  0.1146495 , -0.10261768],\n",
       "         [-0.24202778,  0.13669209, -0.30222504]],\n",
       "\n",
       "        [[-0.13484586, -0.04985614, -0.36829545],\n",
       "         [ 0.16630945,  0.04040881,  0.09013462],\n",
       "         [ 0.02969454, -0.09993743,  0.16891056],\n",
       "         ..., \n",
       "         [ 0.21780663, -0.50008935, -0.01394816],\n",
       "         [-0.35490607, -0.24197502,  0.1069419 ],\n",
       "         [ 0.14593879,  0.04677929,  0.10700241]],\n",
       "\n",
       "        [[ 0.2062063 ,  0.10917462,  0.20124465],\n",
       "         [-0.05712886, -0.23789453, -0.26301394],\n",
       "         [ 0.17463572, -0.10373689,  0.08587297],\n",
       "         ..., \n",
       "         [-0.4079429 , -0.55225609,  0.02602408],\n",
       "         [ 0.21470373, -0.05464729, -0.12655936],\n",
       "         [-0.24523014, -0.35270828, -0.35558011]],\n",
       "\n",
       "        ..., \n",
       "        [[ 0.33880434, -0.09063689,  0.05287368],\n",
       "         [ 0.28031391, -0.00724626, -0.04030023],\n",
       "         [ 0.05244411,  0.17960324, -0.23414597],\n",
       "         ..., \n",
       "         [-0.29900349, -0.31835919, -0.154236  ],\n",
       "         [ 0.20873889, -0.06595675, -0.09514241],\n",
       "         [-0.11359658,  0.044095  , -0.17361509]],\n",
       "\n",
       "        [[ 0.0475484 , -0.26580711, -0.13571718],\n",
       "         [ 0.12751809, -0.06028033, -0.03428299],\n",
       "         [-0.04258093,  0.00829103,  0.08111184],\n",
       "         ..., \n",
       "         [ 0.02388131,  0.11549961,  0.11711357],\n",
       "         [ 0.12659168, -0.05733016,  0.35030745],\n",
       "         [-0.26305997,  0.01048359, -0.04460331]],\n",
       "\n",
       "        [[ 0.00105655, -0.03774447, -0.0581087 ],\n",
       "         [-0.30473361, -0.30451085, -0.10541926],\n",
       "         [ 0.24079831,  0.04180214,  0.02873721],\n",
       "         ..., \n",
       "         [-0.06783593, -0.34366053,  0.06241813],\n",
       "         [-0.0346245 ,  0.26626315, -0.07303629],\n",
       "         [ 0.00816909,  0.27518325,  0.22372237]]]])"
      ]
     },
     "execution_count": 774,
     "metadata": {},
     "output_type": "execute_result"
    }
   ],
   "source": [
    "y = np."
   ]
  },
  {
   "cell_type": "code",
   "execution_count": 716,
   "metadata": {},
   "outputs": [
    {
     "data": {
      "text/plain": [
       "array([[[[ 0.01308148, -0.01200846, -0.02462627, -0.03678506, -0.00555139],\n",
       "         [ 0.01476608, -0.01375009, -0.02772541, -0.04190183, -0.00621258],\n",
       "         [ 0.01640456, -0.01540176, -0.03076441, -0.04702127, -0.0070128 ],\n",
       "         ..., \n",
       "         [ 0.00982584, -0.0160932 , -0.02714087, -0.04874134, -0.00773515],\n",
       "         [ 0.00858724, -0.01435301, -0.02425705, -0.04381122, -0.00667441],\n",
       "         [ 0.00739431, -0.01256813, -0.02123459, -0.03871353, -0.00567721]],\n",
       "\n",
       "        [[ 0.01480323, -0.01364705, -0.02753099, -0.04148619, -0.00630159],\n",
       "         [ 0.01670693, -0.0156121 , -0.03097537, -0.04724607, -0.00707002],\n",
       "         [ 0.01855393, -0.01747304, -0.03435504, -0.05300489, -0.00798698],\n",
       "         ..., \n",
       "         [ 0.01132903, -0.01830265, -0.03050529, -0.0553561 , -0.00877379],\n",
       "         [ 0.00992185, -0.01632693, -0.02726935, -0.04977268, -0.00756035],\n",
       "         [ 0.00855851, -0.01430386, -0.02389077, -0.04400975, -0.00640669]],\n",
       "\n",
       "        [[ 0.01654017, -0.01526468, -0.03021055, -0.04597756, -0.00708514],\n",
       "         [ 0.01865624, -0.01744837, -0.03395714, -0.05234003, -0.00796769],\n",
       "         [ 0.0207061 , -0.01951631, -0.03764058, -0.05870869, -0.00900287],\n",
       "         ..., \n",
       "         [ 0.01285338, -0.02041724, -0.03360048, -0.06164609, -0.0097123 ],\n",
       "         [ 0.01127931, -0.01821771, -0.03005494, -0.05545866, -0.00835752],\n",
       "         [ 0.00974524, -0.01597017, -0.02636257, -0.04908076, -0.00705816]],\n",
       "\n",
       "        ..., \n",
       "        [[ 0.01456682, -0.0179249 , -0.03032386, -0.04754971, -0.00895005],\n",
       "         [ 0.01625205, -0.02029504, -0.0337075 , -0.053785  , -0.01009306],\n",
       "         [ 0.01771437, -0.02238027, -0.03691112, -0.05978776, -0.01117492],\n",
       "         ..., \n",
       "         [ 0.01470188, -0.01624061, -0.02694786, -0.05175642, -0.00774554],\n",
       "         [ 0.01287033, -0.01446462, -0.02399443, -0.04656454, -0.00676942],\n",
       "         [ 0.01114001, -0.0126799 , -0.02095036, -0.04129915, -0.00578208]],\n",
       "\n",
       "        [[ 0.0128156 , -0.01600965, -0.02712543, -0.04237328, -0.00811903],\n",
       "         [ 0.01430599, -0.01812802, -0.03014353, -0.04791973, -0.00915105],\n",
       "         [ 0.01560068, -0.01999951, -0.03300083, -0.05326116, -0.01012603],\n",
       "         ..., \n",
       "         [ 0.01297928, -0.01448008, -0.02399181, -0.04586571, -0.00702887],\n",
       "         [ 0.01135617, -0.01289403, -0.02135762, -0.0412652 , -0.00614991],\n",
       "         [ 0.0098284 , -0.01130353, -0.01864016, -0.03661065, -0.00525398]],\n",
       "\n",
       "        [[ 0.01111199, -0.01411799, -0.02388069, -0.03708405, -0.00717726],\n",
       "         [ 0.01241156, -0.01598824, -0.02653088, -0.04193614, -0.00808279],\n",
       "         [ 0.01353889, -0.01764552, -0.02904168, -0.0466136 , -0.0089346 ],\n",
       "         ..., \n",
       "         [ 0.01118844, -0.01279198, -0.02114117, -0.04006368, -0.00623082],\n",
       "         [ 0.00977569, -0.01138093, -0.01880749, -0.03603962, -0.00545666],\n",
       "         [ 0.00845882, -0.00997233, -0.01640381, -0.03197911, -0.00465985]]]], dtype=float32)"
      ]
     },
     "execution_count": 716,
     "metadata": {},
     "output_type": "execute_result"
    }
   ],
   "source": [
    "y"
   ]
  },
  {
   "cell_type": "code",
   "execution_count": 700,
   "metadata": {},
   "outputs": [
    {
     "data": {
      "text/plain": [
       "(1, 224, 224, 5)"
      ]
     },
     "execution_count": 700,
     "metadata": {},
     "output_type": "execute_result"
    }
   ],
   "source": [
    "y.shape"
   ]
  },
  {
   "cell_type": "markdown",
   "metadata": {},
   "source": [
    "Check mean_squared_error behavior"
   ]
  },
  {
   "cell_type": "code",
   "execution_count": 713,
   "metadata": {
    "collapsed": true
   },
   "outputs": [],
   "source": [
    "y_pred = np.zeros((1, 1, 2))\n",
    "y_true = np.zeros((1, 1, 2))\n",
    "y_pred[0,0,0] = 1.2\n",
    "y_pred[0,0,1] = 0\n",
    "y_true[0,0,0] = 1.0\n",
    "y_true[0,0,1] = 0.5"
   ]
  },
  {
   "cell_type": "code",
   "execution_count": 714,
   "metadata": {},
   "outputs": [],
   "source": [
    "f = mean_squared_error(y_pred, y_true)"
   ]
  },
  {
   "cell_type": "code",
   "execution_count": 715,
   "metadata": {},
   "outputs": [
    {
     "name": "stdout",
     "output_type": "stream",
     "text": [
      "[[ 0.145]]\n"
     ]
    }
   ],
   "source": [
    "with sess.as_default():\n",
    "    print(f.eval())"
   ]
  },
  {
   "cell_type": "code",
   "execution_count": null,
   "metadata": {
    "collapsed": true
   },
   "outputs": [],
   "source": []
  }
 ],
 "metadata": {
  "kernelspec": {
   "display_name": "Python 3",
   "language": "python",
   "name": "python3"
  },
  "language_info": {
   "codemirror_mode": {
    "name": "ipython",
    "version": 3
   },
   "file_extension": ".py",
   "mimetype": "text/x-python",
   "name": "python",
   "nbconvert_exporter": "python",
   "pygments_lexer": "ipython3",
   "version": "3.5.2"
  }
 },
 "nbformat": 4,
 "nbformat_minor": 2
}
