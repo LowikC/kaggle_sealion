{
 "cells": [
  {
   "cell_type": "code",
   "execution_count": 1,
   "metadata": {
    "collapsed": true
   },
   "outputs": [],
   "source": [
    "import numpy as np\n",
    "import matplotlib.pyplot as plt\n",
    "import cv2\n",
    "import os\n",
    "import pickle\n",
    "from math import cos, sin, pi, sqrt\n",
    "%matplotlib inline"
   ]
  },
  {
   "cell_type": "markdown",
   "metadata": {},
   "source": [
    "# Test with simple circles"
   ]
  },
  {
   "cell_type": "code",
   "execution_count": 2,
   "metadata": {
    "collapsed": true
   },
   "outputs": [],
   "source": [
    "with open(\"../data/sealion/TrainDots/873.pkl\", \"rb\") as pfile:\n",
    "    dots = pickle.load(pfile)"
   ]
  },
  {
   "cell_type": "code",
   "execution_count": 3,
   "metadata": {
    "collapsed": true
   },
   "outputs": [],
   "source": [
    "with open(\"../data/sealion/TrainShape/873.pkl\", \"rb\") as pfile:\n",
    "    shape = pickle.load(pfile)"
   ]
  },
  {
   "cell_type": "code",
   "execution_count": 4,
   "metadata": {
    "collapsed": true
   },
   "outputs": [],
   "source": [
    "scale = 0.25"
   ]
  },
  {
   "cell_type": "code",
   "execution_count": 5,
   "metadata": {
    "collapsed": true
   },
   "outputs": [],
   "source": [
    "def scl(x, s):\n",
    "    return int(np.round(x * s))"
   ]
  },
  {
   "cell_type": "code",
   "execution_count": 6,
   "metadata": {},
   "outputs": [
    {
     "data": {
      "text/plain": [
       "(3328, 4992)"
      ]
     },
     "execution_count": 6,
     "metadata": {},
     "output_type": "execute_result"
    }
   ],
   "source": [
    "shape"
   ]
  },
  {
   "cell_type": "code",
   "execution_count": 7,
   "metadata": {
    "collapsed": true
   },
   "outputs": [],
   "source": [
    "shape_scaled = (scl(shape[0], scale), scl(shape[1], scale))"
   ]
  },
  {
   "cell_type": "code",
   "execution_count": 8,
   "metadata": {},
   "outputs": [
    {
     "data": {
      "text/plain": [
       "(832, 1248)"
      ]
     },
     "execution_count": 8,
     "metadata": {},
     "output_type": "execute_result"
    }
   ],
   "source": [
    "shape_scaled"
   ]
  },
  {
   "cell_type": "code",
   "execution_count": 9,
   "metadata": {},
   "outputs": [
    {
     "ename": "NameError",
     "evalue": "name 'expected_size_max' is not defined",
     "output_type": "error",
     "traceback": [
      "\u001b[0;31m---------------------------------------------------------------------------\u001b[0m",
      "\u001b[0;31mNameError\u001b[0m                                 Traceback (most recent call last)",
      "\u001b[0;32m<ipython-input-9-01d84b4e237c>\u001b[0m in \u001b[0;36m<module>\u001b[0;34m()\u001b[0m\n\u001b[1;32m      4\u001b[0m         \u001b[0mxs\u001b[0m\u001b[0;34m,\u001b[0m \u001b[0mys\u001b[0m \u001b[0;34m=\u001b[0m \u001b[0mscl\u001b[0m\u001b[0;34m(\u001b[0m\u001b[0mx\u001b[0m\u001b[0;34m,\u001b[0m \u001b[0mscale\u001b[0m\u001b[0;34m)\u001b[0m\u001b[0;34m,\u001b[0m \u001b[0mscl\u001b[0m\u001b[0;34m(\u001b[0m\u001b[0my\u001b[0m\u001b[0;34m,\u001b[0m \u001b[0mscale\u001b[0m\u001b[0;34m)\u001b[0m\u001b[0;34m\u001b[0m\u001b[0m\n\u001b[1;32m      5\u001b[0m         \u001b[0msmap\u001b[0m \u001b[0;34m=\u001b[0m \u001b[0mnp\u001b[0m\u001b[0;34m.\u001b[0m\u001b[0mzeros\u001b[0m\u001b[0;34m(\u001b[0m\u001b[0mshape_scaled\u001b[0m\u001b[0;34m,\u001b[0m \u001b[0mdtype\u001b[0m\u001b[0;34m=\u001b[0m\u001b[0mnp\u001b[0m\u001b[0;34m.\u001b[0m\u001b[0muint8\u001b[0m\u001b[0;34m)\u001b[0m\u001b[0;34m\u001b[0m\u001b[0m\n\u001b[0;32m----> 6\u001b[0;31m         \u001b[0mcv2\u001b[0m\u001b[0;34m.\u001b[0m\u001b[0mcircle\u001b[0m\u001b[0;34m(\u001b[0m\u001b[0msmap\u001b[0m\u001b[0;34m,\u001b[0m \u001b[0;34m(\u001b[0m\u001b[0mxs\u001b[0m\u001b[0;34m,\u001b[0m \u001b[0mys\u001b[0m\u001b[0;34m)\u001b[0m\u001b[0;34m,\u001b[0m \u001b[0mscl\u001b[0m\u001b[0;34m(\u001b[0m\u001b[0mexpected_size_max\u001b[0m\u001b[0;34m[\u001b[0m\u001b[0mi\u001b[0m\u001b[0;34m]\u001b[0m\u001b[0;34m,\u001b[0m \u001b[0mscale\u001b[0m\u001b[0;34m)\u001b[0m\u001b[0;34m//\u001b[0m\u001b[0;36m2\u001b[0m\u001b[0;34m,\u001b[0m \u001b[0;34m(\u001b[0m\u001b[0;36m1\u001b[0m\u001b[0;34m,\u001b[0m \u001b[0;36m1\u001b[0m\u001b[0;34m,\u001b[0m \u001b[0;36m1\u001b[0m\u001b[0;34m)\u001b[0m\u001b[0;34m,\u001b[0m \u001b[0;34m-\u001b[0m\u001b[0;36m1\u001b[0m\u001b[0;34m)\u001b[0m\u001b[0;34m\u001b[0m\u001b[0m\n\u001b[0m\u001b[1;32m      7\u001b[0m         \u001b[0mcv2\u001b[0m\u001b[0;34m.\u001b[0m\u001b[0mcircle\u001b[0m\u001b[0;34m(\u001b[0m\u001b[0msmap\u001b[0m\u001b[0;34m,\u001b[0m \u001b[0;34m(\u001b[0m\u001b[0mxs\u001b[0m\u001b[0;34m,\u001b[0m \u001b[0mys\u001b[0m\u001b[0;34m)\u001b[0m\u001b[0;34m,\u001b[0m \u001b[0mscl\u001b[0m\u001b[0;34m(\u001b[0m\u001b[0mexpected_size_min\u001b[0m\u001b[0;34m[\u001b[0m\u001b[0mi\u001b[0m\u001b[0;34m]\u001b[0m\u001b[0;34m,\u001b[0m \u001b[0mscale\u001b[0m\u001b[0;34m)\u001b[0m\u001b[0;34m//\u001b[0m\u001b[0;36m2\u001b[0m\u001b[0;34m,\u001b[0m \u001b[0;34m(\u001b[0m\u001b[0;36m2\u001b[0m\u001b[0;34m,\u001b[0m \u001b[0;36m2\u001b[0m\u001b[0;34m,\u001b[0m \u001b[0;36m2\u001b[0m\u001b[0;34m)\u001b[0m\u001b[0;34m,\u001b[0m \u001b[0;34m-\u001b[0m\u001b[0;36m1\u001b[0m\u001b[0;34m)\u001b[0m\u001b[0;34m\u001b[0m\u001b[0m\n\u001b[1;32m      8\u001b[0m         \u001b[0msmap_all\u001b[0m \u001b[0;34m=\u001b[0m \u001b[0mnp\u001b[0m\u001b[0;34m.\u001b[0m\u001b[0mmaximum\u001b[0m\u001b[0;34m(\u001b[0m\u001b[0msmap_all\u001b[0m\u001b[0;34m,\u001b[0m \u001b[0msmap\u001b[0m\u001b[0;34m)\u001b[0m\u001b[0;34m\u001b[0m\u001b[0m\n",
      "\u001b[0;31mNameError\u001b[0m: name 'expected_size_max' is not defined"
     ]
    }
   ],
   "source": [
    "smap_all = np.zeros(shape_scaled, dtype=np.uint8)\n",
    "for i, ds in enumerate(dots):\n",
    "    for (x, y) in ds:\n",
    "        xs, ys = scl(x, scale), scl(y, scale)\n",
    "        smap = np.zeros(shape_scaled, dtype=np.uint8)\n",
    "        cv2.circle(smap, (xs, ys), scl(expected_size_max[i], scale)//2, (1, 1, 1), -1)\n",
    "        cv2.circle(smap, (xs, ys), scl(expected_size_min[i], scale)//2, (2, 2, 2), -1)\n",
    "        smap_all = np.maximum(smap_all, smap)"
   ]
  },
  {
   "cell_type": "code",
   "execution_count": null,
   "metadata": {
    "collapsed": true
   },
   "outputs": [],
   "source": [
    "cv2.imwrite(\"../data/f.png\", smap_all)"
   ]
  },
  {
   "cell_type": "code",
   "execution_count": null,
   "metadata": {
    "collapsed": true
   },
   "outputs": [],
   "source": [
    "plt.imshow(smap_all)"
   ]
  },
  {
   "cell_type": "markdown",
   "metadata": {},
   "source": [
    "# Apply double threshold on gaussian map"
   ]
  },
  {
   "cell_type": "code",
   "execution_count": 2,
   "metadata": {
    "collapsed": true
   },
   "outputs": [],
   "source": [
    "dmap = np.load(\"../data/sealion/TrainEllipseDensity/873_5.npz\")[\"dmap\"]"
   ]
  },
  {
   "cell_type": "code",
   "execution_count": 3,
   "metadata": {},
   "outputs": [
    {
     "data": {
      "text/plain": [
       "<matplotlib.image.AxesImage at 0x7f30f1007588>"
      ]
     },
     "execution_count": 3,
     "metadata": {},
     "output_type": "execute_result"
    },
    {
     "data": {
      "image/png": "[encoded data removed]",
      "text/plain": [
       "<matplotlib.figure.Figure at 0x7f3121e00470>"
      ]
     },
     "metadata": {},
     "output_type": "display_data"
    }
   ],
   "source": [
    "plt.imshow(np.sum(dmap, axis=-1))"
   ]
  },
  {
   "cell_type": "code",
   "execution_count": 4,
   "metadata": {
    "collapsed": true
   },
   "outputs": [],
   "source": [
    "expected_size = [78, 64, 60, 48, 28]\n",
    "\n",
    "expected_size_min = [36, 32, 30, 24, 12]\n",
    "\n",
    "expected_size_max = [120, 120, 100, 80, 40]"
   ]
  },
  {
   "cell_type": "code",
   "execution_count": 5,
   "metadata": {
    "collapsed": true
   },
   "outputs": [],
   "source": [
    "def gaussian2d_gen(x, y, theta, sx=1, sy=1, x0=0, y0=0, A=1):\n",
    "    \"\"\" See https://fr.wikipedia.org/wiki/Fonction_gaussienne\n",
    "    \"\"\"    \n",
    "    assert(sx != 0)\n",
    "    assert(sy != 0)\n",
    "    a = (cos(theta)**2) / (2 * sx**2) + (sin(theta)** 2)/ (2 * sy**2)\n",
    "    b = -sin(2 * theta)/ (4 * sx**2) + sin(2 * theta) / (4 * sy**2)\n",
    "    c = (sin(theta)**2) / (2 * sx**2) + (cos(theta)** 2)/ (2 * sy**2)\n",
    "    dx = x - x0\n",
    "    dy = y - y0\n",
    "    \n",
    "    return A * np.exp(-(a * dx**2 + 2 * b * dx * dy + c * dy**2))"
   ]
  },
  {
   "cell_type": "code",
   "execution_count": 6,
   "metadata": {
    "collapsed": true
   },
   "outputs": [],
   "source": [
    "def mask_gaussian(major, minor, theta):\n",
    "    \"\"\" See http://www.visiondummy.com/2014/04/draw-error-ellipse-representing-covariance-matrix/ for the 5.991\n",
    "    \"\"\"\n",
    "    df = 4.605 #5.991\n",
    "    sigma_x = major/(2 * sqrt(df))\n",
    "    sigma_y = minor/(2 * sqrt(df))\n",
    "    half = int((max(sigma_x, sigma_y) * 3.5 ))  # to be sure that the limit of the mask have a value close to 0 (avoid artifact on density map)\n",
    "    im = np.zeros((2 * half + 1, 2 * half + 1), np.float32)\n",
    "    for y in range(-half, half + 1):\n",
    "        for x in range(-half, half + 1):\n",
    "            im[y + half, x + half] = gaussian2d_gen(x, y, theta, sigma_x, sigma_y, 0, 0, 1)\n",
    "    total_sum = np.sum(im)\n",
    "    im /= total_sum\n",
    "    return im"
   ]
  },
  {
   "cell_type": "code",
   "execution_count": 7,
   "metadata": {
    "collapsed": true
   },
   "outputs": [],
   "source": [
    "def get_threshold_values(expected_size, real_size):\n",
    "    thresholds = []\n",
    "    for s, r in zip(expected_size, real_size):\n",
    "        gaussian = mask_gaussian(s, s, pi/2)\n",
    "        im = np.zeros(gaussian.shape, dtype=np.uint8)\n",
    "        e = ((gaussian.shape[1]//2, gaussian.shape[0]//2), (r, r), 90)\n",
    "        im = cv2.ellipse(im, e, color=(255, 255, 255), thickness=-1)\n",
    "        threshold = np.max(gaussian[im == 0])\n",
    "        thresholds.append(threshold)\n",
    "    return thresholds"
   ]
  },
  {
   "cell_type": "code",
   "execution_count": 8,
   "metadata": {
    "collapsed": true
   },
   "outputs": [],
   "source": [
    "thresholds_max = get_threshold_values(expected_size, expected_size_max)"
   ]
  },
  {
   "cell_type": "code",
   "execution_count": 9,
   "metadata": {
    "collapsed": true
   },
   "outputs": [],
   "source": [
    "thresholds_min = get_threshold_values(expected_size, expected_size_min)"
   ]
  },
  {
   "cell_type": "code",
   "execution_count": 10,
   "metadata": {},
   "outputs": [
    {
     "data": {
      "text/plain": [
       "<matplotlib.image.AxesImage at 0x7f30eeb9d908>"
      ]
     },
     "execution_count": 10,
     "metadata": {},
     "output_type": "execute_result"
    },
    {
     "data": {
      "image/png": "[encoded data removed]",
      "text/plain": [
       "<matplotlib.figure.Figure at 0x7f30f0fd56a0>"
      ]
     },
     "metadata": {},
     "output_type": "display_data"
    }
   ],
   "source": [
    "g = mask_gaussian(64, 64, pi/2)\n",
    "plt.imshow(g)"
   ]
  },
  {
   "cell_type": "code",
   "execution_count": 11,
   "metadata": {},
   "outputs": [
    {
     "data": {
      "text/plain": [
       "<matplotlib.image.AxesImage at 0x7f30eeb07d68>"
      ]
     },
     "execution_count": 11,
     "metadata": {},
     "output_type": "execute_result"
    },
    {
     "data": {
      "image/png": "[encoded data removed]",
      "text/plain": [
       "<matplotlib.figure.Figure at 0x7f30eebf7668>"
      ]
     },
     "metadata": {},
     "output_type": "display_data"
    }
   ],
   "source": [
    "plt.imshow(g > thresholds_max[0])"
   ]
  },
  {
   "cell_type": "code",
   "execution_count": 12,
   "metadata": {},
   "outputs": [
    {
     "data": {
      "text/plain": [
       "<matplotlib.image.AxesImage at 0x7f30eeaed780>"
      ]
     },
     "execution_count": 12,
     "metadata": {},
     "output_type": "execute_result"
    },
    {
     "data": {
      "image/png": "[encoded data removed]",
      "text/plain": [
       "<matplotlib.figure.Figure at 0x7f30f0fbfac8>"
      ]
     },
     "metadata": {},
     "output_type": "display_data"
    }
   ],
   "source": [
    "plt.imshow(g > thresholds_min[0])"
   ]
  },
  {
   "cell_type": "code",
   "execution_count": 18,
   "metadata": {
    "collapsed": true
   },
   "outputs": [],
   "source": [
    "def convert_dmap_to_smap(dmap, tmins, tmaxs):\n",
    "    BACKGROUND = 0\n",
    "    IGNORED = 1\n",
    "    \n",
    "    c = dmap.shape[-1]\n",
    "    \n",
    "    # Rescale between layer, due to different gaussians.\n",
    "    # Rescale is done so that the threshold on each layer is 1.\n",
    "    rescale = 1/np.asarray(tmins)\n",
    "    dscaled = dmap * rescale\n",
    "    \n",
    "    # Keep only one non-zero value per pixel\n",
    "    dmax = np.argmax(dscaled, axis=-1)\n",
    "    \n",
    "    # Final segmentation map\n",
    "    smap_all = np.zeros(dmap.shape[:2])\n",
    "    for i in range(c):\n",
    "        fg = dmap[...,i] >= tmins[i]\n",
    "        ig = np.logical_and(dmap[...,i] >= tmaxs[i], dmap[...,i] < tmins[i])\n",
    "        smap = fg * (i+2) + ig\n",
    "        # merge with full map\n",
    "        # Replace background pixels by anything else\n",
    "        mask_background = (smap_all == BACKGROUND)\n",
    "        # Ignored pixels can be replace only by sealion\n",
    "        mask_current_sealion_fg = smap > IGNORED\n",
    "        mask_ignored = (smap_all == IGNORED) & (mask_current_sealion_fg)\n",
    "        \n",
    "        # Pixels where i has the priority, can be replaced only by sealion\n",
    "        mask_priority = (dmax == i) & (mask_current_sealion_fg)\n",
    "        mask = mask_background | mask_ignored | mask_priority\n",
    "        smap_all[mask] = smap[mask]\n",
    "        \n",
    "    \n",
    "    # Relabel, so that sealion types have values in [0, 4], background = 5 and ignored=6\n",
    "    smap_all -= 2\n",
    "    smap_all[smap_all==-2] = 5\n",
    "    smap_all[smap_all==-1] = 6\n",
    "    return smap_all.astype(np.uint8)"
   ]
  },
  {
   "cell_type": "code",
   "execution_count": 14,
   "metadata": {
    "collapsed": true
   },
   "outputs": [],
   "source": [
    "smap = convert_dmap_to_smap(dmap, thresholds_min, thresholds_max)"
   ]
  },
  {
   "cell_type": "code",
   "execution_count": 15,
   "metadata": {},
   "outputs": [
    {
     "data": {
      "text/plain": [
       "(array([0, 2, 3, 5, 6], dtype=uint8),\n",
       " array([   1237,   13982,   24348, 1674087,  139211]))"
      ]
     },
     "execution_count": 15,
     "metadata": {},
     "output_type": "execute_result"
    }
   ],
   "source": [
    "np.unique(smap, return_counts=True)"
   ]
  },
  {
   "cell_type": "code",
   "execution_count": 16,
   "metadata": {},
   "outputs": [
    {
     "data": {
      "text/plain": [
       "<matplotlib.image.AxesImage at 0x7f30eea592e8>"
      ]
     },
     "execution_count": 16,
     "metadata": {},
     "output_type": "execute_result"
    },
    {
     "data": {
      "image/png": "[encoded data removed]",
      "text/plain": [
       "<matplotlib.figure.Figure at 0x7f30eea8e4e0>"
      ]
     },
     "metadata": {},
     "output_type": "display_data"
    }
   ],
   "source": [
    "plt.imshow(smap)"
   ]
  },
  {
   "cell_type": "code",
   "execution_count": 137,
   "metadata": {
    "collapsed": true
   },
   "outputs": [],
   "source": [
    "def convert_dmap_to_smap_fgbg(dmap, tmins, tmaxs):\n",
    "    c = dmap.shape[-1]\n",
    "    smap_all = np.zeros(dmap.shape[:2])\n",
    "    for i in range(c):\n",
    "        fg = dmap[...,i] >= tmins[i]\n",
    "        ig = np.logical_and(dmap[...,i] >= tmaxs[i], dmap[...,i] < tmins[i])\n",
    "        smap = fg * 2 + ig\n",
    "        smap_all = np.maximum(smap, smap_all)\n",
    "    smap_all[smap_all==1]=3\n",
    "    smap_all[smap_all==2]=1\n",
    "    smap_all[smap_all==3]=2\n",
    "    return smap_all.astype(np.uint8)"
   ]
  },
  {
   "cell_type": "code",
   "execution_count": 138,
   "metadata": {
    "collapsed": true
   },
   "outputs": [],
   "source": [
    "smap = convert_dmap_to_smap_fgbg(dmap, thresholds_min, thresholds_max)"
   ]
  },
  {
   "cell_type": "code",
   "execution_count": 139,
   "metadata": {},
   "outputs": [
    {
     "data": {
      "text/plain": [
       "<matplotlib.image.AxesImage at 0x7fb4508b39b0>"
      ]
     },
     "execution_count": 139,
     "metadata": {},
     "output_type": "execute_result"
    },
    {
     "data": {
      "image/png": "[encoded data removed]",
      "text/plain": [
       "<matplotlib.figure.Figure at 0x7fb45098a7f0>"
      ]
     },
     "metadata": {},
     "output_type": "display_data"
    }
   ],
   "source": [
    "plt.imshow(smap)"
   ]
  },
  {
   "cell_type": "code",
   "execution_count": 140,
   "metadata": {},
   "outputs": [
    {
     "data": {
      "text/plain": [
       "(array([0, 1, 2], dtype=uint8), array([1674087,   39567,  139211]))"
      ]
     },
     "execution_count": 140,
     "metadata": {},
     "output_type": "execute_result"
    }
   ],
   "source": [
    "np.unique(smap, return_counts=True)"
   ]
  },
  {
   "cell_type": "code",
   "execution_count": 55,
   "metadata": {
    "collapsed": true
   },
   "outputs": [],
   "source": [
    "def to_img(smap):\n",
    "    colors_rgb = [(0, 0, 0), (255, 255, 0), (0, 255, 0)]\n",
    "    im = np.zeros(smap.shape + (3, ), dtype=np.uint8)\n",
    "    for i in range(len(colors_rgb)):\n",
    "        im[smap==i, :] = colors_rgb[i]\n",
    "    return im"
   ]
  },
  {
   "cell_type": "code",
   "execution_count": 56,
   "metadata": {},
   "outputs": [
    {
     "data": {
      "text/plain": [
       "True"
      ]
     },
     "execution_count": 56,
     "metadata": {},
     "output_type": "execute_result"
    }
   ],
   "source": [
    "cv2.imwrite(\"../data/test.png\", to_img(smap))"
   ]
  },
  {
   "cell_type": "code",
   "execution_count": 57,
   "metadata": {},
   "outputs": [
    {
     "data": {
      "text/plain": [
       "<matplotlib.image.AxesImage at 0x7fb4512e89e8>"
      ]
     },
     "execution_count": 57,
     "metadata": {},
     "output_type": "execute_result"
    },
    {
     "data": {
      "image/png": "[encoded data removed]",
      "text/plain": [
       "<matplotlib.figure.Figure at 0x7fb44ec35320>"
      ]
     },
     "metadata": {},
     "output_type": "display_data"
    }
   ],
   "source": [
    "plt.imshow(to_img(smap))"
   ]
  },
  {
   "cell_type": "code",
   "execution_count": 44,
   "metadata": {},
   "outputs": [
    {
     "data": {
      "text/plain": [
       "<matplotlib.image.AxesImage at 0x7fb44ece4da0>"
      ]
     },
     "execution_count": 44,
     "metadata": {},
     "output_type": "execute_result"
    },
    {
     "data": {
      "image/png": "[encoded data removed]",
      "text/plain": [
       "<matplotlib.figure.Figure at 0x7fb44ed82710>"
      ]
     },
     "metadata": {},
     "output_type": "display_data"
    }
   ],
   "source": [
    "im = np.zeros(g.shape, dtype=np.uint8)\n",
    "e = ((g.shape[0]//2, g.shape[0]//2), (64, 64/2), 90)\n",
    "im = cv2.ellipse(im, e, color=(255, 255, 255), thickness=-1)\n",
    "plt.imshow(im)"
   ]
  },
  {
   "cell_type": "code",
   "execution_count": 59,
   "metadata": {
    "collapsed": true
   },
   "outputs": [],
   "source": [
    "import progressbar"
   ]
  },
  {
   "cell_type": "code",
   "execution_count": 141,
   "metadata": {},
   "outputs": [
    {
     "name": "stderr",
     "output_type": "stream",
     "text": [
      "100% (15168 of 15168) |###################| Elapsed Time: 1:43:56 Time: 1:43:56\n"
     ]
    }
   ],
   "source": [
    "dst_dir = \"../data/sealion/TrainEllipsesSegmentationIgnored\"\n",
    "src_dir = \"../data/sealion/TrainEllipseDensity\"\n",
    "os.makedirs(dst_dir, exist_ok=True)\n",
    "fns = os.listdir(src_dir)\n",
    "with progressbar.ProgressBar(max_value=len(fns)) as bar:\n",
    "    for i, fn in enumerate(fns):\n",
    "        dmap = np.load(os.path.join(src_dir, fn))[\"dmap\"]\n",
    "        smap = convert_dmap_to_smap(dmap, thresholds_min, thresholds_max)\n",
    "        np.savez_compressed(os.path.join(dst_dir, fn), smap=smap)\n",
    "        bar.update(i)"
   ]
  },
  {
   "cell_type": "code",
   "execution_count": null,
   "metadata": {
    "collapsed": true
   },
   "outputs": [],
   "source": []
  },
  {
   "cell_type": "markdown",
   "metadata": {},
   "source": [
    "# For circle guaussian density map"
   ]
  },
  {
   "cell_type": "code",
   "execution_count": 2,
   "metadata": {
    "collapsed": true
   },
   "outputs": [],
   "source": [
    "sealion_types = [\"adult_males\", \"subadult_males\", \"adult_females\", \"juveniles\", \"pups\"]"
   ]
  },
  {
   "cell_type": "code",
   "execution_count": 3,
   "metadata": {
    "collapsed": true
   },
   "outputs": [],
   "source": [
    "sealion_sizes_px = {\n",
    "    \"adult_males\": 72,\n",
    "    \"subadult_males\": 64,\n",
    "    \"adult_females\": 56,\n",
    "    \"juveniles\": 32,\n",
    "    \"pups\": 20\n",
    "}"
   ]
  },
  {
   "cell_type": "code",
   "execution_count": 6,
   "metadata": {
    "collapsed": true
   },
   "outputs": [],
   "source": [
    "expected_size_min = [28, 24, 20, 16, 10]\n",
    "expected_size_max = [120, 110, 90, 70, 36]"
   ]
  },
  {
   "cell_type": "code",
   "execution_count": 7,
   "metadata": {
    "collapsed": true
   },
   "outputs": [],
   "source": [
    "def gaussian2d(x, y, sx=1, sy=1, x0=0, y0=0, A=1):\n",
    "    sxx = 2 * sx * sx\n",
    "    syy = 2 * sy * sy\n",
    "    xc = x - x0\n",
    "    yc = y - y0\n",
    "    xcc = xc * xc\n",
    "    ycc = yc * yc\n",
    "    return A * np.exp(-(xcc/sxx + ycc/syy))"
   ]
  },
  {
   "cell_type": "code",
   "execution_count": 8,
   "metadata": {
    "collapsed": true
   },
   "outputs": [],
   "source": [
    "def mask_gaussian(size):\n",
    "    sigma = size / 3.0  # 97% of the gaussian in the size * size square\n",
    "    half = int((sigma * 5 ) * 2)  # to be sure that the limit of the mask have a value close to 0 (avoid artifact on density map)\n",
    "    im = np.zeros((2 * half + 1, 2 * half + 1), np.float32)\n",
    "    for y in range(-half, half + 1):\n",
    "        for x in range(-half, half + 1):\n",
    "            im[y + half, x + half] = gaussian2d(x, y, sigma, sigma, 0, 0, 1)\n",
    "    total_sum = np.sum(im)\n",
    "    im /= total_sum\n",
    "    return im"
   ]
  },
  {
   "cell_type": "code",
   "execution_count": 9,
   "metadata": {
    "collapsed": true
   },
   "outputs": [],
   "source": [
    "sealion_gaussian = {}\n",
    "for sealion, size in sealion_sizes_px.items():\n",
    "    sealion_gaussian[sealion] = mask_gaussian(size)"
   ]
  },
  {
   "cell_type": "code",
   "execution_count": 10,
   "metadata": {
    "collapsed": true
   },
   "outputs": [],
   "source": [
    "sealion_sizes = [sealion_sizes_px[t] for t in sealion_types]"
   ]
  },
  {
   "cell_type": "code",
   "execution_count": 11,
   "metadata": {
    "collapsed": true
   },
   "outputs": [],
   "source": [
    "sealion_masks = [sealion_gaussian[t] for t in sealion_types]"
   ]
  },
  {
   "cell_type": "code",
   "execution_count": 12,
   "metadata": {
    "collapsed": true
   },
   "outputs": [],
   "source": [
    "def get_threshold_values(expected_size, real_size):\n",
    "    thresholds = []\n",
    "    for s, r in zip(expected_size, real_size):\n",
    "        gaussian = mask_gaussian(s)\n",
    "        im = np.zeros(gaussian.shape, dtype=np.uint8)\n",
    "        e = ((gaussian.shape[1]//2, gaussian.shape[0]//2), (r, r), 90)\n",
    "        im = cv2.ellipse(im, e, color=(255, 255, 255), thickness=-1)\n",
    "        threshold = np.max(gaussian[im == 0])\n",
    "        thresholds.append(threshold)\n",
    "    return thresholds"
   ]
  },
  {
   "cell_type": "code",
   "execution_count": 13,
   "metadata": {
    "collapsed": true
   },
   "outputs": [],
   "source": [
    "tmaxs = get_threshold_values(sealion_sizes, expected_size_max)\n",
    "tmins = get_threshold_values(sealion_sizes, expected_size_min)"
   ]
  },
  {
   "cell_type": "code",
   "execution_count": 14,
   "metadata": {},
   "outputs": [
    {
     "data": {
      "text/plain": [
       "<matplotlib.image.AxesImage at 0x7f88206f90f0>"
      ]
     },
     "execution_count": 14,
     "metadata": {},
     "output_type": "execute_result"
    },
    {
     "data": {
      "image/png": "[encoded data removed]",
      "text/plain": [
       "<matplotlib.figure.Figure at 0x7f8852a36550>"
      ]
     },
     "metadata": {},
     "output_type": "display_data"
    }
   ],
   "source": [
    "plt.imshow(sealion_masks[0] > tmins[0])"
   ]
  },
  {
   "cell_type": "code",
   "execution_count": 15,
   "metadata": {
    "collapsed": true
   },
   "outputs": [],
   "source": [
    "dmap = np.load(\"../data/sealion/TrainDensity/873_5.npz\")[\"dmap\"]"
   ]
  },
  {
   "cell_type": "code",
   "execution_count": 19,
   "metadata": {},
   "outputs": [],
   "source": [
    "smap = convert_dmap_to_smap(dmap, tmins, tmaxs)"
   ]
  },
  {
   "cell_type": "code",
   "execution_count": 20,
   "metadata": {},
   "outputs": [
    {
     "data": {
      "text/plain": [
       "dtype('uint8')"
      ]
     },
     "execution_count": 20,
     "metadata": {},
     "output_type": "execute_result"
    }
   ],
   "source": [
    "smap.dtype"
   ]
  },
  {
   "cell_type": "code",
   "execution_count": 21,
   "metadata": {},
   "outputs": [
    {
     "data": {
      "text/plain": [
       "<matplotlib.image.AxesImage at 0x7f881e235630>"
      ]
     },
     "execution_count": 21,
     "metadata": {},
     "output_type": "execute_result"
    },
    {
     "data": {
      "image/png": "[encoded data removed]",
      "text/plain": [
       "<matplotlib.figure.Figure at 0x7f8822805c18>"
      ]
     },
     "metadata": {},
     "output_type": "display_data"
    }
   ],
   "source": [
    "plt.imshow(smap)"
   ]
  },
  {
   "cell_type": "markdown",
   "metadata": {
    "collapsed": true
   },
   "source": [
    "## Convert all dmaps"
   ]
  },
  {
   "cell_type": "code",
   "execution_count": 23,
   "metadata": {
    "collapsed": true
   },
   "outputs": [],
   "source": [
    "import progressbar"
   ]
  },
  {
   "cell_type": "code",
   "execution_count": 24,
   "metadata": {},
   "outputs": [
    {
     "name": "stderr",
     "output_type": "stream",
     "text": [
      "100% (15168 of 15168) |###################| Elapsed Time: 1:55:07 Time: 1:55:07\n"
     ]
    }
   ],
   "source": [
    "dst_dir = \"../data/sealion/TrainSegmentationIgnoredBlockB\"\n",
    "src_dir = \"../data/sealion/TrainDensity/\"\n",
    "os.makedirs(dst_dir, exist_ok=True)\n",
    "fns = os.listdir(src_dir)\n",
    "with progressbar.ProgressBar(0, len(fns)) as pbar:\n",
    "    for i, fn in enumerate(fns):\n",
    "        dmap = np.load(os.path.join(src_dir, fn))[\"dmap\"]\n",
    "        smap = convert_dmap_to_smap(dmap, tmins, tmaxs)\n",
    "        np.savez_compressed(os.path.join(dst_dir, fn), smap=smap)\n",
    "        pbar.update(i)"
   ]
  },
  {
   "cell_type": "code",
   "execution_count": 64,
   "metadata": {
    "collapsed": true
   },
   "outputs": [],
   "source": [
    "smap = np.load(\"../data/sealion/TrainSegmentationIgnoredBlockB/873_5.npz\")[\"smap\"]"
   ]
  },
  {
   "cell_type": "code",
   "execution_count": 65,
   "metadata": {},
   "outputs": [
    {
     "data": {
      "text/plain": [
       "<matplotlib.image.AxesImage at 0x7f30f0bd5208>"
      ]
     },
     "execution_count": 65,
     "metadata": {},
     "output_type": "execute_result"
    },
    {
     "data": {
      "image/png": "[encoded data removed]",
      "text/plain": [
       "<matplotlib.figure.Figure at 0x7f30f0d0eef0>"
      ]
     },
     "metadata": {},
     "output_type": "display_data"
    }
   ],
   "source": [
    "plt.imshow(smap)"
   ]
  },
  {
   "cell_type": "code",
   "execution_count": null,
   "metadata": {
    "collapsed": true
   },
   "outputs": [],
   "source": []
  }
 ],
 "metadata": {
  "kernelspec": {
   "display_name": "Python 3",
   "language": "python",
   "name": "python3"
  },
  "language_info": {
   "codemirror_mode": {
    "name": "ipython",
    "version": 3
   },
   "file_extension": ".py",
   "mimetype": "text/x-python",
   "name": "python",
   "nbconvert_exporter": "python",
   "pygments_lexer": "ipython3",
   "version": "3.5.2"
  }
 },
 "nbformat": 4,
 "nbformat_minor": 2
}
