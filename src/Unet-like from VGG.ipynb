{
 "cells": [
  {
   "cell_type": "code",
   "execution_count": 1,
   "metadata": {
    "collapsed": true
   },
   "outputs": [],
   "source": [
    "import numpy as np"
   ]
  },
  {
   "cell_type": "code",
   "execution_count": 2,
   "metadata": {
    "collapsed": true
   },
   "outputs": [],
   "source": [
    "np.random.seed(21)"
   ]
  },
  {
   "cell_type": "code",
   "execution_count": 3,
   "metadata": {},
   "outputs": [
    {
     "name": "stderr",
     "output_type": "stream",
     "text": [
      "Using TensorFlow backend.\n"
     ]
    }
   ],
   "source": [
    "import scipy.stats as st\n",
    "from keras.models import Model\n",
    "from keras.layers import Input, concatenate, Conv2D, MaxPooling2D, UpSampling2D, AveragePooling2D, Flatten, Dense, Lambda\n",
    "from keras.optimizers import Adam, SGD\n",
    "from keras.callbacks import ModelCheckpoint\n",
    "from keras import backend as K\n",
    "from keras.losses import mean_squared_error, mean_absolute_error, categorical_crossentropy, binary_crossentropy\n",
    "from keras.preprocessing.image import Iterator\n",
    "import matplotlib.pyplot as plt\n",
    "import cv2\n",
    "import os\n",
    "import json\n",
    "import pickle\n",
    "%matplotlib inline\n",
    "\n",
    "from keras.utils.np_utils import to_categorical\n",
    "\n",
    "from keras.layers import Reshape, BatchNormalization\n",
    "\n",
    "import tensorflow as tf\n",
    "sess = tf.Session()\n",
    "K.set_session(sess)"
   ]
  },
  {
   "cell_type": "code",
   "execution_count": 4,
   "metadata": {
    "collapsed": true
   },
   "outputs": [],
   "source": [
    "from keras.applications.vgg16 import VGG16, preprocess_input"
   ]
  },
  {
   "cell_type": "code",
   "execution_count": 7,
   "metadata": {},
   "outputs": [],
   "source": [
    "base_model = VGG16(include_top=False, weights='imagenet', input_shape=(512, 512, 3))"
   ]
  },
  {
   "cell_type": "code",
   "execution_count": 11,
   "metadata": {},
   "outputs": [
    {
     "name": "stdout",
     "output_type": "stream",
     "text": [
      "input_2 (None, 512, 512, 3)\n",
      "block1_conv1 (None, 512, 512, 64)\n",
      "block1_conv2 (None, 512, 512, 64)\n",
      "block1_pool (None, 256, 256, 64)\n",
      "block2_conv1 (None, 256, 256, 128)\n",
      "block2_conv2 (None, 256, 256, 128)\n",
      "block2_pool (None, 128, 128, 128)\n",
      "block3_conv1 (None, 128, 128, 256)\n",
      "block3_conv2 (None, 128, 128, 256)\n",
      "block3_conv3 (None, 128, 128, 256)\n",
      "block3_pool (None, 64, 64, 256)\n",
      "block4_conv1 (None, 64, 64, 512)\n",
      "block4_conv2 (None, 64, 64, 512)\n",
      "block4_conv3 (None, 64, 64, 512)\n",
      "block4_pool (None, 32, 32, 512)\n",
      "block5_conv1 (None, 32, 32, 512)\n",
      "block5_conv2 (None, 32, 32, 512)\n",
      "block5_conv3 (None, 32, 32, 512)\n",
      "block5_pool (None, 16, 16, 512)\n"
     ]
    }
   ],
   "source": [
    "for l in base_model.layers:\n",
    "    print(l.name, l.output_shape)"
   ]
  },
  {
   "cell_type": "code",
   "execution_count": 12,
   "metadata": {},
   "outputs": [
    {
     "data": {
      "text/plain": [
       "<keras.layers.convolutional.Conv2D at 0x7f65178faf98>"
      ]
     },
     "execution_count": 12,
     "metadata": {},
     "output_type": "execute_result"
    }
   ],
   "source": [
    "base_model.get_layer(name=\"block5_conv3\")"
   ]
  },
  {
   "cell_type": "code",
   "execution_count": 23,
   "metadata": {},
   "outputs": [],
   "source": [
    "def get_unet(vgg16):\n",
    "    # Up block 6\n",
    "    b4 = vgg16.get_layer(name=\"block4_conv3\").output # size 64x64\n",
    "    b5 = vgg16.get_layer(name=\"block5_conv3\").output # size 32x32\n",
    "    up6 = concatenate([UpSampling2D(size=(2, 2), name='up_b5')(b5), b4], axis=-1, name='concat_up6')\n",
    "    conv6 = Conv2D(512, (3, 3), activation='relu', padding='same', name='up6_conv1')(up6)\n",
    "    conv6 = Conv2D(512, (3, 3), activation='relu', padding='same', name='up6_conv2')(conv6)\n",
    "    \n",
    "    # Up block 7\n",
    "    b3 = vgg16.get_layer(name=\"block3_conv3\").output # size 128x128\n",
    "    up7 = concatenate([UpSampling2D(size=(2, 2), name='up_conv6')(conv6), b3], axis=-1, name='concat_up7')\n",
    "    conv7 = Conv2D(256, (3, 3), activation='relu', padding='same', name='up7_conv1')(up7)\n",
    "    conv7 = Conv2D(256, (3, 3), activation='relu', padding='same', name='up7_conv2')(conv7)\n",
    "    \n",
    "    # Up block 8\n",
    "    b2 = vgg16.get_layer(name=\"block2_conv2\").output # size 256x256\n",
    "    up8 = concatenate([UpSampling2D(size=(2, 2), name='up_conv7')(conv7), b2], axis=-1, name='concat_up8')\n",
    "    conv8 = Conv2D(128, (3, 3), activation='relu', padding='same', name='up8_conv1')(up8)\n",
    "    conv8 = Conv2D(128, (3, 3), activation='relu', padding='same', name='up8_conv2')(conv8)\n",
    "    \n",
    "    # Up block 9\n",
    "    b1 = vgg16.get_layer(name=\"block1_conv2\").output # size 512x512\n",
    "    up9 = concatenate([UpSampling2D(size=(2, 2), name='up_conv8')(conv8), b1], axis=-1, name='concat_up9')\n",
    "    conv9 = Conv2D(64, (3, 3), activation='relu', padding='same', name='up9_conv1')(up9)\n",
    "    conv9 = Conv2D(64, (3, 3), activation='relu', padding='same', name='up9_conv2')(conv9)\n",
    "    \n",
    "    # Classification layer\n",
    "    conv10 = Conv2D(1, (1, 1), activation='sigmoid', name='predictions')(conv9)\n",
    "\n",
    "    model = Model(inputs=[vgg16.input], outputs=[conv10], name='uvgg')\n",
    "\n",
    "    return model"
   ]
  },
  {
   "cell_type": "code",
   "execution_count": 24,
   "metadata": {},
   "outputs": [],
   "source": [
    "unet = get_unet(base_model)"
   ]
  },
  {
   "cell_type": "code",
   "execution_count": 27,
   "metadata": {},
   "outputs": [],
   "source": [
    "def set_upbranch_trainable(net):\n",
    "    first_up_layer = \"up_b5\"\n",
    "    \n",
    "    # All layers are trainable\n",
    "    for i, layer in enumerate(net.layers):\n",
    "        layer.trainable = True\n",
    "        \n",
    "    # Switch off the layer before first_up_layer\n",
    "    for i, layer in enumerate(net.layers):\n",
    "        if layer.name == first_up_layer:\n",
    "            break\n",
    "        layer.trainable = False"
   ]
  },
  {
   "cell_type": "code",
   "execution_count": 28,
   "metadata": {
    "collapsed": true
   },
   "outputs": [],
   "source": [
    "set_upbranch_trainable(unet)"
   ]
  },
  {
   "cell_type": "code",
   "execution_count": 29,
   "metadata": {},
   "outputs": [
    {
     "name": "stdout",
     "output_type": "stream",
     "text": [
      "_________________________________________________________________\n",
      "Layer (type)                 Output Shape              Param #   \n",
      "=================================================================\n",
      "input_2 (InputLayer)         (None, 512, 512, 3)       0         \n",
      "_________________________________________________________________\n",
      "block1_conv1 (Conv2D)        (None, 512, 512, 64)      1792      \n",
      "_________________________________________________________________\n",
      "block1_conv2 (Conv2D)        (None, 512, 512, 64)      36928     \n",
      "_________________________________________________________________\n",
      "block1_pool (MaxPooling2D)   (None, 256, 256, 64)      0         \n",
      "_________________________________________________________________\n",
      "block2_conv1 (Conv2D)        (None, 256, 256, 128)     73856     \n",
      "_________________________________________________________________\n",
      "block2_conv2 (Conv2D)        (None, 256, 256, 128)     147584    \n",
      "_________________________________________________________________\n",
      "block2_pool (MaxPooling2D)   (None, 128, 128, 128)     0         \n",
      "_________________________________________________________________\n",
      "block3_conv1 (Conv2D)        (None, 128, 128, 256)     295168    \n",
      "_________________________________________________________________\n",
      "block3_conv2 (Conv2D)        (None, 128, 128, 256)     590080    \n",
      "_________________________________________________________________\n",
      "block3_conv3 (Conv2D)        (None, 128, 128, 256)     590080    \n",
      "_________________________________________________________________\n",
      "block3_pool (MaxPooling2D)   (None, 64, 64, 256)       0         \n",
      "_________________________________________________________________\n",
      "block4_conv1 (Conv2D)        (None, 64, 64, 512)       1180160   \n",
      "_________________________________________________________________\n",
      "block4_conv2 (Conv2D)        (None, 64, 64, 512)       2359808   \n",
      "_________________________________________________________________\n",
      "block4_conv3 (Conv2D)        (None, 64, 64, 512)       2359808   \n",
      "_________________________________________________________________\n",
      "block4_pool (MaxPooling2D)   (None, 32, 32, 512)       0         \n",
      "_________________________________________________________________\n",
      "block5_conv1 (Conv2D)        (None, 32, 32, 512)       2359808   \n",
      "_________________________________________________________________\n",
      "block5_conv2 (Conv2D)        (None, 32, 32, 512)       2359808   \n",
      "_________________________________________________________________\n",
      "block5_conv3 (Conv2D)        (None, 32, 32, 512)       2359808   \n",
      "_________________________________________________________________\n",
      "up_b5 (UpSampling2D)         (None, 64, 64, 512)       0         \n",
      "_________________________________________________________________\n",
      "concat_up6 (Concatenate)     (None, 64, 64, 1024)      0         \n",
      "_________________________________________________________________\n",
      "up6_conv1 (Conv2D)           (None, 64, 64, 512)       4719104   \n",
      "_________________________________________________________________\n",
      "up6_conv2 (Conv2D)           (None, 64, 64, 512)       2359808   \n",
      "_________________________________________________________________\n",
      "up_conv6 (UpSampling2D)      (None, 128, 128, 512)     0         \n",
      "_________________________________________________________________\n",
      "concat_up7 (Concatenate)     (None, 128, 128, 768)     0         \n",
      "_________________________________________________________________\n",
      "up7_conv1 (Conv2D)           (None, 128, 128, 256)     1769728   \n",
      "_________________________________________________________________\n",
      "up7_conv2 (Conv2D)           (None, 128, 128, 256)     590080    \n",
      "_________________________________________________________________\n",
      "up_conv7 (UpSampling2D)      (None, 256, 256, 256)     0         \n",
      "_________________________________________________________________\n",
      "concat_up8 (Concatenate)     (None, 256, 256, 384)     0         \n",
      "_________________________________________________________________\n",
      "up8_conv1 (Conv2D)           (None, 256, 256, 128)     442496    \n",
      "_________________________________________________________________\n",
      "up8_conv2 (Conv2D)           (None, 256, 256, 128)     147584    \n",
      "_________________________________________________________________\n",
      "up_conv8 (UpSampling2D)      (None, 512, 512, 128)     0         \n",
      "_________________________________________________________________\n",
      "concat_up9 (Concatenate)     (None, 512, 512, 192)     0         \n",
      "_________________________________________________________________\n",
      "up9_conv1 (Conv2D)           (None, 512, 512, 64)      110656    \n",
      "_________________________________________________________________\n",
      "up9_conv2 (Conv2D)           (None, 512, 512, 64)      36928     \n",
      "_________________________________________________________________\n",
      "predictions (Conv2D)         (None, 512, 512, 1)       65        \n",
      "=================================================================\n",
      "Total params: 24,891,137\n",
      "Trainable params: 10,176,449\n",
      "Non-trainable params: 14,714,688\n",
      "_________________________________________________________________\n"
     ]
    }
   ],
   "source": [
    "unet.summary()"
   ]
  },
  {
   "cell_type": "code",
   "execution_count": 30,
   "metadata": {
    "collapsed": true
   },
   "outputs": [],
   "source": [
    "t = np.ones((1, 512, 512, 3))"
   ]
  },
  {
   "cell_type": "code",
   "execution_count": 32,
   "metadata": {},
   "outputs": [],
   "source": [
    "pred = unet.predict(t)"
   ]
  },
  {
   "cell_type": "code",
   "execution_count": 35,
   "metadata": {},
   "outputs": [
    {
     "data": {
      "text/plain": [
       "(1, 512, 512, 1)"
      ]
     },
     "execution_count": 35,
     "metadata": {},
     "output_type": "execute_result"
    }
   ],
   "source": [
    "pred.shape"
   ]
  },
  {
   "cell_type": "code",
   "execution_count": 38,
   "metadata": {},
   "outputs": [
    {
     "data": {
      "text/plain": [
       "array([[[[ 0.74984145],\n",
       "         [ 0.58801162],\n",
       "         [ 0.35666171],\n",
       "         ..., \n",
       "         [ 0.55628794],\n",
       "         [ 0.45394763],\n",
       "         [ 0.44730231]],\n",
       "\n",
       "        [[ 0.60307133],\n",
       "         [ 0.62441736],\n",
       "         [ 0.51935965],\n",
       "         ..., \n",
       "         [ 0.79287606],\n",
       "         [ 0.55512154],\n",
       "         [ 0.5009048 ]],\n",
       "\n",
       "        [[ 0.75383055],\n",
       "         [ 0.81266803],\n",
       "         [ 0.63584429],\n",
       "         ..., \n",
       "         [ 0.80299765],\n",
       "         [ 0.81550181],\n",
       "         [ 0.57619536]],\n",
       "\n",
       "        ..., \n",
       "        [[ 0.51956791],\n",
       "         [ 0.62349391],\n",
       "         [ 0.66414857],\n",
       "         ..., \n",
       "         [ 0.5861339 ],\n",
       "         [ 0.75598401],\n",
       "         [ 0.62304574]],\n",
       "\n",
       "        [[ 0.56571239],\n",
       "         [ 0.73759127],\n",
       "         [ 0.80495197],\n",
       "         ..., \n",
       "         [ 0.54190105],\n",
       "         [ 0.74655753],\n",
       "         [ 0.69746721]],\n",
       "\n",
       "        [[ 0.50169009],\n",
       "         [ 0.55073017],\n",
       "         [ 0.57604331],\n",
       "         ..., \n",
       "         [ 0.49234334],\n",
       "         [ 0.80426341],\n",
       "         [ 0.83037263]]]], dtype=float32)"
      ]
     },
     "execution_count": 38,
     "metadata": {},
     "output_type": "execute_result"
    }
   ],
   "source": [
    "pred"
   ]
  },
  {
   "cell_type": "code",
   "execution_count": 37,
   "metadata": {},
   "outputs": [
    {
     "data": {
      "text/plain": [
       "<matplotlib.image.AxesImage at 0x7f64b0bee748>"
      ]
     },
     "execution_count": 37,
     "metadata": {},
     "output_type": "execute_result"
    },
    {
     "data": {
      "image/png": "[encoded data removed]",
      "text/plain": [
       "<matplotlib.figure.Figure at 0x7f64b0c0dcf8>"
      ]
     },
     "metadata": {},
     "output_type": "display_data"
    }
   ],
   "source": [
    "plt.imshow(pred[0, :, :, 0])"
   ]
  },
  {
   "cell_type": "code",
   "execution_count": null,
   "metadata": {
    "collapsed": true
   },
   "outputs": [],
   "source": []
  },
  {
   "cell_type": "code",
   "execution_count": null,
   "metadata": {
    "collapsed": true
   },
   "outputs": [],
   "source": []
  }
 ],
 "metadata": {
  "kernelspec": {
   "display_name": "Python 3",
   "language": "python",
   "name": "python3"
  },
  "language_info": {
   "codemirror_mode": {
    "name": "ipython",
    "version": 3
   },
   "file_extension": ".py",
   "mimetype": "text/x-python",
   "name": "python",
   "nbconvert_exporter": "python",
   "pygments_lexer": "ipython3",
   "version": "3.5.2"
  }
 },
 "nbformat": 4,
 "nbformat_minor": 2
}
