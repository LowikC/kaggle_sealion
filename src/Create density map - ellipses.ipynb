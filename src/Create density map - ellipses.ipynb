{
 "cells": [
  {
   "cell_type": "code",
   "execution_count": 10,
   "metadata": {
    "collapsed": true
   },
   "outputs": [],
   "source": [
    "import numpy as np\n",
    "import matplotlib.pyplot as plt\n",
    "import pickle\n",
    "import cv2\n",
    "import os\n",
    "from math import cos, sin, pi, sqrt\n",
    "from math import radians\n",
    "%matplotlib inline"
   ]
  },
  {
   "cell_type": "code",
   "execution_count": 5,
   "metadata": {
    "collapsed": true
   },
   "outputs": [],
   "source": [
    "sealion_types = [\"adult_males\", \n",
    "    \"subadult_males\",\n",
    "    \"adult_females\",\n",
    "    \"juveniles\",\n",
    "    \"pups\"]"
   ]
  },
  {
   "cell_type": "code",
   "execution_count": 6,
   "metadata": {
    "collapsed": true
   },
   "outputs": [],
   "source": [
    "sealion_probabilities = {'adult_females': 0.048142699511667254,\n",
    " 'adult_males': 0.3351506883474506,\n",
    " 'juveniles': 0.089826648353188876,\n",
    " 'pups': 0.11096914409391793,\n",
    " 'subadult_males': 0.41591081969377525}"
   ]
  },
  {
   "cell_type": "code",
   "execution_count": 7,
   "metadata": {
    "collapsed": true
   },
   "outputs": [],
   "source": [
    "def gaussian2d_gen(x, y, theta, sx=1, sy=1, x0=0, y0=0, A=1):\n",
    "    \"\"\" See https://fr.wikipedia.org/wiki/Fonction_gaussienne\n",
    "    \"\"\"    \n",
    "    assert(sx != 0)\n",
    "    assert(sy != 0)\n",
    "    a = (cos(theta)**2) / (2 * sx**2) + (sin(theta)** 2)/ (2 * sy**2)\n",
    "    b = -sin(2 * theta)/ (4 * sx**2) + sin(2 * theta) / (4 * sy**2)\n",
    "    c = (sin(theta)**2) / (2 * sx**2) + (cos(theta)** 2)/ (2 * sy**2)\n",
    "    dx = x - x0\n",
    "    dy = y - y0\n",
    "    \n",
    "    return A * np.exp(-(a * dx**2 + 2 * b * dx * dy + c * dy**2))"
   ]
  },
  {
   "cell_type": "code",
   "execution_count": 8,
   "metadata": {
    "collapsed": true
   },
   "outputs": [],
   "source": [
    "def mask_gaussian(major, minor, theta):\n",
    "    \"\"\" See http://www.visiondummy.com/2014/04/draw-error-ellipse-representing-covariance-matrix/ for the 5.991\n",
    "    \"\"\"\n",
    "    df = 4.605 #5.991\n",
    "    sigma_x = major/(2 * sqrt(df))\n",
    "    sigma_y = minor/(2 * sqrt(df))\n",
    "    half = int((max(sigma_x, sigma_y) * 3.5 ))  # to be sure that the limit of the mask have a value close to 0 (avoid artifact on density map)\n",
    "    im = np.zeros((2 * half + 1, 2 * half + 1), np.float32)\n",
    "    for y in range(-half, half + 1):\n",
    "        for x in range(-half, half + 1):\n",
    "            im[y + half, x + half] = gaussian2d_gen(x, y, theta, sigma_x, sigma_y, 0, 0, 1)\n",
    "    total_sum = np.sum(im)\n",
    "    im /= total_sum\n",
    "    return im"
   ]
  },
  {
   "cell_type": "code",
   "execution_count": 18,
   "metadata": {
    "collapsed": true
   },
   "outputs": [],
   "source": [
    "def create_ellipse_density_map(shape, ellipses):\n",
    "    dmap = np.zeros(shape + (len(sealion_types),), np.float32)\n",
    "    \n",
    "    for tid, es in enumerate(ellipses):\n",
    "        for ((xc, yc), (major, minor), theta_deg) in es:                \n",
    "            theta_deg = -theta_deg # because axis are not the same for the opencv ellipse\n",
    "            theta_rad = radians(theta_deg)\n",
    "            mask = mask_gaussian(major, minor, theta_rad)\n",
    "    \n",
    "            hmask, wmask = mask.shape\n",
    "            hmask2 = hmask//2\n",
    "            wmask2 = wmask//2\n",
    "            \n",
    "            xc = int(round(xc))\n",
    "            yc = int(round(yc))\n",
    "            xmin = max(0, xc - wmask2)\n",
    "            xmax = min(dmap.shape[1] - 1, xc + wmask2)\n",
    "            ymin = max(0, yc - hmask2)\n",
    "            ymax = min(dmap.shape[0] - 1, yc + hmask2)\n",
    "\n",
    "            dy_top = yc - ymin\n",
    "            dy_bottom = ymax - yc\n",
    "            dx_left = xc - xmin\n",
    "            dx_right = xmax - xc\n",
    "            dmap[ymin:ymax+1, xmin:xmax+1, tid] += mask[hmask2 - dy_top: hmask2 + dy_bottom + 1,\\\n",
    "                                                         wmask2 - dx_left: wmask2 + dx_right + 1] \n",
    "    return dmap.astype(np.float32)"
   ]
  },
  {
   "cell_type": "code",
   "execution_count": 19,
   "metadata": {
    "collapsed": true
   },
   "outputs": [],
   "source": [
    "def split_in_blocks(im_raw, dmap, n_blocks=(4,4), overlap=(448,448)):\n",
    "    h, w = im_raw.shape[:2]\n",
    "    w_block = (w + (n_blocks[1] - 1) * overlap[1]) // n_blocks[1]\n",
    "    h_block = (h + (n_blocks[0] - 1) * overlap[0]) // n_blocks[0]\n",
    "    \n",
    "    if (w + (n_blocks[1] - 1) * overlap[1]) % n_blocks[1] != 0 or \\\n",
    "        (h + (n_blocks[0] - 1) * overlap[0]) % n_blocks[0] != 0:\n",
    "            print(\"Warning: check the number of blocks and overlap\")\n",
    "            \n",
    "    for by in range(n_blocks[0]):\n",
    "        y_start = by * (h_block - overlap[0])\n",
    "        y_end = y_start + h_block + 1\n",
    "        for bx in range(n_blocks[1]):\n",
    "            x_start = bx * (w_block - overlap[1])\n",
    "            x_end = x_start + w_block + 1\n",
    "            yield im_raw[y_start:y_end, x_start:x_end,...], dmap[y_start:y_end, x_start:x_end,...]"
   ]
  },
  {
   "cell_type": "code",
   "execution_count": 20,
   "metadata": {
    "collapsed": true
   },
   "outputs": [],
   "source": [
    "def generate_training_blocks(root_dir):\n",
    "    raw_dir = os.path.join(root_dir, \"Train\")\n",
    "    ellipses_dir = os.path.join(root_dir, \"TrainEllipses\")\n",
    "    mask_dir = os.path.join(root_dir, \"TrainMask\")\n",
    "    dmap_dir = os.path.join(root_dir, \"TrainEllipseDensity\")\n",
    "    block_dir = os.path.join(root_dir, \"TrainBlock\")\n",
    "    \n",
    "    os.makedirs(dmap_dir, exist_ok=True)\n",
    "    os.makedirs(block_dir, exist_ok=True)\n",
    "    \n",
    "    for filename in os.listdir(raw_dir):\n",
    "        if not filename.endswith(\".jpg\"):\n",
    "            continue\n",
    "        \n",
    "        train_id, _ = os.path.splitext(filename)\n",
    "        # load the raw image, mask and dots\n",
    "        im_raw = cv2.imread(os.path.join(raw_dir, filename))\n",
    "        im_mask = cv2.imread(os.path.join(mask_dir, train_id + \".png\"), cv2.IMREAD_GRAYSCALE)\n",
    "        with open(os.path.join(ellipses_dir, train_id + \".pkl\"), \"rb\") as pfile:\n",
    "            ellipses = pickle.load(pfile)\n",
    "            \n",
    "        # Create the density map and sampling map\n",
    "        dmap = create_ellipse_density_map(im_raw.shape[:2], ellipses)\n",
    "        \n",
    "        # Apply mask on all\n",
    "        im_raw[im_mask==0, ...] = 0\n",
    "        dmap[im_mask==0, ...] = 0\n",
    "        \n",
    "        # Generate blocks and save them\n",
    "        for i, (braw, bdmap) in enumerate(split_in_blocks(im_raw, dmap)):\n",
    "            cv2.imwrite(os.path.join(block_dir, \"{tid}_{bid}.jpg\".format(tid=train_id, bid=i)), braw)\n",
    "            np.savez_compressed(os.path.join(dmap_dir, \"{tid}_{bid}.npz\".format(tid=train_id, bid=i)), dmap=bdmap)"
   ]
  },
  {
   "cell_type": "code",
   "execution_count": 36,
   "metadata": {},
   "outputs": [
    {
     "name": "stdout",
     "output_type": "stream",
     "text": [
      "(3335, 2376) (21.564124469882767, 48.0) -9.865806579589844\n",
      "(3335, 2376) (21.564124469882767, 48.0) -9.865806579589844\n",
      "(3357, 2370) (48.0, 42.66666343401501) -74.05460357666016\n",
      "(3357, 2370) (48.0, 42.66666343401501) -74.05460357666016\n",
      "(3346, 2386) (28.0, 24.0) -0.0\n",
      "(3346, 2386) (28.0, 24.0) -0.0\n",
      "(3355, 2368) (33.6271186440678, 64.0) -0.0\n",
      "(3355, 2368) (33.6271186440678, 64.0) -0.0\n",
      "(3343, 2364) (34.11764705882353, 60.0) -0.0\n",
      "(3343, 2364) (34.11764705882353, 60.0) -0.0\n",
      "(3335, 2371) (48.0, 36.0) -0.0\n",
      "(3335, 2371) (48.0, 36.0) -0.0\n",
      "(3348, 2377) (38.07234549369641, 78.0) -60.524105072021484\n",
      "(3348, 2377) (38.07234549369641, 78.0) -60.524105072021484\n",
      "(3359, 2373) (53.68421052631579, 60.0) -0.0\n",
      "(3359, 2373) (53.68421052631579, 60.0) -0.0\n"
     ]
    }
   ],
   "source": [
    "generate_training_blocks(\"/home/lowik/sealion/data/sealion/\")"
   ]
  },
  {
   "cell_type": "code",
   "execution_count": 33,
   "metadata": {
    "collapsed": true
   },
   "outputs": [],
   "source": [
    "def show_density(im, density):\n",
    "    max_density = np.max(density)\n",
    "    normalized_density = density/max_density\n",
    "    im_fp32 = im.astype(np.float32)\n",
    "    im_masked = im_fp32.copy()\n",
    "    im_masked[:,:,0] = (im_fp32[:,:,0] * normalized_density)\n",
    "    im_masked[:,:,1] = (im_fp32[:,:,1] * normalized_density)\n",
    "    im_masked[:,:,2] = (im_fp32[:,:,2] * normalized_density)\n",
    "    return im_masked.astype(np.uint8), (normalized_density * 255).astype(np.uint8)"
   ]
  },
  {
   "cell_type": "code",
   "execution_count": 22,
   "metadata": {
    "collapsed": true
   },
   "outputs": [],
   "source": [
    "with open(\"../data/sealion/TrainEllipses/868.pkl\", \"rb\") as ifile:\n",
    "    ellipses = pickle.load(ifile)"
   ]
  },
  {
   "cell_type": "code",
   "execution_count": 23,
   "metadata": {
    "collapsed": true
   },
   "outputs": [],
   "source": [
    "im_train = cv2.imread(\"../data/sealion/TrainBlock/868_5.jpg\")"
   ]
  },
  {
   "cell_type": "code",
   "execution_count": 24,
   "metadata": {
    "collapsed": true
   },
   "outputs": [],
   "source": [
    "dmap = np.load(\"../data/sealion/TrainEllipseDensity/868_5.npz\")[\"dmap\"]"
   ]
  },
  {
   "cell_type": "code",
   "execution_count": 29,
   "metadata": {
    "collapsed": true
   },
   "outputs": [],
   "source": [
    "dmap = np.sum(dmap, axis=-1)"
   ]
  },
  {
   "cell_type": "code",
   "execution_count": 31,
   "metadata": {},
   "outputs": [
    {
     "data": {
      "text/plain": [
       "52.943577"
      ]
     },
     "execution_count": 31,
     "metadata": {},
     "output_type": "execute_result"
    }
   ],
   "source": [
    "np.sum(dmap)"
   ]
  },
  {
   "cell_type": "code",
   "execution_count": 30,
   "metadata": {},
   "outputs": [
    {
     "data": {
      "text/plain": [
       "<matplotlib.image.AxesImage at 0x7fd0461ddc50>"
      ]
     },
     "execution_count": 30,
     "metadata": {},
     "output_type": "execute_result"
    },
    {
     "data": {
      "image/png": "[encoded data removed]",
      "text/plain": [
       "<matplotlib.figure.Figure at 0x7fd046287be0>"
      ]
     },
     "metadata": {},
     "output_type": "display_data"
    }
   ],
   "source": [
    "plt.imshow(dmap)"
   ]
  },
  {
   "cell_type": "code",
   "execution_count": 34,
   "metadata": {
    "collapsed": true
   },
   "outputs": [],
   "source": [
    "im_density, mask_density = show_density(im_train, dmap)"
   ]
  },
  {
   "cell_type": "code",
   "execution_count": 35,
   "metadata": {},
   "outputs": [
    {
     "data": {
      "text/plain": [
       "True"
      ]
     },
     "execution_count": 35,
     "metadata": {},
     "output_type": "execute_result"
    }
   ],
   "source": [
    "cv2.imwrite(\"../data/imk.png\", im_density)\n",
    "cv2.imwrite(\"../data/kk.png\", mask_density)"
   ]
  },
  {
   "cell_type": "code",
   "execution_count": null,
   "metadata": {
    "collapsed": true
   },
   "outputs": [],
   "source": []
  }
 ],
 "metadata": {
  "kernelspec": {
   "display_name": "Python 3",
   "language": "python",
   "name": "python3"
  },
  "language_info": {
   "codemirror_mode": {
    "name": "ipython",
    "version": 3
   },
   "file_extension": ".py",
   "mimetype": "text/x-python",
   "name": "python",
   "nbconvert_exporter": "python",
   "pygments_lexer": "ipython3",
   "version": "3.5.2"
  }
 },
 "nbformat": 4,
 "nbformat_minor": 2
}
