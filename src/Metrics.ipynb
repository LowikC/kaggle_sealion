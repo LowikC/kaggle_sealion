{
 "cells": [
  {
   "cell_type": "code",
   "execution_count": null,
   "metadata": {
    "collapsed": true
   },
   "outputs": [],
   "source": [
    "import numpy as np\n",
    "import keras.backend as K\n",
    "import tensorflow as tf"
   ]
  },
  {
   "cell_type": "code",
   "execution_count": null,
   "metadata": {
    "collapsed": true
   },
   "outputs": [],
   "source": [
    "sess = tf.Session()\n",
    "K.set_session(sess)"
   ]
  },
  {
   "cell_type": "code",
   "execution_count": null,
   "metadata": {},
   "outputs": [],
   "source": [
    "y_true = K.constant(np.random.randn(10, 5, 5, 4))\n",
    "y_pred = K.constant(np.random.randn(10, 5, 5, 4))"
   ]
  },
  {
   "cell_type": "code",
   "execution_count": null,
   "metadata": {
    "collapsed": true
   },
   "outputs": [],
   "source": [
    "def count_rmse(y_true, y_pred):\n",
    "    \"\"\" Compute the count rmse from the gt and predicted density map.\n",
    "    :param y_true: Groundtruth density map, 4D tensor of shape (n_samples, height, width, types of sealion)\n",
    "    :param y_pred: Predicted density map, 4D tensor of shape (n_samples, height, width, types of sealion)\n",
    "    :return A Tensor of shape () (single value), with the RMSE(y_true, y_pred), averaged over the columns.\n",
    "    \"\"\"\n",
    "    # shape is (n_samples, height, width, types of sealion)\n",
    "    # we want to reduce it to (n_samples, types of sealion)\n",
    "    # We don't round the counts, as it will be called on patches, with probably non-integer sum over the density map.\n",
    "    counts_true = K.sum(K.sum(y_true, axis=1), axis=1)\n",
    "    counts_pred = K.sum(K.sum(y_pred, axis=1), axis=1)\n",
    "    rmse_per_column = K.sqrt(K.mean(K.square(counts_pred - counts_true), axis=0))\n",
    "    rmse = K.mean(rmse_per_column)\n",
    "    return rmse"
   ]
  },
  {
   "cell_type": "code",
   "execution_count": null,
   "metadata": {},
   "outputs": [],
   "source": [
    "with sess.as_default():\n",
    "    print(count_rmse(y_true, y_pred).eval())"
   ]
  }
 ],
 "metadata": {
  "kernelspec": {
   "display_name": "Python 3",
   "language": "python",
   "name": "python3"
  },
  "language_info": {
   "codemirror_mode": {
    "name": "ipython",
    "version": 3
   },
   "file_extension": ".py",
   "mimetype": "text/x-python",
   "name": "python",
   "nbconvert_exporter": "python",
   "pygments_lexer": "ipython3",
   "version": "3.5.2"
  }
 },
 "nbformat": 4,
 "nbformat_minor": 2
}
